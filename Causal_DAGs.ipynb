{
 "cells": [
  {
   "cell_type": "code",
   "execution_count": 1,
   "metadata": {},
   "outputs": [],
   "source": [
    "from scipy import stats\n",
    "import matplotlib.pyplot as plt\n",
    "import pymc3 as pm\n",
    "import arviz as az\n",
    "import seaborn as sns\n",
    "import numpy as np\n",
    "import pandas as pd\n",
    "from causalgraphicalmodels import CausalGraphicalModel\n",
    "import daft"
   ]
  },
  {
   "cell_type": "markdown",
   "metadata": {},
   "source": [
    "All the text quoted are from the book [Statistical Rethinking by Richard McElreath](https://xcelab.net/rm/statistical-rethinking/) chapter 6.\n",
    "\n",
    "The snippet code for the DAG display, backdoor path and contitional independecies are all credited to [Kapil Sachdeva](https://ksachdeva.github.io/rethinking-tensorflow-probability/)"
   ]
  },
  {
   "cell_type": "markdown",
   "metadata": {},
   "source": [
    "## The Fork\n",
    "In a fork a variable confounds others. \n",
    "In the example below, **C** cofounds **A** and **B**. And that means that if we want to learn **B** then **A** tells nothing about it when we condition on **C**.\n",
    "<br>\n",
    "<br>\n",
    "**A** and **B** are independent, conditional on **C**.<br>\n",
    "Conditioning on **C** blocks the path between **A** and **B**."
   ]
  },
  {
   "cell_type": "code",
   "execution_count": 2,
   "metadata": {},
   "outputs": [
    {
     "data": {
      "image/png": "[encoded data removed]",
      "text/plain": [
       "<Figure size 153.071x96.378 with 1 Axes>"
      ]
     },
     "metadata": {},
     "output_type": "display_data"
    }
   ],
   "source": [
    "# the fork\n",
    "dag_fork = CausalGraphicalModel(\n",
    "    nodes=[\"A\", \"B\", \"C\"], edges=[(\"C\", \"A\"), (\"C\", \"B\")]\n",
    ")\n",
    "\n",
    "pgm = daft.PGM()\n",
    "coordinates = {\"A\":(0, 1), \"C\":(1, 0), \"B\":(2, 1)}\n",
    "\n",
    "for node in dag_fork.dag.nodes:\n",
    "    pgm.add_node(node, node, *coordinates[node])\n",
    "for edge in dag_fork.dag.edges:\n",
    "    pgm.add_edge(*edge)\n",
    "pgm.render();"
   ]
  },
  {
   "cell_type": "markdown",
   "metadata": {},
   "source": [
    "Lets run 2 simulations to see how the fork works. \n",
    "<br>\n",
    "First we need to simulate some data."
   ]
  },
  {
   "cell_type": "code",
   "execution_count": 3,
   "metadata": {},
   "outputs": [],
   "source": [
    "SAMP_SIZE = 100\n",
    "\n",
    "np.random.seed(89)\n",
    "C = stats.norm.rvs(size=SAMP_SIZE) \n",
    "B = stats.norm.rvs(C)\n",
    "A = stats.norm.rvs(C)\n",
    "\n",
    "df = pd.DataFrame.from_dict({\"A\": A, \"B\": B, \"C\": C})"
   ]
  },
  {
   "cell_type": "markdown",
   "metadata": {},
   "source": [
    "Regressing **B** on **A** we have:"
   ]
  },
  {
   "cell_type": "code",
   "execution_count": 4,
   "metadata": {},
   "outputs": [
    {
     "name": "stderr",
     "output_type": "stream",
     "text": [
      "Auto-assigning NUTS sampler...\n",
      "Initializing NUTS using jitter+adapt_diag...\n",
      "Multiprocess sampling (4 chains in 4 jobs)\n",
      "NUTS: [sigma, bA, a]\n",
      "Sampling 4 chains, 0 divergences: 100%|██████████| 4000/4000 [00:00<00:00, 6518.92draws/s]\n"
     ]
    }
   ],
   "source": [
    "with pm.Model() as m_fork:\n",
    "    a = pm.Normal('a', mu=0, sigma=1)\n",
    "    bA = pm.Normal('bA', mu=0, sigma=1)\n",
    "    \n",
    "    mu = a + bA*df.A\n",
    "    sigma = pm.Exponential('sigma', 1)\n",
    "    \n",
    "    B = pm.Normal('B', mu=mu, sigma=sigma, observed=df.B)\n",
    "    \n",
    "    m_fork_trace = pm.sample()"
   ]
  },
  {
   "cell_type": "code",
   "execution_count": 5,
   "metadata": {
    "scrolled": true
   },
   "outputs": [
    {
     "name": "stderr",
     "output_type": "stream",
     "text": [
      "/home/elisio/anaconda3/lib/python3.7/site-packages/arviz/data/io_pymc3.py:91: FutureWarning: Using `from_pymc3` without the model will be deprecated in a future release. Not using the model will return less accurate and less useful results. Make sure you use the model argument or call from_pymc3 within a model context.\n",
      "  FutureWarning,\n"
     ]
    },
    {
     "data": {
      "text/html": [
       "<div>\n",
       "<style scoped>\n",
       "    .dataframe tbody tr th:only-of-type {\n",
       "        vertical-align: middle;\n",
       "    }\n",
       "\n",
       "    .dataframe tbody tr th {\n",
       "        vertical-align: top;\n",
       "    }\n",
       "\n",
       "    .dataframe thead th {\n",
       "        text-align: right;\n",
       "    }\n",
       "</style>\n",
       "<table border=\"1\" class=\"dataframe\">\n",
       "  <thead>\n",
       "    <tr style=\"text-align: right;\">\n",
       "      <th></th>\n",
       "      <th>mean</th>\n",
       "      <th>sd</th>\n",
       "      <th>hdi_3%</th>\n",
       "      <th>hdi_97%</th>\n",
       "    </tr>\n",
       "  </thead>\n",
       "  <tbody>\n",
       "    <tr>\n",
       "      <th>a</th>\n",
       "      <td>-0.14</td>\n",
       "      <td>0.13</td>\n",
       "      <td>-0.41</td>\n",
       "      <td>0.10</td>\n",
       "    </tr>\n",
       "    <tr>\n",
       "      <th>bA</th>\n",
       "      <td>0.45</td>\n",
       "      <td>0.09</td>\n",
       "      <td>0.28</td>\n",
       "      <td>0.62</td>\n",
       "    </tr>\n",
       "    <tr>\n",
       "      <th>sigma</th>\n",
       "      <td>1.28</td>\n",
       "      <td>0.09</td>\n",
       "      <td>1.12</td>\n",
       "      <td>1.45</td>\n",
       "    </tr>\n",
       "  </tbody>\n",
       "</table>\n",
       "</div>"
      ],
      "text/plain": [
       "       mean    sd  hdi_3%  hdi_97%\n",
       "a     -0.14  0.13   -0.41     0.10\n",
       "bA     0.45  0.09    0.28     0.62\n",
       "sigma  1.28  0.09    1.12     1.45"
      ]
     },
     "execution_count": 5,
     "metadata": {},
     "output_type": "execute_result"
    }
   ],
   "source": [
    "az.summary(m_fork_trace, round_to=2, kind=\"stats\")"
   ]
  },
  {
   "cell_type": "markdown",
   "metadata": {},
   "source": [
    "We can see by the coeficient **bA** that **A** has some positive correlation with **B**.  "
   ]
  },
  {
   "cell_type": "markdown",
   "metadata": {},
   "source": [
    "Regressing **B** on **A** and **C**:"
   ]
  },
  {
   "cell_type": "code",
   "execution_count": 6,
   "metadata": {},
   "outputs": [
    {
     "name": "stderr",
     "output_type": "stream",
     "text": [
      "Auto-assigning NUTS sampler...\n",
      "Initializing NUTS using jitter+adapt_diag...\n",
      "Multiprocess sampling (4 chains in 4 jobs)\n",
      "NUTS: [sigma, bC, bA, a]\n",
      "Sampling 4 chains, 0 divergences: 100%|██████████| 4000/4000 [00:01<00:00, 3980.59draws/s]\n"
     ]
    }
   ],
   "source": [
    "with pm.Model() as m_fork:\n",
    "    a = pm.Normal('a', mu=0, sigma=1)\n",
    "    bA = pm.Normal('bA', mu=0, sigma=1)\n",
    "    bC = pm.Normal('bC', mu=0, sigma=1)\n",
    "    \n",
    "    mu = a + bA*df.A + bC*df.C\n",
    "    sigma = pm.Exponential('sigma', 1)\n",
    "    \n",
    "    B = pm.Normal('B', mu=mu, sigma=sigma, observed=df.B)\n",
    "    \n",
    "    m_fork_trace = pm.sample()"
   ]
  },
  {
   "cell_type": "code",
   "execution_count": 7,
   "metadata": {},
   "outputs": [
    {
     "name": "stderr",
     "output_type": "stream",
     "text": [
      "/home/elisio/anaconda3/lib/python3.7/site-packages/arviz/data/io_pymc3.py:91: FutureWarning: Using `from_pymc3` without the model will be deprecated in a future release. Not using the model will return less accurate and less useful results. Make sure you use the model argument or call from_pymc3 within a model context.\n",
      "  FutureWarning,\n"
     ]
    },
    {
     "data": {
      "text/html": [
       "<div>\n",
       "<style scoped>\n",
       "    .dataframe tbody tr th:only-of-type {\n",
       "        vertical-align: middle;\n",
       "    }\n",
       "\n",
       "    .dataframe tbody tr th {\n",
       "        vertical-align: top;\n",
       "    }\n",
       "\n",
       "    .dataframe thead th {\n",
       "        text-align: right;\n",
       "    }\n",
       "</style>\n",
       "<table border=\"1\" class=\"dataframe\">\n",
       "  <thead>\n",
       "    <tr style=\"text-align: right;\">\n",
       "      <th></th>\n",
       "      <th>mean</th>\n",
       "      <th>sd</th>\n",
       "      <th>hdi_3%</th>\n",
       "      <th>hdi_97%</th>\n",
       "    </tr>\n",
       "  </thead>\n",
       "  <tbody>\n",
       "    <tr>\n",
       "      <th>a</th>\n",
       "      <td>-0.03</td>\n",
       "      <td>0.11</td>\n",
       "      <td>-0.23</td>\n",
       "      <td>0.17</td>\n",
       "    </tr>\n",
       "    <tr>\n",
       "      <th>bA</th>\n",
       "      <td>-0.11</td>\n",
       "      <td>0.11</td>\n",
       "      <td>-0.32</td>\n",
       "      <td>0.09</td>\n",
       "    </tr>\n",
       "    <tr>\n",
       "      <th>bC</th>\n",
       "      <td>1.14</td>\n",
       "      <td>0.16</td>\n",
       "      <td>0.83</td>\n",
       "      <td>1.45</td>\n",
       "    </tr>\n",
       "    <tr>\n",
       "      <th>sigma</th>\n",
       "      <td>1.04</td>\n",
       "      <td>0.08</td>\n",
       "      <td>0.90</td>\n",
       "      <td>1.19</td>\n",
       "    </tr>\n",
       "  </tbody>\n",
       "</table>\n",
       "</div>"
      ],
      "text/plain": [
       "       mean    sd  hdi_3%  hdi_97%\n",
       "a     -0.03  0.11   -0.23     0.17\n",
       "bA    -0.11  0.11   -0.32     0.09\n",
       "bC     1.14  0.16    0.83     1.45\n",
       "sigma  1.04  0.08    0.90     1.19"
      ]
     },
     "execution_count": 7,
     "metadata": {},
     "output_type": "execute_result"
    }
   ],
   "source": [
    "az.summary(m_fork_trace, round_to=2, kind=\"stats\")"
   ]
  },
  {
   "cell_type": "markdown",
   "metadata": {},
   "source": [
    "However, when we add **C** in the model, which is the confounding, **A** doesn't tell anything else about **B**. That can be seen by the **A**'s coeficient being around zero."
   ]
  },
  {
   "cell_type": "markdown",
   "metadata": {},
   "source": [
    "## The Pipe\n",
    "As for the Pipe, when we condition on **C** we block the path between **A** and **B**."
   ]
  },
  {
   "cell_type": "code",
   "execution_count": 8,
   "metadata": {},
   "outputs": [
    {
     "data": {
      "image/png": "[encoded data removed]",
      "text/plain": [
       "<Figure size 153.071x39.685 with 1 Axes>"
      ]
     },
     "metadata": {},
     "output_type": "display_data"
    }
   ],
   "source": [
    "# the pipe\n",
    "dag_pipe = CausalGraphicalModel(\n",
    "    nodes=[\"A\", \"B\", \"C\"], edges=[(\"A\", \"C\"), (\"C\", \"B\")]\n",
    ")\n",
    "\n",
    "pgm = daft.PGM()\n",
    "coordinates = {\"A\":(0, 0), \"C\":(1, 0), \"B\":(2, 0)}\n",
    "\n",
    "for node in dag_pipe.dag.nodes:\n",
    "    pgm.add_node(node, node, *coordinates[node])\n",
    "for edge in dag_pipe.dag.edges:\n",
    "    pgm.add_edge(*edge)\n",
    "pgm.render();"
   ]
  },
  {
   "cell_type": "markdown",
   "metadata": {},
   "source": [
    "Bellow we simulate the data."
   ]
  },
  {
   "cell_type": "code",
   "execution_count": 9,
   "metadata": {},
   "outputs": [],
   "source": [
    "SAMP_SIZE = 100\n",
    "\n",
    "np.random.seed(89)\n",
    "A = stats.norm.rvs(size=SAMP_SIZE) \n",
    "C = stats.norm.rvs(A)\n",
    "B = stats.norm.rvs(C)\n",
    "\n",
    "df = pd.DataFrame.from_dict({\"A\": A, \"B\": B, \"C\": C})"
   ]
  },
  {
   "cell_type": "markdown",
   "metadata": {},
   "source": [
    "Regressing **B** on **A** we have:"
   ]
  },
  {
   "cell_type": "code",
   "execution_count": 10,
   "metadata": {},
   "outputs": [
    {
     "name": "stderr",
     "output_type": "stream",
     "text": [
      "Auto-assigning NUTS sampler...\n",
      "Initializing NUTS using jitter+adapt_diag...\n",
      "Multiprocess sampling (4 chains in 4 jobs)\n",
      "NUTS: [sigma, bA, a]\n",
      "Sampling 4 chains, 0 divergences: 100%|██████████| 4000/4000 [00:00<00:00, 6191.90draws/s]\n"
     ]
    }
   ],
   "source": [
    "with pm.Model() as m_pipe:\n",
    "    a = pm.Normal('a', mu=0, sigma=1)\n",
    "    bA = pm.Normal('bA', mu=0, sigma=1)\n",
    "    \n",
    "    mu = a + bA*df.A\n",
    "    sigma = pm.Exponential('sigma', 1)\n",
    "    \n",
    "    B = pm.Normal('B', mu=mu, sigma=sigma, observed=df.B)\n",
    "    \n",
    "    m_pipe_trace = pm.sample()"
   ]
  },
  {
   "cell_type": "code",
   "execution_count": 11,
   "metadata": {
    "scrolled": true
   },
   "outputs": [
    {
     "name": "stderr",
     "output_type": "stream",
     "text": [
      "/home/elisio/anaconda3/lib/python3.7/site-packages/arviz/data/io_pymc3.py:91: FutureWarning: Using `from_pymc3` without the model will be deprecated in a future release. Not using the model will return less accurate and less useful results. Make sure you use the model argument or call from_pymc3 within a model context.\n",
      "  FutureWarning,\n"
     ]
    },
    {
     "data": {
      "text/html": [
       "<div>\n",
       "<style scoped>\n",
       "    .dataframe tbody tr th:only-of-type {\n",
       "        vertical-align: middle;\n",
       "    }\n",
       "\n",
       "    .dataframe tbody tr th {\n",
       "        vertical-align: top;\n",
       "    }\n",
       "\n",
       "    .dataframe thead th {\n",
       "        text-align: right;\n",
       "    }\n",
       "</style>\n",
       "<table border=\"1\" class=\"dataframe\">\n",
       "  <thead>\n",
       "    <tr style=\"text-align: right;\">\n",
       "      <th></th>\n",
       "      <th>mean</th>\n",
       "      <th>sd</th>\n",
       "      <th>hdi_3%</th>\n",
       "      <th>hdi_97%</th>\n",
       "    </tr>\n",
       "  </thead>\n",
       "  <tbody>\n",
       "    <tr>\n",
       "      <th>a</th>\n",
       "      <td>0.08</td>\n",
       "      <td>0.13</td>\n",
       "      <td>-0.17</td>\n",
       "      <td>0.31</td>\n",
       "    </tr>\n",
       "    <tr>\n",
       "      <th>bA</th>\n",
       "      <td>1.15</td>\n",
       "      <td>0.14</td>\n",
       "      <td>0.90</td>\n",
       "      <td>1.43</td>\n",
       "    </tr>\n",
       "    <tr>\n",
       "      <th>sigma</th>\n",
       "      <td>1.33</td>\n",
       "      <td>0.10</td>\n",
       "      <td>1.16</td>\n",
       "      <td>1.51</td>\n",
       "    </tr>\n",
       "  </tbody>\n",
       "</table>\n",
       "</div>"
      ],
      "text/plain": [
       "       mean    sd  hdi_3%  hdi_97%\n",
       "a      0.08  0.13   -0.17     0.31\n",
       "bA     1.15  0.14    0.90     1.43\n",
       "sigma  1.33  0.10    1.16     1.51"
      ]
     },
     "execution_count": 11,
     "metadata": {},
     "output_type": "execute_result"
    }
   ],
   "source": [
    "az.summary(m_pipe_trace, round_to=2, kind=\"stats\")"
   ]
  },
  {
   "cell_type": "markdown",
   "metadata": {},
   "source": [
    "The coeficient **bA** shows a high positive correlation between **A** and **B**.  "
   ]
  },
  {
   "cell_type": "markdown",
   "metadata": {},
   "source": [
    "Regressing **B** on **A** and **C**:"
   ]
  },
  {
   "cell_type": "code",
   "execution_count": 12,
   "metadata": {},
   "outputs": [
    {
     "name": "stderr",
     "output_type": "stream",
     "text": [
      "Auto-assigning NUTS sampler...\n",
      "Initializing NUTS using jitter+adapt_diag...\n",
      "Multiprocess sampling (4 chains in 4 jobs)\n",
      "NUTS: [sigma, bC, bA, a]\n",
      "Sampling 4 chains, 0 divergences: 100%|██████████| 4000/4000 [00:00<00:00, 4500.17draws/s]\n"
     ]
    }
   ],
   "source": [
    "with pm.Model() as m_pipe:\n",
    "    a = pm.Normal('a', mu=0, sigma=1)\n",
    "    bA = pm.Normal('bA', mu=0, sigma=1)\n",
    "    bC = pm.Normal('bC', mu=0, sigma=1)\n",
    "    \n",
    "    mu = a + bA*df.A + bC*df.C\n",
    "    sigma = pm.Exponential('sigma', 1)\n",
    "    \n",
    "    B = pm.Normal('B', mu=mu, sigma=sigma, observed=df.B)\n",
    "    \n",
    "    m_pipe_trace = pm.sample()"
   ]
  },
  {
   "cell_type": "code",
   "execution_count": 13,
   "metadata": {},
   "outputs": [
    {
     "name": "stderr",
     "output_type": "stream",
     "text": [
      "/home/elisio/anaconda3/lib/python3.7/site-packages/arviz/data/io_pymc3.py:91: FutureWarning: Using `from_pymc3` without the model will be deprecated in a future release. Not using the model will return less accurate and less useful results. Make sure you use the model argument or call from_pymc3 within a model context.\n",
      "  FutureWarning,\n"
     ]
    },
    {
     "data": {
      "text/html": [
       "<div>\n",
       "<style scoped>\n",
       "    .dataframe tbody tr th:only-of-type {\n",
       "        vertical-align: middle;\n",
       "    }\n",
       "\n",
       "    .dataframe tbody tr th {\n",
       "        vertical-align: top;\n",
       "    }\n",
       "\n",
       "    .dataframe thead th {\n",
       "        text-align: right;\n",
       "    }\n",
       "</style>\n",
       "<table border=\"1\" class=\"dataframe\">\n",
       "  <thead>\n",
       "    <tr style=\"text-align: right;\">\n",
       "      <th></th>\n",
       "      <th>mean</th>\n",
       "      <th>sd</th>\n",
       "      <th>hdi_3%</th>\n",
       "      <th>hdi_97%</th>\n",
       "    </tr>\n",
       "  </thead>\n",
       "  <tbody>\n",
       "    <tr>\n",
       "      <th>a</th>\n",
       "      <td>0.12</td>\n",
       "      <td>0.10</td>\n",
       "      <td>-0.08</td>\n",
       "      <td>0.29</td>\n",
       "    </tr>\n",
       "    <tr>\n",
       "      <th>bA</th>\n",
       "      <td>0.27</td>\n",
       "      <td>0.14</td>\n",
       "      <td>0.01</td>\n",
       "      <td>0.53</td>\n",
       "    </tr>\n",
       "    <tr>\n",
       "      <th>bC</th>\n",
       "      <td>0.88</td>\n",
       "      <td>0.09</td>\n",
       "      <td>0.70</td>\n",
       "      <td>1.05</td>\n",
       "    </tr>\n",
       "    <tr>\n",
       "      <th>sigma</th>\n",
       "      <td>0.96</td>\n",
       "      <td>0.07</td>\n",
       "      <td>0.83</td>\n",
       "      <td>1.09</td>\n",
       "    </tr>\n",
       "  </tbody>\n",
       "</table>\n",
       "</div>"
      ],
      "text/plain": [
       "       mean    sd  hdi_3%  hdi_97%\n",
       "a      0.12  0.10   -0.08     0.29\n",
       "bA     0.27  0.14    0.01     0.53\n",
       "bC     0.88  0.09    0.70     1.05\n",
       "sigma  0.96  0.07    0.83     1.09"
      ]
     },
     "execution_count": 13,
     "metadata": {},
     "output_type": "execute_result"
    }
   ],
   "source": [
    "az.summary(m_pipe_trace, round_to=2, kind=\"stats\")"
   ]
  },
  {
   "cell_type": "markdown",
   "metadata": {},
   "source": [
    "However, when we condition on **C** the information of **A** is blocked and we can see a coeficient closer to zero (the more data we have the closer to zero it will be)."
   ]
  },
  {
   "cell_type": "markdown",
   "metadata": {},
   "source": [
    "## The Collider\n",
    "The collider is an interesting case, on the diagram bellow, contrary to the 2 previous cases, the information does not flow between **A** and **B** if we don't condition on **C**.\n",
    "\n",
    "It's important to notice that when conditioning on **C** and allows information to flow it does not create any casual influence between **A** and **B**."
   ]
  },
  {
   "cell_type": "code",
   "execution_count": 14,
   "metadata": {},
   "outputs": [
    {
     "data": {
      "image/png": "[encoded data removed]",
      "text/plain": [
       "<Figure size 153.071x96.378 with 1 Axes>"
      ]
     },
     "metadata": {},
     "output_type": "display_data"
    }
   ],
   "source": [
    "# the collider\n",
    "dag_coll = CausalGraphicalModel(\n",
    "    nodes=[\"A\", \"B\", \"C\"], edges=[(\"A\", \"C\"), (\"B\", \"C\")]\n",
    ")\n",
    "\n",
    "pgm = daft.PGM()\n",
    "coordinates = {\"A\":(0, 0), \"C\":(1, 1), \"B\":(2, 0)}\n",
    "\n",
    "for node in dag_coll.dag.nodes:\n",
    "    pgm.add_node(node, node, *coordinates[node])\n",
    "for edge in dag_coll.dag.edges:\n",
    "    pgm.add_edge(*edge)\n",
    "pgm.render();"
   ]
  },
  {
   "cell_type": "code",
   "execution_count": 15,
   "metadata": {},
   "outputs": [],
   "source": [
    "SAMP_SIZE = 100\n",
    "\n",
    "np.random.seed(89)\n",
    "A = stats.norm.rvs(size=SAMP_SIZE) \n",
    "B = stats.norm.rvs(size=SAMP_SIZE)\n",
    "C = stats.norm.rvs(A+B)\n",
    "\n",
    "df = pd.DataFrame.from_dict({\"A\": A, \"B\": B, \"C\": C})"
   ]
  },
  {
   "cell_type": "markdown",
   "metadata": {},
   "source": [
    "Regressing **B** on **A** we have:"
   ]
  },
  {
   "cell_type": "code",
   "execution_count": 16,
   "metadata": {},
   "outputs": [
    {
     "name": "stderr",
     "output_type": "stream",
     "text": [
      "Auto-assigning NUTS sampler...\n",
      "Initializing NUTS using jitter+adapt_diag...\n",
      "Multiprocess sampling (4 chains in 4 jobs)\n",
      "NUTS: [sigma, bA, a]\n",
      "Sampling 4 chains, 0 divergences: 100%|██████████| 4000/4000 [00:00<00:00, 6301.06draws/s]\n"
     ]
    }
   ],
   "source": [
    "with pm.Model() as m_coll:\n",
    "    a = pm.Normal('a', mu=0, sigma=1)\n",
    "    bA = pm.Normal('bA', mu=0, sigma=1)\n",
    "    \n",
    "    mu = a + bA*df.A\n",
    "    sigma = pm.Exponential('sigma', 1)\n",
    "    \n",
    "    B = pm.Normal('B', mu=mu, sigma=sigma, observed=df.B)\n",
    "    \n",
    "    m_coll_trace = pm.sample()"
   ]
  },
  {
   "cell_type": "code",
   "execution_count": 17,
   "metadata": {
    "scrolled": true
   },
   "outputs": [
    {
     "name": "stderr",
     "output_type": "stream",
     "text": [
      "/home/elisio/anaconda3/lib/python3.7/site-packages/arviz/data/io_pymc3.py:91: FutureWarning: Using `from_pymc3` without the model will be deprecated in a future release. Not using the model will return less accurate and less useful results. Make sure you use the model argument or call from_pymc3 within a model context.\n",
      "  FutureWarning,\n"
     ]
    },
    {
     "data": {
      "text/html": [
       "<div>\n",
       "<style scoped>\n",
       "    .dataframe tbody tr th:only-of-type {\n",
       "        vertical-align: middle;\n",
       "    }\n",
       "\n",
       "    .dataframe tbody tr th {\n",
       "        vertical-align: top;\n",
       "    }\n",
       "\n",
       "    .dataframe thead th {\n",
       "        text-align: right;\n",
       "    }\n",
       "</style>\n",
       "<table border=\"1\" class=\"dataframe\">\n",
       "  <thead>\n",
       "    <tr style=\"text-align: right;\">\n",
       "      <th></th>\n",
       "      <th>mean</th>\n",
       "      <th>sd</th>\n",
       "      <th>hdi_3%</th>\n",
       "      <th>hdi_97%</th>\n",
       "    </tr>\n",
       "  </thead>\n",
       "  <tbody>\n",
       "    <tr>\n",
       "      <th>a</th>\n",
       "      <td>-0.05</td>\n",
       "      <td>0.11</td>\n",
       "      <td>-0.26</td>\n",
       "      <td>0.15</td>\n",
       "    </tr>\n",
       "    <tr>\n",
       "      <th>bA</th>\n",
       "      <td>0.02</td>\n",
       "      <td>0.11</td>\n",
       "      <td>-0.18</td>\n",
       "      <td>0.24</td>\n",
       "    </tr>\n",
       "    <tr>\n",
       "      <th>sigma</th>\n",
       "      <td>1.04</td>\n",
       "      <td>0.08</td>\n",
       "      <td>0.90</td>\n",
       "      <td>1.18</td>\n",
       "    </tr>\n",
       "  </tbody>\n",
       "</table>\n",
       "</div>"
      ],
      "text/plain": [
       "       mean    sd  hdi_3%  hdi_97%\n",
       "a     -0.05  0.11   -0.26     0.15\n",
       "bA     0.02  0.11   -0.18     0.24\n",
       "sigma  1.04  0.08    0.90     1.18"
      ]
     },
     "execution_count": 17,
     "metadata": {},
     "output_type": "execute_result"
    }
   ],
   "source": [
    "az.summary(m_coll_trace, round_to=2, kind=\"stats\")"
   ]
  },
  {
   "cell_type": "markdown",
   "metadata": {},
   "source": [
    "The coeficient **bA** shows no correlation between **A** and **B**.  "
   ]
  },
  {
   "cell_type": "markdown",
   "metadata": {},
   "source": [
    "Regressing **B** on **A** and **C**:"
   ]
  },
  {
   "cell_type": "code",
   "execution_count": 18,
   "metadata": {},
   "outputs": [
    {
     "name": "stderr",
     "output_type": "stream",
     "text": [
      "Auto-assigning NUTS sampler...\n",
      "Initializing NUTS using jitter+adapt_diag...\n",
      "Multiprocess sampling (4 chains in 4 jobs)\n",
      "NUTS: [sigma, bC, bA, a]\n",
      "Sampling 4 chains, 0 divergences: 100%|██████████| 4000/4000 [00:00<00:00, 4265.16draws/s]\n"
     ]
    }
   ],
   "source": [
    "with pm.Model() as m_coll:\n",
    "    a = pm.Normal('a', mu=0, sigma=1)\n",
    "    bA = pm.Normal('bA', mu=0, sigma=1)\n",
    "    bC = pm.Normal('bC', mu=0, sigma=1)\n",
    "    \n",
    "    mu = a + bA*df.A + bC*df.C\n",
    "    sigma = pm.Exponential('sigma', 1)\n",
    "    \n",
    "    B = pm.Normal('B', mu=mu, sigma=sigma, observed=df.B)\n",
    "    \n",
    "    m_coll_trace = pm.sample()"
   ]
  },
  {
   "cell_type": "code",
   "execution_count": 19,
   "metadata": {},
   "outputs": [
    {
     "name": "stderr",
     "output_type": "stream",
     "text": [
      "/home/elisio/anaconda3/lib/python3.7/site-packages/arviz/data/io_pymc3.py:91: FutureWarning: Using `from_pymc3` without the model will be deprecated in a future release. Not using the model will return less accurate and less useful results. Make sure you use the model argument or call from_pymc3 within a model context.\n",
      "  FutureWarning,\n"
     ]
    },
    {
     "data": {
      "text/html": [
       "<div>\n",
       "<style scoped>\n",
       "    .dataframe tbody tr th:only-of-type {\n",
       "        vertical-align: middle;\n",
       "    }\n",
       "\n",
       "    .dataframe tbody tr th {\n",
       "        vertical-align: top;\n",
       "    }\n",
       "\n",
       "    .dataframe thead th {\n",
       "        text-align: right;\n",
       "    }\n",
       "</style>\n",
       "<table border=\"1\" class=\"dataframe\">\n",
       "  <thead>\n",
       "    <tr style=\"text-align: right;\">\n",
       "      <th></th>\n",
       "      <th>mean</th>\n",
       "      <th>sd</th>\n",
       "      <th>hdi_3%</th>\n",
       "      <th>hdi_97%</th>\n",
       "    </tr>\n",
       "  </thead>\n",
       "  <tbody>\n",
       "    <tr>\n",
       "      <th>a</th>\n",
       "      <td>-0.08</td>\n",
       "      <td>0.08</td>\n",
       "      <td>-0.22</td>\n",
       "      <td>0.06</td>\n",
       "    </tr>\n",
       "    <tr>\n",
       "      <th>bA</th>\n",
       "      <td>-0.60</td>\n",
       "      <td>0.11</td>\n",
       "      <td>-0.79</td>\n",
       "      <td>-0.41</td>\n",
       "    </tr>\n",
       "    <tr>\n",
       "      <th>bC</th>\n",
       "      <td>0.54</td>\n",
       "      <td>0.06</td>\n",
       "      <td>0.43</td>\n",
       "      <td>0.64</td>\n",
       "    </tr>\n",
       "    <tr>\n",
       "      <th>sigma</th>\n",
       "      <td>0.75</td>\n",
       "      <td>0.05</td>\n",
       "      <td>0.66</td>\n",
       "      <td>0.86</td>\n",
       "    </tr>\n",
       "  </tbody>\n",
       "</table>\n",
       "</div>"
      ],
      "text/plain": [
       "       mean    sd  hdi_3%  hdi_97%\n",
       "a     -0.08  0.08   -0.22     0.06\n",
       "bA    -0.60  0.11   -0.79    -0.41\n",
       "bC     0.54  0.06    0.43     0.64\n",
       "sigma  0.75  0.05    0.66     0.86"
      ]
     },
     "execution_count": 19,
     "metadata": {},
     "output_type": "execute_result"
    }
   ],
   "source": [
    "az.summary(m_coll_trace, round_to=2, kind=\"stats\")"
   ]
  },
  {
   "cell_type": "markdown",
   "metadata": {},
   "source": [
    "However, when we condition on **C** the information of **A** flows to **B**. We can notice this by the considerable negative coeficient **bA**."
   ]
  },
  {
   "cell_type": "markdown",
   "metadata": {},
   "source": [
    "## The Descendant\n",
    "Conditioning on a descendant partially conditions on its parent.\n",
    "For the DAG bellow, conditioning on **D** partially conditions on **C** and we have as a result some information flowing from **A** to **B** even by not conditioning on **CC**."
   ]
  },
  {
   "cell_type": "code",
   "execution_count": 20,
   "metadata": {},
   "outputs": [
    {
     "data": {
      "image/png": "[encoded data removed]",
      "text/plain": [
       "<Figure size 153.071x96.378 with 1 Axes>"
      ]
     },
     "metadata": {},
     "output_type": "display_data"
    }
   ],
   "source": [
    "# the descendant\n",
    "dag_desc = CausalGraphicalModel(\n",
    "    nodes=[\"A\", \"B\", \"C\", \"D\"], edges=[(\"A\", \"C\"), (\"B\", \"C\"), (\"C\", \"D\")]\n",
    ")\n",
    "\n",
    "pgm = daft.PGM()\n",
    "coordinates = {\"A\":(0, 0), \"C\":(1, 1), \"D\":(1, 0.2), \"B\":(2, 0)}\n",
    "\n",
    "for node in dag_desc.dag.nodes:\n",
    "    pgm.add_node(node, node, *coordinates[node])\n",
    "for edge in dag_desc.dag.edges:\n",
    "    pgm.add_edge(*edge)\n",
    "pgm.render();"
   ]
  },
  {
   "cell_type": "code",
   "execution_count": 21,
   "metadata": {},
   "outputs": [],
   "source": [
    "SAMP_SIZE = 100\n",
    "\n",
    "np.random.seed(89)\n",
    "A = stats.norm.rvs(size=SAMP_SIZE) \n",
    "B = stats.norm.rvs(size=SAMP_SIZE)\n",
    "C = stats.norm.rvs(A+B)\n",
    "D = stats.norm.rvs(C)\n",
    "\n",
    "df = pd.DataFrame.from_dict({\"A\": A, \"B\": B, \"C\": C, \"D\": D})"
   ]
  },
  {
   "cell_type": "markdown",
   "metadata": {},
   "source": [
    "Regressing **B** on **A** we have:"
   ]
  },
  {
   "cell_type": "code",
   "execution_count": 22,
   "metadata": {},
   "outputs": [
    {
     "name": "stderr",
     "output_type": "stream",
     "text": [
      "Auto-assigning NUTS sampler...\n",
      "Initializing NUTS using jitter+adapt_diag...\n",
      "Multiprocess sampling (4 chains in 4 jobs)\n",
      "NUTS: [sigma, bA, a]\n",
      "Sampling 4 chains, 0 divergences: 100%|██████████| 4000/4000 [00:00<00:00, 5423.34draws/s]\n"
     ]
    }
   ],
   "source": [
    "with pm.Model() as m_desc:\n",
    "    a = pm.Normal('a', mu=0, sigma=1)\n",
    "    bA = pm.Normal('bA', mu=0, sigma=1)\n",
    "    \n",
    "    mu = a + bA*df.A\n",
    "    sigma = pm.Exponential('sigma', 1)\n",
    "    \n",
    "    B = pm.Normal('B', mu=mu, sigma=sigma, observed=df.B)\n",
    "    \n",
    "    m_desc_trace = pm.sample()"
   ]
  },
  {
   "cell_type": "code",
   "execution_count": 23,
   "metadata": {
    "scrolled": true
   },
   "outputs": [
    {
     "name": "stderr",
     "output_type": "stream",
     "text": [
      "/home/elisio/anaconda3/lib/python3.7/site-packages/arviz/data/io_pymc3.py:91: FutureWarning: Using `from_pymc3` without the model will be deprecated in a future release. Not using the model will return less accurate and less useful results. Make sure you use the model argument or call from_pymc3 within a model context.\n",
      "  FutureWarning,\n"
     ]
    },
    {
     "data": {
      "text/html": [
       "<div>\n",
       "<style scoped>\n",
       "    .dataframe tbody tr th:only-of-type {\n",
       "        vertical-align: middle;\n",
       "    }\n",
       "\n",
       "    .dataframe tbody tr th {\n",
       "        vertical-align: top;\n",
       "    }\n",
       "\n",
       "    .dataframe thead th {\n",
       "        text-align: right;\n",
       "    }\n",
       "</style>\n",
       "<table border=\"1\" class=\"dataframe\">\n",
       "  <thead>\n",
       "    <tr style=\"text-align: right;\">\n",
       "      <th></th>\n",
       "      <th>mean</th>\n",
       "      <th>sd</th>\n",
       "      <th>hdi_3%</th>\n",
       "      <th>hdi_97%</th>\n",
       "    </tr>\n",
       "  </thead>\n",
       "  <tbody>\n",
       "    <tr>\n",
       "      <th>a</th>\n",
       "      <td>-0.04</td>\n",
       "      <td>0.10</td>\n",
       "      <td>-0.22</td>\n",
       "      <td>0.15</td>\n",
       "    </tr>\n",
       "    <tr>\n",
       "      <th>bA</th>\n",
       "      <td>0.03</td>\n",
       "      <td>0.11</td>\n",
       "      <td>-0.19</td>\n",
       "      <td>0.23</td>\n",
       "    </tr>\n",
       "    <tr>\n",
       "      <th>sigma</th>\n",
       "      <td>1.04</td>\n",
       "      <td>0.08</td>\n",
       "      <td>0.90</td>\n",
       "      <td>1.19</td>\n",
       "    </tr>\n",
       "  </tbody>\n",
       "</table>\n",
       "</div>"
      ],
      "text/plain": [
       "       mean    sd  hdi_3%  hdi_97%\n",
       "a     -0.04  0.10   -0.22     0.15\n",
       "bA     0.03  0.11   -0.19     0.23\n",
       "sigma  1.04  0.08    0.90     1.19"
      ]
     },
     "execution_count": 23,
     "metadata": {},
     "output_type": "execute_result"
    }
   ],
   "source": [
    "az.summary(m_desc_trace, round_to=2, kind=\"stats\")"
   ]
  },
  {
   "cell_type": "markdown",
   "metadata": {},
   "source": [
    "The coeficient **bA** shows no correlation between **A** and **B**.  "
   ]
  },
  {
   "cell_type": "markdown",
   "metadata": {},
   "source": [
    "Regressing **B** on **A** and **D**:"
   ]
  },
  {
   "cell_type": "code",
   "execution_count": 24,
   "metadata": {},
   "outputs": [
    {
     "name": "stderr",
     "output_type": "stream",
     "text": [
      "Auto-assigning NUTS sampler...\n",
      "Initializing NUTS using jitter+adapt_diag...\n",
      "Multiprocess sampling (4 chains in 4 jobs)\n",
      "NUTS: [sigma, bD, bA, a]\n",
      "Sampling 4 chains, 0 divergences: 100%|██████████| 4000/4000 [00:00<00:00, 4602.04draws/s]\n"
     ]
    }
   ],
   "source": [
    "with pm.Model() as m_desc:\n",
    "    a = pm.Normal('a', mu=0, sigma=1)\n",
    "    bA = pm.Normal('bA', mu=0, sigma=1)\n",
    "    bD = pm.Normal('bD', mu=0, sigma=1)\n",
    "    \n",
    "    mu = a + bA*df.A + bD*df.D\n",
    "    sigma = pm.Exponential('sigma', 1)\n",
    "    \n",
    "    B = pm.Normal('B', mu=mu, sigma=sigma, observed=df.B)\n",
    "    \n",
    "    m_desc_trace = pm.sample()"
   ]
  },
  {
   "cell_type": "code",
   "execution_count": 25,
   "metadata": {
    "scrolled": true
   },
   "outputs": [
    {
     "name": "stderr",
     "output_type": "stream",
     "text": [
      "/home/elisio/anaconda3/lib/python3.7/site-packages/arviz/data/io_pymc3.py:91: FutureWarning: Using `from_pymc3` without the model will be deprecated in a future release. Not using the model will return less accurate and less useful results. Make sure you use the model argument or call from_pymc3 within a model context.\n",
      "  FutureWarning,\n"
     ]
    },
    {
     "data": {
      "text/html": [
       "<div>\n",
       "<style scoped>\n",
       "    .dataframe tbody tr th:only-of-type {\n",
       "        vertical-align: middle;\n",
       "    }\n",
       "\n",
       "    .dataframe tbody tr th {\n",
       "        vertical-align: top;\n",
       "    }\n",
       "\n",
       "    .dataframe thead th {\n",
       "        text-align: right;\n",
       "    }\n",
       "</style>\n",
       "<table border=\"1\" class=\"dataframe\">\n",
       "  <thead>\n",
       "    <tr style=\"text-align: right;\">\n",
       "      <th></th>\n",
       "      <th>mean</th>\n",
       "      <th>sd</th>\n",
       "      <th>hdi_3%</th>\n",
       "      <th>hdi_97%</th>\n",
       "    </tr>\n",
       "  </thead>\n",
       "  <tbody>\n",
       "    <tr>\n",
       "      <th>a</th>\n",
       "      <td>-0.08</td>\n",
       "      <td>0.09</td>\n",
       "      <td>-0.26</td>\n",
       "      <td>0.08</td>\n",
       "    </tr>\n",
       "    <tr>\n",
       "      <th>bA</th>\n",
       "      <td>-0.36</td>\n",
       "      <td>0.12</td>\n",
       "      <td>-0.59</td>\n",
       "      <td>-0.15</td>\n",
       "    </tr>\n",
       "    <tr>\n",
       "      <th>bD</th>\n",
       "      <td>0.31</td>\n",
       "      <td>0.06</td>\n",
       "      <td>0.21</td>\n",
       "      <td>0.41</td>\n",
       "    </tr>\n",
       "    <tr>\n",
       "      <th>sigma</th>\n",
       "      <td>0.91</td>\n",
       "      <td>0.07</td>\n",
       "      <td>0.78</td>\n",
       "      <td>1.03</td>\n",
       "    </tr>\n",
       "  </tbody>\n",
       "</table>\n",
       "</div>"
      ],
      "text/plain": [
       "       mean    sd  hdi_3%  hdi_97%\n",
       "a     -0.08  0.09   -0.26     0.08\n",
       "bA    -0.36  0.12   -0.59    -0.15\n",
       "bD     0.31  0.06    0.21     0.41\n",
       "sigma  0.91  0.07    0.78     1.03"
      ]
     },
     "execution_count": 25,
     "metadata": {},
     "output_type": "execute_result"
    }
   ],
   "source": [
    "az.summary(m_desc_trace, round_to=2, kind=\"stats\")"
   ]
  },
  {
   "cell_type": "markdown",
   "metadata": {},
   "source": [
    "By conditioning on **D** some information then flows from **A** to **B**."
   ]
  },
  {
   "cell_type": "markdown",
   "metadata": {},
   "source": [
    "## Exploring DAGs"
   ]
  },
  {
   "cell_type": "markdown",
   "metadata": {},
   "source": [
    "Consider the DAG example bellow from *The Book of Why by Judea Pearl* - Chapter 4 - Game 5."
   ]
  },
  {
   "cell_type": "code",
   "execution_count": 26,
   "metadata": {
    "scrolled": true
   },
   "outputs": [
    {
     "data": {
      "image/png": "[encoded data removed]",
      "text/plain": [
       "<Figure size 153.071x153.071 with 1 Axes>"
      ]
     },
     "metadata": {},
     "output_type": "display_data"
    }
   ],
   "source": [
    "dag_ex = CausalGraphicalModel(\n",
    "    nodes=[\"A\", \"B\", \"C\", \"X\", \"Y\"], \n",
    "    edges=[(\"A\", \"B\"), (\"A\", \"X\"), \n",
    "           (\"B\", \"X\"),\n",
    "           (\"C\", \"B\"), (\"C\", \"Y\"),\n",
    "           (\"X\", \"Y\")]\n",
    ")\n",
    "\n",
    "pgm = daft.PGM()\n",
    "coordinates = {\"X\":(0, 0), \"Y\":(2, 0), \"A\":(0, 2),\n",
    "               \"B\":(1, 1), \"C\":(2, 2)}\n",
    "\n",
    "for node in dag_ex.dag.nodes:\n",
    "    pgm.add_node(node, node, *coordinates[node])\n",
    "for edge in dag_ex.dag.edges:\n",
    "    pgm.add_edge(*edge)\n",
    "pgm.render();"
   ]
  },
  {
   "cell_type": "markdown",
   "metadata": {},
   "source": [
    "### Backdoor Path\n",
    "\"Blocking confounding paths between some predictor **X** and some outcome **Y** is known as shutting the backdoor. We don’t want any spurious association sneaking in through a non-causal path that enters the back of the predictor **X**.\""
   ]
  },
  {
   "cell_type": "code",
   "execution_count": 27,
   "metadata": {},
   "outputs": [
    {
     "name": "stdout",
     "output_type": "stream",
     "text": [
      "frozenset({'C'})\n",
      "frozenset({'A', 'B'})\n"
     ]
    }
   ],
   "source": [
    "all_adjustment_sets = dag_ex.get_all_backdoor_adjustment_sets(\"X\", \"Y\")\n",
    "for s in all_adjustment_sets:\n",
    "    if all(not t.issubset(s) for t in all_adjustment_sets if t != s):\n",
    "        print(s)"
   ]
  },
  {
   "cell_type": "markdown",
   "metadata": {},
   "source": [
    "To shutdown the backdoor (non-causal) path between **X** and **Y** we can condition on **A** and **B** or only **C**."
   ]
  },
  {
   "cell_type": "markdown",
   "metadata": {},
   "source": [
    "### Conditional Independencies\n",
    "\"Any DAG may imply that some variables are independent of others under certain conditions. These are the model’s testable implications, its conditional independencies.\""
   ]
  },
  {
   "cell_type": "code",
   "execution_count": 28,
   "metadata": {},
   "outputs": [
    {
     "name": "stdout",
     "output_type": "stream",
     "text": [
      "('B', 'Y', {'X', 'C'})\n",
      "('X', 'C', {'A', 'B'})\n",
      "('A', 'Y', {'X', 'C'})\n",
      "('A', 'C', set())\n"
     ]
    }
   ],
   "source": [
    "all_independencies = dag_ex.get_all_independence_relationships()\n",
    "for s in all_independencies:\n",
    "    if all(\n",
    "        t[0] != s[0] or t[1] != s[1] or not t[2].issubset(s[2])\n",
    "        for t in all_independencies\n",
    "        if t != s\n",
    "    ):\n",
    "        print(s)"
   ]
  },
  {
   "cell_type": "markdown",
   "metadata": {},
   "source": [
    "The result above means:\n",
    "* C and X are independent conditioning on A and B.\n",
    "* C and A are independent provided we don't condition on anything.\n",
    "* A and Y are independent conditioning on X and C.\n",
    "* B and Y are independent conditioning on X and C."
   ]
  },
  {
   "cell_type": "code",
   "execution_count": 29,
   "metadata": {},
   "outputs": [
    {
     "name": "stdout",
     "output_type": "stream",
     "text": [
      "numpy   1.19.1\n",
      "seaborn 0.10.1\n",
      "pandas  1.1.1\n",
      "arviz   0.10.0\n",
      "daft    0.1.0\n",
      "pymc3   3.8\n",
      "last updated: Sun Nov 15 2020 \n",
      "\n",
      "CPython 3.7.7\n",
      "IPython 7.17.0\n",
      "watermark 2.0.2\n"
     ]
    }
   ],
   "source": [
    "%load_ext watermark\n",
    "%watermark -iv -v -nuw"
   ]
  }
 ],
 "metadata": {
  "kernelspec": {
   "display_name": "Python 3",
   "language": "python",
   "name": "python3"
  },
  "language_info": {
   "codemirror_mode": {
    "name": "ipython",
    "version": 3
   },
   "file_extension": ".py",
   "mimetype": "text/x-python",
   "name": "python",
   "nbconvert_exporter": "python",
   "pygments_lexer": "ipython3",
   "version": "3.7.7"
  }
 },
 "nbformat": 4,
 "nbformat_minor": 4
}
