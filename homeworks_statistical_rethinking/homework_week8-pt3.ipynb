{
 "cells": [
  {
   "cell_type": "code",
   "execution_count": 1,
   "metadata": {},
   "outputs": [
    {
     "name": "stderr",
     "output_type": "stream",
     "text": [
      "WARNING (theano.tensor.blas): Using NumPy C-API based implementation for BLAS functions.\n"
     ]
    }
   ],
   "source": [
    "import arviz as az\n",
    "import matplotlib.pyplot as plt\n",
    "import numpy as np\n",
    "import pymc3 as pm\n",
    "import scipy.stats as stats\n",
    "import seaborn as sns\n",
    "import pandas as pd\n",
    "\n",
    "from scipy import stats\n",
    "# logistic (or inverse-logit) is the inverse of the logit function\n",
    "from scipy.special import expit as logistic\n",
    "\n",
    "import warnings\n",
    "warnings.simplefilter(action=\"ignore\", category=FutureWarning)\n",
    "\n",
    "from causalgraphicalmodels import CausalGraphicalModel\n",
    "import daft"
   ]
  },
  {
   "cell_type": "markdown",
   "metadata": {},
   "source": [
    "This is based on the [homework of week 8](https://github.com/rmcelreath/statrethinking_winter2019/blob/master/homework/week08.pdf) of Statistical Rethinking book material.\n",
    "I do the homework based on the questions but not following a specific order.\n",
    "<br>\n",
    "<br>\n",
    "The dataset can be found [here](https://github.com/rmcelreath/rethinking/blob/Experimental/data/)\n",
    "<br>"
   ]
  },
  {
   "cell_type": "markdown",
   "metadata": {},
   "source": [
    "Problem 3)\n",
    "<br>\n",
    "Return to the Trolley data, data(Trolley), from Chapter 12. Define and fit a varying intercepts model for these data. By this I mean to add an intercept parameter for the individual to the linear model. Cluster the varying intercepts on individual participants, as indicated by the unique values in the id variable. Include, action, intention, and contact as before. Compare the varying intercepts model and a model that ignores individuals, usint both WAIC/LOO and posterior predictions. What's the impact of individual variation in these data? "
   ]
  },
  {
   "cell_type": "markdown",
   "metadata": {},
   "source": [
    "This dataset is on the famous [Trolley Dilemma]('https://www.iflscience.com/editors-blog/trolley-dilemma-would-you-kill-one-person-save-five/')"
   ]
  },
  {
   "cell_type": "code",
   "execution_count": 2,
   "metadata": {
    "scrolled": false
   },
   "outputs": [
    {
     "data": {
      "text/html": [
       "<div>\n",
       "<style scoped>\n",
       "    .dataframe tbody tr th:only-of-type {\n",
       "        vertical-align: middle;\n",
       "    }\n",
       "\n",
       "    .dataframe tbody tr th {\n",
       "        vertical-align: top;\n",
       "    }\n",
       "\n",
       "    .dataframe thead th {\n",
       "        text-align: right;\n",
       "    }\n",
       "</style>\n",
       "<table border=\"1\" class=\"dataframe\">\n",
       "  <thead>\n",
       "    <tr style=\"text-align: right;\">\n",
       "      <th></th>\n",
       "      <th>case</th>\n",
       "      <th>response</th>\n",
       "      <th>order</th>\n",
       "      <th>id</th>\n",
       "      <th>age</th>\n",
       "      <th>male</th>\n",
       "      <th>edu</th>\n",
       "      <th>action</th>\n",
       "      <th>intention</th>\n",
       "      <th>contact</th>\n",
       "      <th>story</th>\n",
       "      <th>action2</th>\n",
       "    </tr>\n",
       "  </thead>\n",
       "  <tbody>\n",
       "    <tr>\n",
       "      <th>0</th>\n",
       "      <td>cfaqu</td>\n",
       "      <td>4</td>\n",
       "      <td>2</td>\n",
       "      <td>96;434</td>\n",
       "      <td>14</td>\n",
       "      <td>0</td>\n",
       "      <td>Middle School</td>\n",
       "      <td>0</td>\n",
       "      <td>0</td>\n",
       "      <td>1</td>\n",
       "      <td>aqu</td>\n",
       "      <td>1</td>\n",
       "    </tr>\n",
       "    <tr>\n",
       "      <th>1</th>\n",
       "      <td>cfbur</td>\n",
       "      <td>3</td>\n",
       "      <td>31</td>\n",
       "      <td>96;434</td>\n",
       "      <td>14</td>\n",
       "      <td>0</td>\n",
       "      <td>Middle School</td>\n",
       "      <td>0</td>\n",
       "      <td>0</td>\n",
       "      <td>1</td>\n",
       "      <td>bur</td>\n",
       "      <td>1</td>\n",
       "    </tr>\n",
       "    <tr>\n",
       "      <th>2</th>\n",
       "      <td>cfrub</td>\n",
       "      <td>4</td>\n",
       "      <td>16</td>\n",
       "      <td>96;434</td>\n",
       "      <td>14</td>\n",
       "      <td>0</td>\n",
       "      <td>Middle School</td>\n",
       "      <td>0</td>\n",
       "      <td>0</td>\n",
       "      <td>1</td>\n",
       "      <td>rub</td>\n",
       "      <td>1</td>\n",
       "    </tr>\n",
       "    <tr>\n",
       "      <th>3</th>\n",
       "      <td>cibox</td>\n",
       "      <td>3</td>\n",
       "      <td>32</td>\n",
       "      <td>96;434</td>\n",
       "      <td>14</td>\n",
       "      <td>0</td>\n",
       "      <td>Middle School</td>\n",
       "      <td>0</td>\n",
       "      <td>1</td>\n",
       "      <td>1</td>\n",
       "      <td>box</td>\n",
       "      <td>1</td>\n",
       "    </tr>\n",
       "    <tr>\n",
       "      <th>4</th>\n",
       "      <td>cibur</td>\n",
       "      <td>3</td>\n",
       "      <td>4</td>\n",
       "      <td>96;434</td>\n",
       "      <td>14</td>\n",
       "      <td>0</td>\n",
       "      <td>Middle School</td>\n",
       "      <td>0</td>\n",
       "      <td>1</td>\n",
       "      <td>1</td>\n",
       "      <td>bur</td>\n",
       "      <td>1</td>\n",
       "    </tr>\n",
       "    <tr>\n",
       "      <th>...</th>\n",
       "      <td>...</td>\n",
       "      <td>...</td>\n",
       "      <td>...</td>\n",
       "      <td>...</td>\n",
       "      <td>...</td>\n",
       "      <td>...</td>\n",
       "      <td>...</td>\n",
       "      <td>...</td>\n",
       "      <td>...</td>\n",
       "      <td>...</td>\n",
       "      <td>...</td>\n",
       "      <td>...</td>\n",
       "    </tr>\n",
       "    <tr>\n",
       "      <th>9925</th>\n",
       "      <td>ilpon</td>\n",
       "      <td>3</td>\n",
       "      <td>23</td>\n",
       "      <td>98;299</td>\n",
       "      <td>66</td>\n",
       "      <td>1</td>\n",
       "      <td>Graduate Degree</td>\n",
       "      <td>0</td>\n",
       "      <td>1</td>\n",
       "      <td>0</td>\n",
       "      <td>pon</td>\n",
       "      <td>0</td>\n",
       "    </tr>\n",
       "    <tr>\n",
       "      <th>9926</th>\n",
       "      <td>ilsha</td>\n",
       "      <td>6</td>\n",
       "      <td>15</td>\n",
       "      <td>98;299</td>\n",
       "      <td>66</td>\n",
       "      <td>1</td>\n",
       "      <td>Graduate Degree</td>\n",
       "      <td>0</td>\n",
       "      <td>1</td>\n",
       "      <td>0</td>\n",
       "      <td>sha</td>\n",
       "      <td>0</td>\n",
       "    </tr>\n",
       "    <tr>\n",
       "      <th>9927</th>\n",
       "      <td>ilshi</td>\n",
       "      <td>7</td>\n",
       "      <td>7</td>\n",
       "      <td>98;299</td>\n",
       "      <td>66</td>\n",
       "      <td>1</td>\n",
       "      <td>Graduate Degree</td>\n",
       "      <td>0</td>\n",
       "      <td>1</td>\n",
       "      <td>0</td>\n",
       "      <td>shi</td>\n",
       "      <td>0</td>\n",
       "    </tr>\n",
       "    <tr>\n",
       "      <th>9928</th>\n",
       "      <td>ilswi</td>\n",
       "      <td>2</td>\n",
       "      <td>18</td>\n",
       "      <td>98;299</td>\n",
       "      <td>66</td>\n",
       "      <td>1</td>\n",
       "      <td>Graduate Degree</td>\n",
       "      <td>0</td>\n",
       "      <td>1</td>\n",
       "      <td>0</td>\n",
       "      <td>swi</td>\n",
       "      <td>0</td>\n",
       "    </tr>\n",
       "    <tr>\n",
       "      <th>9929</th>\n",
       "      <td>nfrub</td>\n",
       "      <td>2</td>\n",
       "      <td>17</td>\n",
       "      <td>98;299</td>\n",
       "      <td>66</td>\n",
       "      <td>1</td>\n",
       "      <td>Graduate Degree</td>\n",
       "      <td>1</td>\n",
       "      <td>0</td>\n",
       "      <td>0</td>\n",
       "      <td>rub</td>\n",
       "      <td>1</td>\n",
       "    </tr>\n",
       "  </tbody>\n",
       "</table>\n",
       "<p>9930 rows × 12 columns</p>\n",
       "</div>"
      ],
      "text/plain": [
       "       case  response  order      id  age  male              edu  action  \\\n",
       "0     cfaqu         4      2  96;434   14     0    Middle School       0   \n",
       "1     cfbur         3     31  96;434   14     0    Middle School       0   \n",
       "2     cfrub         4     16  96;434   14     0    Middle School       0   \n",
       "3     cibox         3     32  96;434   14     0    Middle School       0   \n",
       "4     cibur         3      4  96;434   14     0    Middle School       0   \n",
       "...     ...       ...    ...     ...  ...   ...              ...     ...   \n",
       "9925  ilpon         3     23  98;299   66     1  Graduate Degree       0   \n",
       "9926  ilsha         6     15  98;299   66     1  Graduate Degree       0   \n",
       "9927  ilshi         7      7  98;299   66     1  Graduate Degree       0   \n",
       "9928  ilswi         2     18  98;299   66     1  Graduate Degree       0   \n",
       "9929  nfrub         2     17  98;299   66     1  Graduate Degree       1   \n",
       "\n",
       "      intention  contact story  action2  \n",
       "0             0        1   aqu        1  \n",
       "1             0        1   bur        1  \n",
       "2             0        1   rub        1  \n",
       "3             1        1   box        1  \n",
       "4             1        1   bur        1  \n",
       "...         ...      ...   ...      ...  \n",
       "9925          1        0   pon        0  \n",
       "9926          1        0   sha        0  \n",
       "9927          1        0   shi        0  \n",
       "9928          1        0   swi        0  \n",
       "9929          0        0   rub        1  \n",
       "\n",
       "[9930 rows x 12 columns]"
      ]
     },
     "execution_count": 2,
     "metadata": {},
     "output_type": "execute_result"
    }
   ],
   "source": [
    "df = pd.read_csv('../data/Trolley.csv', sep=';')\n",
    "df"
   ]
  },
  {
   "cell_type": "code",
   "execution_count": 3,
   "metadata": {},
   "outputs": [],
   "source": [
    "df['id_n'] = pd.factorize(df.id)[0]"
   ]
  },
  {
   "cell_type": "markdown",
   "metadata": {},
   "source": [
    "## m1: Linear Model"
   ]
  },
  {
   "cell_type": "code",
   "execution_count": 4,
   "metadata": {},
   "outputs": [
    {
     "name": "stderr",
     "output_type": "stream",
     "text": [
      "Auto-assigning NUTS sampler...\n",
      "Initializing NUTS using jitter+adapt_diag...\n",
      "Multiprocess sampling (4 chains in 4 jobs)\n",
      "NUTS: [cutpoints, bIC, bIA, bC, bI, bA]\n"
     ]
    },
    {
     "data": {
      "text/html": [
       "\n",
       "    <div>\n",
       "        <style>\n",
       "            /* Turns off some styling */\n",
       "            progress {\n",
       "                /* gets rid of default border in Firefox and Opera. */\n",
       "                border: none;\n",
       "                /* Needs to be in here for Safari polyfill so background images work as expected. */\n",
       "                background-size: auto;\n",
       "            }\n",
       "            .progress-bar-interrupted, .progress-bar-interrupted::-webkit-progress-bar {\n",
       "                background: #F44336;\n",
       "            }\n",
       "        </style>\n",
       "      <progress value='8000' class='' max='8000' style='width:300px; height:20px; vertical-align: middle;'></progress>\n",
       "      100.00% [8000/8000 01:43<00:00 Sampling 4 chains, 0 divergences]\n",
       "    </div>\n",
       "    "
      ],
      "text/plain": [
       "<IPython.core.display.HTML object>"
      ]
     },
     "metadata": {},
     "output_type": "display_data"
    },
    {
     "name": "stderr",
     "output_type": "stream",
     "text": [
      "Sampling 4 chains for 1_000 tune and 1_000 draw iterations (4_000 + 4_000 draws total) took 104 seconds.\n"
     ]
    }
   ],
   "source": [
    "with pm.Model() as m1:\n",
    "    A = pm.Data('A', df.action.values)\n",
    "    I = pm.Data('I', df.intention.values)\n",
    "    C = pm.Data('C', df.contact.values)\n",
    "    \n",
    "    bA = pm.Normal('bA', 0, 0.5)\n",
    "    bI = pm.Normal('bI', 0, 0.5)\n",
    "    bC = pm.Normal('bC', 0, 0.5)\n",
    "    bIA = pm.Normal('bIA', 0, 0.5)\n",
    "    bIC = pm.Normal('bIC', 0, 0.5)\n",
    "    \n",
    "    cutpoints = pm.Normal('cutpoints', 0, 1.5, \n",
    "                          transform=pm.distributions.transforms.ordered, \n",
    "                          shape=len(df.response.unique())-1, \n",
    "                          testval=np.arange(6)-2.5)\n",
    "\n",
    "\n",
    "    BI = bI + bIA*A + bIC*C\n",
    "    phi = bA*A + bC*C + BI*I\n",
    "\n",
    "    response = pm.OrderedLogistic('response', phi, cutpoints, observed=df.response.values-1)\n",
    "\n",
    "    m1_trace = pm.sample()"
   ]
  },
  {
   "cell_type": "markdown",
   "metadata": {},
   "source": [
    "## m2: Model with varying intercepts"
   ]
  },
  {
   "cell_type": "code",
   "execution_count": 5,
   "metadata": {},
   "outputs": [
    {
     "name": "stderr",
     "output_type": "stream",
     "text": [
      "Auto-assigning NUTS sampler...\n",
      "Initializing NUTS using jitter+adapt_diag...\n",
      "Multiprocess sampling (4 chains in 4 jobs)\n",
      "NUTS: [cutpoints, bid, bid_sig, bIC, bIA, bC, bI, bA]\n"
     ]
    },
    {
     "data": {
      "text/html": [
       "\n",
       "    <div>\n",
       "        <style>\n",
       "            /* Turns off some styling */\n",
       "            progress {\n",
       "                /* gets rid of default border in Firefox and Opera. */\n",
       "                border: none;\n",
       "                /* Needs to be in here for Safari polyfill so background images work as expected. */\n",
       "                background-size: auto;\n",
       "            }\n",
       "            .progress-bar-interrupted, .progress-bar-interrupted::-webkit-progress-bar {\n",
       "                background: #F44336;\n",
       "            }\n",
       "        </style>\n",
       "      <progress value='8000' class='' max='8000' style='width:300px; height:20px; vertical-align: middle;'></progress>\n",
       "      100.00% [8000/8000 03:00<00:00 Sampling 4 chains, 0 divergences]\n",
       "    </div>\n",
       "    "
      ],
      "text/plain": [
       "<IPython.core.display.HTML object>"
      ]
     },
     "metadata": {},
     "output_type": "display_data"
    },
    {
     "name": "stderr",
     "output_type": "stream",
     "text": [
      "Sampling 4 chains for 1_000 tune and 1_000 draw iterations (4_000 + 4_000 draws total) took 180 seconds.\n",
      "The estimated number of effective samples is smaller than 200 for some parameters.\n"
     ]
    }
   ],
   "source": [
    "with pm.Model() as m2:\n",
    "    A = pm.Data('A', df.action.values)\n",
    "    I = pm.Data('I', df.intention.values)\n",
    "    C = pm.Data('C', df.contact.values)\n",
    "    \n",
    "    bA = pm.Normal('bA', 0, 0.5)\n",
    "    bI = pm.Normal('bI', 0, 0.5)\n",
    "    bC = pm.Normal('bC', 0, 0.5)\n",
    "    bIA = pm.Normal('bIA', 0, 0.5)\n",
    "    bIC = pm.Normal('bIC', 0, 0.5)\n",
    "    \n",
    "    bid_sig = pm.Exponential('bid_sig', 0.5)\n",
    "    #bid = pm.Normal('bid', 0, 1, shape=len(df.id_n.unique()))\n",
    "    bid = pm.Normal('bid', 0, bid_sig, shape=len(df.id_n.unique()))\n",
    "    \n",
    "    cutpoints = pm.Normal('cutpoints', 0, 1.5, \n",
    "                          transform=pm.distributions.transforms.ordered, \n",
    "                          shape=len(df.response.unique())-1, \n",
    "                          testval=np.arange(6)-2.5)\n",
    "\n",
    "\n",
    "    BI = bI + bIA*A + bIC*C\n",
    "    phi = bid[df.id_n.values] + bA*A + bC*C + BI*I\n",
    "\n",
    "    response = pm.OrderedLogistic('response', phi, cutpoints, observed=df.response.values-1)\n",
    "\n",
    "    m2_trace = pm.sample()"
   ]
  },
  {
   "cell_type": "code",
   "execution_count": 6,
   "metadata": {},
   "outputs": [
    {
     "data": {
      "text/html": [
       "<div>\n",
       "<style scoped>\n",
       "    .dataframe tbody tr th:only-of-type {\n",
       "        vertical-align: middle;\n",
       "    }\n",
       "\n",
       "    .dataframe tbody tr th {\n",
       "        vertical-align: top;\n",
       "    }\n",
       "\n",
       "    .dataframe thead th {\n",
       "        text-align: right;\n",
       "    }\n",
       "</style>\n",
       "<table border=\"1\" class=\"dataframe\">\n",
       "  <thead>\n",
       "    <tr style=\"text-align: right;\">\n",
       "      <th></th>\n",
       "      <th>mean</th>\n",
       "      <th>sd</th>\n",
       "      <th>hdi_3%</th>\n",
       "      <th>hdi_97%</th>\n",
       "    </tr>\n",
       "  </thead>\n",
       "  <tbody>\n",
       "    <tr>\n",
       "      <th>bA</th>\n",
       "      <td>-0.47</td>\n",
       "      <td>0.05</td>\n",
       "      <td>-0.57</td>\n",
       "      <td>-0.37</td>\n",
       "    </tr>\n",
       "    <tr>\n",
       "      <th>bI</th>\n",
       "      <td>-0.29</td>\n",
       "      <td>0.06</td>\n",
       "      <td>-0.41</td>\n",
       "      <td>-0.19</td>\n",
       "    </tr>\n",
       "    <tr>\n",
       "      <th>bC</th>\n",
       "      <td>-0.34</td>\n",
       "      <td>0.07</td>\n",
       "      <td>-0.47</td>\n",
       "      <td>-0.21</td>\n",
       "    </tr>\n",
       "    <tr>\n",
       "      <th>bIA</th>\n",
       "      <td>-0.44</td>\n",
       "      <td>0.08</td>\n",
       "      <td>-0.59</td>\n",
       "      <td>-0.29</td>\n",
       "    </tr>\n",
       "    <tr>\n",
       "      <th>bIC</th>\n",
       "      <td>-1.24</td>\n",
       "      <td>0.10</td>\n",
       "      <td>-1.42</td>\n",
       "      <td>-1.05</td>\n",
       "    </tr>\n",
       "  </tbody>\n",
       "</table>\n",
       "</div>"
      ],
      "text/plain": [
       "     mean    sd  hdi_3%  hdi_97%\n",
       "bA  -0.47  0.05   -0.57    -0.37\n",
       "bI  -0.29  0.06   -0.41    -0.19\n",
       "bC  -0.34  0.07   -0.47    -0.21\n",
       "bIA -0.44  0.08   -0.59    -0.29\n",
       "bIC -1.24  0.10   -1.42    -1.05"
      ]
     },
     "execution_count": 6,
     "metadata": {},
     "output_type": "execute_result"
    }
   ],
   "source": [
    "az.summary(m1_trace, kind='stats', round_to=2, var_names=['~cutpoints'])"
   ]
  },
  {
   "cell_type": "code",
   "execution_count": 7,
   "metadata": {
    "scrolled": true
   },
   "outputs": [
    {
     "data": {
      "text/html": [
       "<div>\n",
       "<style scoped>\n",
       "    .dataframe tbody tr th:only-of-type {\n",
       "        vertical-align: middle;\n",
       "    }\n",
       "\n",
       "    .dataframe tbody tr th {\n",
       "        vertical-align: top;\n",
       "    }\n",
       "\n",
       "    .dataframe thead th {\n",
       "        text-align: right;\n",
       "    }\n",
       "</style>\n",
       "<table border=\"1\" class=\"dataframe\">\n",
       "  <thead>\n",
       "    <tr style=\"text-align: right;\">\n",
       "      <th></th>\n",
       "      <th>mean</th>\n",
       "      <th>sd</th>\n",
       "      <th>hdi_3%</th>\n",
       "      <th>hdi_97%</th>\n",
       "    </tr>\n",
       "  </thead>\n",
       "  <tbody>\n",
       "    <tr>\n",
       "      <th>bA</th>\n",
       "      <td>-0.65</td>\n",
       "      <td>0.05</td>\n",
       "      <td>-0.75</td>\n",
       "      <td>-0.55</td>\n",
       "    </tr>\n",
       "    <tr>\n",
       "      <th>bI</th>\n",
       "      <td>-0.38</td>\n",
       "      <td>0.06</td>\n",
       "      <td>-0.51</td>\n",
       "      <td>-0.28</td>\n",
       "    </tr>\n",
       "    <tr>\n",
       "      <th>bC</th>\n",
       "      <td>-0.45</td>\n",
       "      <td>0.07</td>\n",
       "      <td>-0.58</td>\n",
       "      <td>-0.32</td>\n",
       "    </tr>\n",
       "    <tr>\n",
       "      <th>bIA</th>\n",
       "      <td>-0.56</td>\n",
       "      <td>0.08</td>\n",
       "      <td>-0.71</td>\n",
       "      <td>-0.41</td>\n",
       "    </tr>\n",
       "    <tr>\n",
       "      <th>bIC</th>\n",
       "      <td>-1.67</td>\n",
       "      <td>0.10</td>\n",
       "      <td>-1.86</td>\n",
       "      <td>-1.48</td>\n",
       "    </tr>\n",
       "    <tr>\n",
       "      <th>bid_sig</th>\n",
       "      <td>1.92</td>\n",
       "      <td>0.08</td>\n",
       "      <td>1.78</td>\n",
       "      <td>2.09</td>\n",
       "    </tr>\n",
       "  </tbody>\n",
       "</table>\n",
       "</div>"
      ],
      "text/plain": [
       "         mean    sd  hdi_3%  hdi_97%\n",
       "bA      -0.65  0.05   -0.75    -0.55\n",
       "bI      -0.38  0.06   -0.51    -0.28\n",
       "bC      -0.45  0.07   -0.58    -0.32\n",
       "bIA     -0.56  0.08   -0.71    -0.41\n",
       "bIC     -1.67  0.10   -1.86    -1.48\n",
       "bid_sig  1.92  0.08    1.78     2.09"
      ]
     },
     "execution_count": 7,
     "metadata": {},
     "output_type": "execute_result"
    }
   ],
   "source": [
    "az.summary(m2_trace, kind='stats', round_to=2, var_names=['~cutpoints', '~bid'])"
   ]
  },
  {
   "cell_type": "markdown",
   "metadata": {},
   "source": [
    "All the coeficients, **bA**, **bI**, **bC**, **bIA**, **bIC** have an absolute negative value greater for Model 2.\n",
    "<br><br>\n",
    "**bid_sig** which is the variation for the individuals is very significant."
   ]
  },
  {
   "cell_type": "code",
   "execution_count": 8,
   "metadata": {},
   "outputs": [
    {
     "name": "stderr",
     "output_type": "stream",
     "text": [
      "/home/elisio/anaconda3/lib/python3.8/site-packages/arviz/stats/stats.py:149: UserWarning: \n",
      "The scale is now log by default. Use 'scale' argument or 'stats.ic_scale' rcParam if you rely on a specific value.\n",
      "A higher log-score (or a lower deviance) indicates a model with better predictive accuracy.\n",
      "  warnings.warn(\n",
      "/home/elisio/anaconda3/lib/python3.8/site-packages/arviz/stats/stats.py:1425: UserWarning: For one or more samples the posterior variance of the log predictive densities exceeds 0.4. This could be indication of WAIC starting to fail. \n",
      "See http://arxiv.org/abs/1507.04544 for details\n",
      "  warnings.warn(\n"
     ]
    },
    {
     "data": {
      "text/html": [
       "<div>\n",
       "<style scoped>\n",
       "    .dataframe tbody tr th:only-of-type {\n",
       "        vertical-align: middle;\n",
       "    }\n",
       "\n",
       "    .dataframe tbody tr th {\n",
       "        vertical-align: top;\n",
       "    }\n",
       "\n",
       "    .dataframe thead th {\n",
       "        text-align: right;\n",
       "    }\n",
       "</style>\n",
       "<table border=\"1\" class=\"dataframe\">\n",
       "  <thead>\n",
       "    <tr style=\"text-align: right;\">\n",
       "      <th></th>\n",
       "      <th>rank</th>\n",
       "      <th>waic</th>\n",
       "      <th>p_waic</th>\n",
       "      <th>d_waic</th>\n",
       "      <th>weight</th>\n",
       "      <th>se</th>\n",
       "      <th>dse</th>\n",
       "      <th>warning</th>\n",
       "      <th>waic_scale</th>\n",
       "    </tr>\n",
       "  </thead>\n",
       "  <tbody>\n",
       "    <tr>\n",
       "      <th>model_2</th>\n",
       "      <td>0</td>\n",
       "      <td>-15528.9</td>\n",
       "      <td>356.322</td>\n",
       "      <td>0</td>\n",
       "      <td>NaN</td>\n",
       "      <td>38.5204</td>\n",
       "      <td>0</td>\n",
       "      <td>True</td>\n",
       "      <td>log</td>\n",
       "    </tr>\n",
       "    <tr>\n",
       "      <th>model_1</th>\n",
       "      <td>1</td>\n",
       "      <td>-18464.5</td>\n",
       "      <td>10.8713</td>\n",
       "      <td>2935.64</td>\n",
       "      <td>0</td>\n",
       "      <td>89.7209</td>\n",
       "      <td>86.7409</td>\n",
       "      <td>False</td>\n",
       "      <td>log</td>\n",
       "    </tr>\n",
       "  </tbody>\n",
       "</table>\n",
       "</div>"
      ],
      "text/plain": [
       "        rank     waic   p_waic   d_waic weight       se      dse warning  \\\n",
       "model_2    0 -15528.9  356.322        0    NaN  38.5204        0    True   \n",
       "model_1    1 -18464.5  10.8713  2935.64      0  89.7209  86.7409   False   \n",
       "\n",
       "        waic_scale  \n",
       "model_2        log  \n",
       "model_1        log  "
      ]
     },
     "execution_count": 8,
     "metadata": {},
     "output_type": "execute_result"
    }
   ],
   "source": [
    "az.compare({'model_1': m1_trace, 'model_2': m2_trace}, ic='waic')"
   ]
  },
  {
   "cell_type": "markdown",
   "metadata": {},
   "source": [
    "By comparing the WAIC of both models it's clear that the model that considers individual participants, Model 2, is way better than the model tha doesn't, Model 1."
   ]
  },
  {
   "cell_type": "markdown",
   "metadata": {},
   "source": [
    "---\n",
    "---"
   ]
  },
  {
   "cell_type": "code",
   "execution_count": 9,
   "metadata": {},
   "outputs": [
    {
     "name": "stdout",
     "output_type": "stream",
     "text": [
      "Last updated: Mon Apr 12 2021\n",
      "\n",
      "Python implementation: CPython\n",
      "Python version       : 3.8.5\n",
      "IPython version      : 7.19.0\n",
      "\n",
      "pandas    : 1.0.5\n",
      "numpy     : 1.19.1\n",
      "daft      : 0.1.0\n",
      "matplotlib: 3.3.2\n",
      "seaborn   : 0.11.0\n",
      "scipy     : 1.5.4\n",
      "arviz     : 0.10.0\n",
      "pymc3     : 3.9.3\n",
      "\n",
      "Watermark: 2.1.0\n",
      "\n"
     ]
    }
   ],
   "source": [
    "%load_ext watermark\n",
    "%watermark -iv -v -nuw"
   ]
  },
  {
   "cell_type": "code",
   "execution_count": null,
   "metadata": {},
   "outputs": [],
   "source": []
  }
 ],
 "metadata": {
  "kernelspec": {
   "display_name": "Python 3",
   "language": "python",
   "name": "python3"
  },
  "language_info": {
   "codemirror_mode": {
    "name": "ipython",
    "version": 3
   },
   "file_extension": ".py",
   "mimetype": "text/x-python",
   "name": "python",
   "nbconvert_exporter": "python",
   "pygments_lexer": "ipython3",
   "version": "3.8.5"
  }
 },
 "nbformat": 4,
 "nbformat_minor": 4
}
