{
 "cells": [
  {
   "cell_type": "code",
   "execution_count": 1,
   "metadata": {},
   "outputs": [],
   "source": [
    "import arviz as az\n",
    "import matplotlib.pyplot as plt\n",
    "import numpy as np\n",
    "import pymc3 as pm\n",
    "import scipy.stats as stats\n",
    "import seaborn as sns\n",
    "import pandas as pd\n",
    "\n",
    "import warnings\n",
    "warnings.simplefilter(action=\"ignore\", category=FutureWarning)"
   ]
  },
  {
   "cell_type": "markdown",
   "metadata": {},
   "source": [
    "This is based on the [homework of week 4](https://github.com/rmcelreath/statrethinking_winter2019/blob/master/homework/week04.pdf) of Statistical Rethinking book material.\n",
    "I do the homework based on the questions but not following a specific order.\n",
    "<br>\n",
    "<br>\n",
    "<br>\n",
    "A seminal reference paper for this homework: [Practical Bayesian model evaluation using leave-one-out cross-validation and WAIC](https://arxiv.org/abs/1507.04544)"
   ]
  },
  {
   "cell_type": "code",
   "execution_count": 2,
   "metadata": {
    "scrolled": true
   },
   "outputs": [
    {
     "data": {
      "text/html": [
       "<div>\n",
       "<style scoped>\n",
       "    .dataframe tbody tr th:only-of-type {\n",
       "        vertical-align: middle;\n",
       "    }\n",
       "\n",
       "    .dataframe tbody tr th {\n",
       "        vertical-align: top;\n",
       "    }\n",
       "\n",
       "    .dataframe thead th {\n",
       "        text-align: right;\n",
       "    }\n",
       "</style>\n",
       "<table border=\"1\" class=\"dataframe\">\n",
       "  <thead>\n",
       "    <tr style=\"text-align: right;\">\n",
       "      <th></th>\n",
       "      <th>Bird_A</th>\n",
       "      <th>Bird_B</th>\n",
       "      <th>Bird_C</th>\n",
       "      <th>Bird_D</th>\n",
       "      <th>Bird_E</th>\n",
       "    </tr>\n",
       "  </thead>\n",
       "  <tbody>\n",
       "    <tr>\n",
       "      <th>Island_1</th>\n",
       "      <td>0.20</td>\n",
       "      <td>0.20</td>\n",
       "      <td>0.20</td>\n",
       "      <td>0.200</td>\n",
       "      <td>0.200</td>\n",
       "    </tr>\n",
       "    <tr>\n",
       "      <th>Island_2</th>\n",
       "      <td>0.80</td>\n",
       "      <td>0.10</td>\n",
       "      <td>0.05</td>\n",
       "      <td>0.025</td>\n",
       "      <td>0.025</td>\n",
       "    </tr>\n",
       "    <tr>\n",
       "      <th>Island_3</th>\n",
       "      <td>0.05</td>\n",
       "      <td>0.15</td>\n",
       "      <td>0.70</td>\n",
       "      <td>0.050</td>\n",
       "      <td>0.050</td>\n",
       "    </tr>\n",
       "  </tbody>\n",
       "</table>\n",
       "</div>"
      ],
      "text/plain": [
       "          Bird_A  Bird_B  Bird_C  Bird_D  Bird_E\n",
       "Island_1    0.20    0.20    0.20   0.200   0.200\n",
       "Island_2    0.80    0.10    0.05   0.025   0.025\n",
       "Island_3    0.05    0.15    0.70   0.050   0.050"
      ]
     },
     "execution_count": 2,
     "metadata": {},
     "output_type": "execute_result"
    }
   ],
   "source": [
    "islands = {\"Bird_A\": [0.2, 0.8, 0.05],\n",
    "           \"Bird_B\": [0.2, 0.1, 0.15],\n",
    "           \"Bird_C\": [0.2, 0.05, 0.7],\n",
    "           \"Bird_D\": [0.2, 0.025, 0.05],\n",
    "           \"Bird_E\": [0.2, 0.025, 0.05],\n",
    "          }\n",
    "\n",
    "\n",
    "df = pd.DataFrame(islands)\n",
    "df.rename(index={0:'Island_1', 1:'Island_2', 2:'Island_3'}, inplace=True)\n",
    "df"
   ]
  },
  {
   "cell_type": "markdown",
   "metadata": {},
   "source": [
    "## Computing Entropy\n",
    "Computing the entropy of each island's bird distribution."
   ]
  },
  {
   "cell_type": "code",
   "execution_count": 3,
   "metadata": {},
   "outputs": [],
   "source": [
    "def entropy(series):\n",
    "    return -np.sum((series)*np.log((series)))"
   ]
  },
  {
   "cell_type": "markdown",
   "metadata": {},
   "source": [
    "Entropy for Island 1:"
   ]
  },
  {
   "cell_type": "code",
   "execution_count": 4,
   "metadata": {},
   "outputs": [
    {
     "data": {
      "text/plain": [
       "1.6094379124341005"
      ]
     },
     "execution_count": 4,
     "metadata": {},
     "output_type": "execute_result"
    }
   ],
   "source": [
    "entropy(df.loc['Island_1'].values)"
   ]
  },
  {
   "cell_type": "markdown",
   "metadata": {},
   "source": [
    "Entropy for Island 2:"
   ]
  },
  {
   "cell_type": "code",
   "execution_count": 5,
   "metadata": {},
   "outputs": [
    {
     "data": {
      "text/plain": [
       "0.7430039367341686"
      ]
     },
     "execution_count": 5,
     "metadata": {},
     "output_type": "execute_result"
    }
   ],
   "source": [
    "entropy(df.loc['Island_2'].values)"
   ]
  },
  {
   "cell_type": "markdown",
   "metadata": {},
   "source": [
    "Entropy for Island 3:"
   ]
  },
  {
   "cell_type": "code",
   "execution_count": 6,
   "metadata": {},
   "outputs": [
    {
     "data": {
      "text/plain": [
       "0.9836002995230935"
      ]
     },
     "execution_count": 6,
     "metadata": {},
     "output_type": "execute_result"
    }
   ],
   "source": [
    "entropy(df.loc['Island_3'].values)"
   ]
  },
  {
   "cell_type": "markdown",
   "metadata": {},
   "source": [
    "The results show that the entropy for Island 1 is greater followed by Island 2 and then Island 3. The higher the entropy the more uniformly the population is distributed.\n",
    "<br>\n",
    "<br>\n",
    "That can be noticed when we compare the bird proportions, in Island 1 it's uniformly distributed. You expect to see any of the birds.\n",
    "<br>\n",
    "<br>\n",
    "In Island 2 there's a 80% population for Bird_A and it would be very surprising to see a bird that's not Bird_A. Furthermore, in Island 3 we have a 70% population for Bird_C. Which makes the entropy of these 2 smaller when compared to Island 1."
   ]
  },
  {
   "cell_type": "markdown",
   "metadata": {},
   "source": [
    "## Computing Divergence\n",
    "Using each island's bird distribution to predict the other two by computing the K-L Divergence."
   ]
  },
  {
   "cell_type": "code",
   "execution_count": 7,
   "metadata": {},
   "outputs": [],
   "source": [
    "def divergenceKL(target, model):\n",
    "    return np.sum(target*np.log(target/model))"
   ]
  },
  {
   "cell_type": "markdown",
   "metadata": {},
   "source": [
    "Island 1 as the target and Islands 1, 2 and 3 as the model:"
   ]
  },
  {
   "cell_type": "code",
   "execution_count": 8,
   "metadata": {},
   "outputs": [
    {
     "name": "stdout",
     "output_type": "stream",
     "text": [
      "KL divergence(Island_1, Island_1): 0.0\n",
      "KL divergence(Island_1, Island_2): 0.9704060527839233\n",
      "KL divergence(Island_1, Island_3): 0.638760437463217\n"
     ]
    }
   ],
   "source": [
    "dKL_1_1 = divergenceKL(df.loc['Island_1'].values, df.loc['Island_1'].values)\n",
    "dKL_1_2 = divergenceKL(df.loc['Island_1'].values, df.loc['Island_2'].values)\n",
    "dKL_1_3 = divergenceKL(df.loc['Island_1'].values, df.loc['Island_3'].values)\n",
    "print(\"KL divergence(Island_1, Island_1):\", dKL_1_1)\n",
    "print(\"KL divergence(Island_1, Island_2):\", dKL_1_2)\n",
    "print(\"KL divergence(Island_1, Island_3):\", dKL_1_3)"
   ]
  },
  {
   "cell_type": "markdown",
   "metadata": {},
   "source": [
    "Island 2 as the target and Islands 1, 2 and 3 as the model:"
   ]
  },
  {
   "cell_type": "code",
   "execution_count": 9,
   "metadata": {},
   "outputs": [
    {
     "name": "stdout",
     "output_type": "stream",
     "text": [
      "KL divergence(Island_2, Island_1): 0.8664339756999315\n",
      "KL divergence(Island_2, Island_2): 0.0\n",
      "KL divergence(Island_2, Island_3): 2.010914241472249\n"
     ]
    }
   ],
   "source": [
    "dKL_2_1 = divergenceKL(df.loc['Island_2'].values, df.loc['Island_1'].values)\n",
    "dKL_2_2 = divergenceKL(df.loc['Island_2'].values, df.loc['Island_2'].values)\n",
    "dKL_2_3 = divergenceKL(df.loc['Island_2'].values, df.loc['Island_3'].values)\n",
    "print(\"KL divergence(Island_2, Island_1):\", dKL_2_1)\n",
    "print(\"KL divergence(Island_2, Island_2):\", dKL_2_2)\n",
    "print(\"KL divergence(Island_2, Island_3):\", dKL_2_3)"
   ]
  },
  {
   "cell_type": "markdown",
   "metadata": {},
   "source": [
    "Island 3 as the target and Islands 1, 2 and 3 as the model:"
   ]
  },
  {
   "cell_type": "code",
   "execution_count": 10,
   "metadata": {},
   "outputs": [
    {
     "name": "stdout",
     "output_type": "stream",
     "text": [
      "KL divergence(Island_3, Island_1): 0.6258376129110066\n",
      "KL divergence(Island_3, Island_2): 1.8388451788909108\n",
      "KL divergence(Island_3, Island_3): 0.0\n"
     ]
    }
   ],
   "source": [
    "dKL_3_1 = divergenceKL(df.loc['Island_3'].values, df.loc['Island_1'].values)\n",
    "dKL_3_2 = divergenceKL(df.loc['Island_3'].values, df.loc['Island_2'].values)\n",
    "dKL_3_3 = divergenceKL(df.loc['Island_3'].values, df.loc['Island_3'].values)\n",
    "print(\"KL divergence(Island_3, Island_1):\", dKL_3_1)\n",
    "print(\"KL divergence(Island_3, Island_2):\", dKL_3_2)\n",
    "print(\"KL divergence(Island_3, Island_3):\", dKL_3_3)"
   ]
  },
  {
   "cell_type": "markdown",
   "metadata": {},
   "source": [
    "The Island_1 predicts better the others as it has the smallest KL divergence related to the other 2 islands.\n",
    "<br>\n",
    "<br>\n",
    "This is the case because the Island_1 has the highest entropy, their birds species are more uniformly distributed, therefore, it's less surprising to see any species of bird in the other islands as you see all of them in the same proportion in Island_1.\n",
    "<br>\n",
    "<br>\n",
    "Notice that the KL divergence for the same distribution is equal to zero.\n",
    "<br>\n",
    "<br>\n",
    "**Note**: To understand better the property of the KL divergence for why dKL(Island_1, Island_2) is different from dKL(Island_2, Island_1) it's worth reading the short section *Divergence depends upon direction* from the 2nd edition of the book, page 208."
   ]
  },
  {
   "cell_type": "markdown",
   "metadata": {},
   "source": [
    "---"
   ]
  },
  {
   "cell_type": "markdown",
   "metadata": {},
   "source": [
    "## Fitting models for analysis\n",
    "Using the dataset foxes that was explored in the [last homework](https://github.com/elisiojsj/Data-Science/blob/master/homeworks_statistical_rethinking/homework_week3.ipynb) we'll fit some models using different predictor variable sets.\n",
    "* m_1 : avgfood + groupsize + area\n",
    "* m_2 : avgfood + groupsize \n",
    "* m_3 : groupsize + area\n",
    "* m_4 : avgfood\n",
    "* m_5 : area\n",
    "\n",
    "<br>\n",
    "For all models we're predicting **weight**."
   ]
  },
  {
   "cell_type": "code",
   "execution_count": 11,
   "metadata": {},
   "outputs": [],
   "source": [
    "def standardize(series):\n",
    "    series_std = (series - series.mean()) / series.std()\n",
    "    return series_std"
   ]
  },
  {
   "cell_type": "code",
   "execution_count": 12,
   "metadata": {
    "scrolled": true
   },
   "outputs": [
    {
     "data": {
      "text/html": [
       "<div>\n",
       "<style scoped>\n",
       "    .dataframe tbody tr th:only-of-type {\n",
       "        vertical-align: middle;\n",
       "    }\n",
       "\n",
       "    .dataframe tbody tr th {\n",
       "        vertical-align: top;\n",
       "    }\n",
       "\n",
       "    .dataframe thead th {\n",
       "        text-align: right;\n",
       "    }\n",
       "</style>\n",
       "<table border=\"1\" class=\"dataframe\">\n",
       "  <thead>\n",
       "    <tr style=\"text-align: right;\">\n",
       "      <th></th>\n",
       "      <th>group</th>\n",
       "      <th>avgfood</th>\n",
       "      <th>groupsize</th>\n",
       "      <th>area</th>\n",
       "      <th>weight</th>\n",
       "      <th>avgfood_std</th>\n",
       "      <th>groupsize_std</th>\n",
       "      <th>area_std</th>\n",
       "      <th>weight_std</th>\n",
       "    </tr>\n",
       "  </thead>\n",
       "  <tbody>\n",
       "    <tr>\n",
       "      <th>0</th>\n",
       "      <td>1</td>\n",
       "      <td>0.37</td>\n",
       "      <td>2</td>\n",
       "      <td>1.09</td>\n",
       "      <td>5.02</td>\n",
       "      <td>-1.924829</td>\n",
       "      <td>-1.524089</td>\n",
       "      <td>-2.239596</td>\n",
       "      <td>0.414135</td>\n",
       "    </tr>\n",
       "    <tr>\n",
       "      <th>1</th>\n",
       "      <td>1</td>\n",
       "      <td>0.37</td>\n",
       "      <td>2</td>\n",
       "      <td>1.09</td>\n",
       "      <td>2.84</td>\n",
       "      <td>-1.924829</td>\n",
       "      <td>-1.524089</td>\n",
       "      <td>-2.239596</td>\n",
       "      <td>-1.427046</td>\n",
       "    </tr>\n",
       "    <tr>\n",
       "      <th>2</th>\n",
       "      <td>2</td>\n",
       "      <td>0.53</td>\n",
       "      <td>2</td>\n",
       "      <td>2.05</td>\n",
       "      <td>5.33</td>\n",
       "      <td>-1.118035</td>\n",
       "      <td>-1.524089</td>\n",
       "      <td>-1.205508</td>\n",
       "      <td>0.675954</td>\n",
       "    </tr>\n",
       "    <tr>\n",
       "      <th>3</th>\n",
       "      <td>2</td>\n",
       "      <td>0.53</td>\n",
       "      <td>2</td>\n",
       "      <td>2.05</td>\n",
       "      <td>6.07</td>\n",
       "      <td>-1.118035</td>\n",
       "      <td>-1.524089</td>\n",
       "      <td>-1.205508</td>\n",
       "      <td>1.300942</td>\n",
       "    </tr>\n",
       "    <tr>\n",
       "      <th>4</th>\n",
       "      <td>3</td>\n",
       "      <td>0.49</td>\n",
       "      <td>2</td>\n",
       "      <td>2.12</td>\n",
       "      <td>5.85</td>\n",
       "      <td>-1.319734</td>\n",
       "      <td>-1.524089</td>\n",
       "      <td>-1.130106</td>\n",
       "      <td>1.115135</td>\n",
       "    </tr>\n",
       "  </tbody>\n",
       "</table>\n",
       "</div>"
      ],
      "text/plain": [
       "   group  avgfood  groupsize  area  weight  avgfood_std  groupsize_std  \\\n",
       "0      1     0.37          2  1.09    5.02    -1.924829      -1.524089   \n",
       "1      1     0.37          2  1.09    2.84    -1.924829      -1.524089   \n",
       "2      2     0.53          2  2.05    5.33    -1.118035      -1.524089   \n",
       "3      2     0.53          2  2.05    6.07    -1.118035      -1.524089   \n",
       "4      3     0.49          2  2.12    5.85    -1.319734      -1.524089   \n",
       "\n",
       "   area_std  weight_std  \n",
       "0 -2.239596    0.414135  \n",
       "1 -2.239596   -1.427046  \n",
       "2 -1.205508    0.675954  \n",
       "3 -1.205508    1.300942  \n",
       "4 -1.130106    1.115135  "
      ]
     },
     "execution_count": 12,
     "metadata": {},
     "output_type": "execute_result"
    }
   ],
   "source": [
    "df = pd.read_csv(\"../data/foxes.csv\", sep=\";\")\n",
    "\n",
    "df['avgfood_std'] = standardize(df.avgfood)\n",
    "df['groupsize_std'] = standardize(df.groupsize)\n",
    "df['area_std'] = standardize(df.area)\n",
    "df['weight_std'] = standardize(df.weight)\n",
    "df.head()"
   ]
  },
  {
   "cell_type": "code",
   "execution_count": 13,
   "metadata": {},
   "outputs": [
    {
     "name": "stderr",
     "output_type": "stream",
     "text": [
      "Auto-assigning NUTS sampler...\n",
      "Initializing NUTS using jitter+adapt_diag...\n",
      "Multiprocess sampling (4 chains in 4 jobs)\n",
      "NUTS: [sigma, bA, bG, bF, a]\n"
     ]
    },
    {
     "data": {
      "text/html": [
       "\n",
       "    <div>\n",
       "        <style>\n",
       "            /* Turns off some styling */\n",
       "            progress {\n",
       "                /* gets rid of default border in Firefox and Opera. */\n",
       "                border: none;\n",
       "                /* Needs to be in here for Safari polyfill so background images work as expected. */\n",
       "                background-size: auto;\n",
       "            }\n",
       "            .progress-bar-interrupted, .progress-bar-interrupted::-webkit-progress-bar {\n",
       "                background: #F44336;\n",
       "            }\n",
       "        </style>\n",
       "      <progress value='16000' class='' max='16000' style='width:300px; height:20px; vertical-align: middle;'></progress>\n",
       "      100.00% [16000/16000 00:05<00:00 Sampling 4 chains, 0 divergences]\n",
       "    </div>\n",
       "    "
      ],
      "text/plain": [
       "<IPython.core.display.HTML object>"
      ]
     },
     "metadata": {},
     "output_type": "display_data"
    },
    {
     "name": "stderr",
     "output_type": "stream",
     "text": [
      "Sampling 4 chains for 2_000 tune and 2_000 draw iterations (8_000 + 8_000 draws total) took 6 seconds.\n"
     ]
    }
   ],
   "source": [
    "with pm.Model() as m_1:\n",
    "    a = pm.Normal('a', 2, 0.5)\n",
    "    bF = pm.Normal('bF', 0, 0.5)\n",
    "    bG = pm.Normal('bG', 0, 0.5)\n",
    "    bA = pm.Normal('bA', 0, 0.5)\n",
    "    \n",
    "    sigma = pm.Exponential('sigma', 1)\n",
    "    mu = a + bF*df['avgfood_std'] + bG*df['groupsize_std'] + bA*df['area_std']\n",
    "    \n",
    "    weight = pm.Normal('weight', mu=mu, sigma=sigma, observed=df['weight_std'])\n",
    "    \n",
    "    m_1_trace = pm.sample(draws=2000, tune=2000)"
   ]
  },
  {
   "cell_type": "code",
   "execution_count": 14,
   "metadata": {},
   "outputs": [
    {
     "name": "stderr",
     "output_type": "stream",
     "text": [
      "Auto-assigning NUTS sampler...\n",
      "Initializing NUTS using jitter+adapt_diag...\n",
      "Multiprocess sampling (4 chains in 4 jobs)\n",
      "NUTS: [sigma, bG, bF, a]\n"
     ]
    },
    {
     "data": {
      "text/html": [
       "\n",
       "    <div>\n",
       "        <style>\n",
       "            /* Turns off some styling */\n",
       "            progress {\n",
       "                /* gets rid of default border in Firefox and Opera. */\n",
       "                border: none;\n",
       "                /* Needs to be in here for Safari polyfill so background images work as expected. */\n",
       "                background-size: auto;\n",
       "            }\n",
       "            .progress-bar-interrupted, .progress-bar-interrupted::-webkit-progress-bar {\n",
       "                background: #F44336;\n",
       "            }\n",
       "        </style>\n",
       "      <progress value='24000' class='' max='24000' style='width:300px; height:20px; vertical-align: middle;'></progress>\n",
       "      100.00% [24000/24000 00:07<00:00 Sampling 4 chains, 0 divergences]\n",
       "    </div>\n",
       "    "
      ],
      "text/plain": [
       "<IPython.core.display.HTML object>"
      ]
     },
     "metadata": {},
     "output_type": "display_data"
    },
    {
     "name": "stderr",
     "output_type": "stream",
     "text": [
      "Sampling 4 chains for 4_000 tune and 2_000 draw iterations (16_000 + 8_000 draws total) took 7 seconds.\n"
     ]
    }
   ],
   "source": [
    "with pm.Model() as m_2:\n",
    "    a = pm.Normal('a', 2, 0.5)\n",
    "    bF = pm.Normal('bF', 0, 0.5)\n",
    "    bG = pm.Normal('bG', 0, 0.5)\n",
    "    \n",
    "    sigma = pm.Exponential('sigma', 1)\n",
    "    mu = a + bF*df['avgfood_std'] + bG*df['groupsize_std']\n",
    "    \n",
    "    weight = pm.Normal('weight', mu=mu, sigma=sigma, observed=df['weight_std'])\n",
    "    \n",
    "    m_2_trace = pm.sample(draws=2000, tune=4000)"
   ]
  },
  {
   "cell_type": "code",
   "execution_count": 15,
   "metadata": {},
   "outputs": [
    {
     "name": "stderr",
     "output_type": "stream",
     "text": [
      "Auto-assigning NUTS sampler...\n",
      "Initializing NUTS using jitter+adapt_diag...\n",
      "Multiprocess sampling (4 chains in 4 jobs)\n",
      "NUTS: [sigma, bA, bG, a]\n"
     ]
    },
    {
     "data": {
      "text/html": [
       "\n",
       "    <div>\n",
       "        <style>\n",
       "            /* Turns off some styling */\n",
       "            progress {\n",
       "                /* gets rid of default border in Firefox and Opera. */\n",
       "                border: none;\n",
       "                /* Needs to be in here for Safari polyfill so background images work as expected. */\n",
       "                background-size: auto;\n",
       "            }\n",
       "            .progress-bar-interrupted, .progress-bar-interrupted::-webkit-progress-bar {\n",
       "                background: #F44336;\n",
       "            }\n",
       "        </style>\n",
       "      <progress value='16000' class='' max='16000' style='width:300px; height:20px; vertical-align: middle;'></progress>\n",
       "      100.00% [16000/16000 00:04<00:00 Sampling 4 chains, 0 divergences]\n",
       "    </div>\n",
       "    "
      ],
      "text/plain": [
       "<IPython.core.display.HTML object>"
      ]
     },
     "metadata": {},
     "output_type": "display_data"
    },
    {
     "name": "stderr",
     "output_type": "stream",
     "text": [
      "Sampling 4 chains for 2_000 tune and 2_000 draw iterations (8_000 + 8_000 draws total) took 4 seconds.\n"
     ]
    }
   ],
   "source": [
    "with pm.Model() as m_3:\n",
    "    a = pm.Normal('a', 2, 0.5)\n",
    "    bG = pm.Normal('bG', 0, 0.5)\n",
    "    bA = pm.Normal('bA', 0, 0.5)\n",
    "    \n",
    "    sigma = pm.Exponential('sigma', 1)\n",
    "    mu = a + bG*df['groupsize_std'] + bA*df['area_std']\n",
    "    \n",
    "    weight = pm.Normal('weight', mu=mu, sigma=sigma, observed=df['weight_std'])\n",
    "    \n",
    "    m_3_trace = pm.sample(draws=2000, tune=2000)"
   ]
  },
  {
   "cell_type": "code",
   "execution_count": 16,
   "metadata": {},
   "outputs": [
    {
     "name": "stderr",
     "output_type": "stream",
     "text": [
      "Auto-assigning NUTS sampler...\n",
      "Initializing NUTS using jitter+adapt_diag...\n",
      "Multiprocess sampling (4 chains in 4 jobs)\n",
      "NUTS: [sigma, bF, a]\n"
     ]
    },
    {
     "data": {
      "text/html": [
       "\n",
       "    <div>\n",
       "        <style>\n",
       "            /* Turns off some styling */\n",
       "            progress {\n",
       "                /* gets rid of default border in Firefox and Opera. */\n",
       "                border: none;\n",
       "                /* Needs to be in here for Safari polyfill so background images work as expected. */\n",
       "                background-size: auto;\n",
       "            }\n",
       "            .progress-bar-interrupted, .progress-bar-interrupted::-webkit-progress-bar {\n",
       "                background: #F44336;\n",
       "            }\n",
       "        </style>\n",
       "      <progress value='8000' class='' max='8000' style='width:300px; height:20px; vertical-align: middle;'></progress>\n",
       "      100.00% [8000/8000 00:01<00:00 Sampling 4 chains, 0 divergences]\n",
       "    </div>\n",
       "    "
      ],
      "text/plain": [
       "<IPython.core.display.HTML object>"
      ]
     },
     "metadata": {},
     "output_type": "display_data"
    },
    {
     "name": "stderr",
     "output_type": "stream",
     "text": [
      "Sampling 4 chains for 1_000 tune and 1_000 draw iterations (4_000 + 4_000 draws total) took 1 seconds.\n"
     ]
    }
   ],
   "source": [
    "x_bar_std = df['avgfood_std'].mean()\n",
    "\n",
    "with pm.Model() as m_4:\n",
    "    a = pm.Normal('a', 2, 0.5)\n",
    "    bF = pm.Normal('bF', 0, 0.5)\n",
    "    \n",
    "    sigma = pm.Exponential('sigma', 1)\n",
    "    mu = a + bF*(df['avgfood_std'] - x_bar_std)\n",
    "    \n",
    "    weight = pm.Normal('weight', mu=mu, sigma=sigma, observed=df['weight_std'])\n",
    "    \n",
    "    m_4_trace = pm.sample()"
   ]
  },
  {
   "cell_type": "code",
   "execution_count": 17,
   "metadata": {},
   "outputs": [
    {
     "name": "stderr",
     "output_type": "stream",
     "text": [
      "Auto-assigning NUTS sampler...\n",
      "Initializing NUTS using jitter+adapt_diag...\n",
      "Multiprocess sampling (4 chains in 4 jobs)\n",
      "NUTS: [sigma, bA, a]\n"
     ]
    },
    {
     "data": {
      "text/html": [
       "\n",
       "    <div>\n",
       "        <style>\n",
       "            /* Turns off some styling */\n",
       "            progress {\n",
       "                /* gets rid of default border in Firefox and Opera. */\n",
       "                border: none;\n",
       "                /* Needs to be in here for Safari polyfill so background images work as expected. */\n",
       "                background-size: auto;\n",
       "            }\n",
       "            .progress-bar-interrupted, .progress-bar-interrupted::-webkit-progress-bar {\n",
       "                background: #F44336;\n",
       "            }\n",
       "        </style>\n",
       "      <progress value='8000' class='' max='8000' style='width:300px; height:20px; vertical-align: middle;'></progress>\n",
       "      100.00% [8000/8000 00:01<00:00 Sampling 4 chains, 0 divergences]\n",
       "    </div>\n",
       "    "
      ],
      "text/plain": [
       "<IPython.core.display.HTML object>"
      ]
     },
     "metadata": {},
     "output_type": "display_data"
    },
    {
     "name": "stderr",
     "output_type": "stream",
     "text": [
      "Sampling 4 chains for 1_000 tune and 1_000 draw iterations (4_000 + 4_000 draws total) took 1 seconds.\n"
     ]
    }
   ],
   "source": [
    "x_bar_std = df['area_std'].mean()\n",
    "\n",
    "with pm.Model() as m_5:\n",
    "    a = pm.Normal('a', 2, 0.5)\n",
    "    bA = pm.Normal('bA', 0, 0.5)\n",
    "    \n",
    "    sigma = pm.Exponential('sigma', 1)\n",
    "    mu = a + bA*(df['area_std'] - x_bar_std)\n",
    "    \n",
    "    weight = pm.Normal('weight', mu=mu, sigma=sigma, observed=df['weight_std'])\n",
    "    \n",
    "    m_5_trace = pm.sample()"
   ]
  },
  {
   "cell_type": "code",
   "execution_count": 18,
   "metadata": {
    "scrolled": true
   },
   "outputs": [
    {
     "data": {
      "text/plain": [
       "Computed from 4000 by 116 log-likelihood matrix\n",
       "\n",
       "              Estimate       SE\n",
       "deviance_waic   334.10    13.17\n",
       "p_waic            2.43        -"
      ]
     },
     "execution_count": 18,
     "metadata": {},
     "output_type": "execute_result"
    }
   ],
   "source": [
    "az.waic(m_4_trace, m_4, scale=\"deviance\")"
   ]
  },
  {
   "cell_type": "code",
   "execution_count": 19,
   "metadata": {
    "scrolled": true
   },
   "outputs": [
    {
     "name": "stderr",
     "output_type": "stream",
     "text": [
      "/home/elisio/anaconda3/lib/python3.8/site-packages/arviz/stats/stats.py:1425: UserWarning: For one or more samples the posterior variance of the log predictive densities exceeds 0.4. This could be indication of WAIC starting to fail. \n",
      "See http://arxiv.org/abs/1507.04544 for details\n",
      "  warnings.warn(\n",
      "/home/elisio/anaconda3/lib/python3.8/site-packages/arviz/stats/stats.py:1425: UserWarning: For one or more samples the posterior variance of the log predictive densities exceeds 0.4. This could be indication of WAIC starting to fail. \n",
      "See http://arxiv.org/abs/1507.04544 for details\n",
      "  warnings.warn(\n"
     ]
    },
    {
     "data": {
      "text/html": [
       "<div>\n",
       "<style scoped>\n",
       "    .dataframe tbody tr th:only-of-type {\n",
       "        vertical-align: middle;\n",
       "    }\n",
       "\n",
       "    .dataframe tbody tr th {\n",
       "        vertical-align: top;\n",
       "    }\n",
       "\n",
       "    .dataframe thead th {\n",
       "        text-align: right;\n",
       "    }\n",
       "</style>\n",
       "<table border=\"1\" class=\"dataframe\">\n",
       "  <thead>\n",
       "    <tr style=\"text-align: right;\">\n",
       "      <th></th>\n",
       "      <th>rank</th>\n",
       "      <th>waic</th>\n",
       "      <th>p_waic</th>\n",
       "      <th>d_waic</th>\n",
       "      <th>weight</th>\n",
       "      <th>se</th>\n",
       "      <th>dse</th>\n",
       "      <th>warning</th>\n",
       "      <th>waic_scale</th>\n",
       "    </tr>\n",
       "  </thead>\n",
       "  <tbody>\n",
       "    <tr>\n",
       "      <th>m_1</th>\n",
       "      <td>0</td>\n",
       "      <td>323.732</td>\n",
       "      <td>4.6443</td>\n",
       "      <td>0</td>\n",
       "      <td>0.39885</td>\n",
       "      <td>15.2665</td>\n",
       "      <td>0</td>\n",
       "      <td>True</td>\n",
       "      <td>deviance</td>\n",
       "    </tr>\n",
       "    <tr>\n",
       "      <th>m_2</th>\n",
       "      <td>1</td>\n",
       "      <td>324.305</td>\n",
       "      <td>3.56413</td>\n",
       "      <td>0.572762</td>\n",
       "      <td>0.299527</td>\n",
       "      <td>15.1982</td>\n",
       "      <td>3.32146</td>\n",
       "      <td>False</td>\n",
       "      <td>deviance</td>\n",
       "    </tr>\n",
       "    <tr>\n",
       "      <th>m_3</th>\n",
       "      <td>2</td>\n",
       "      <td>324.32</td>\n",
       "      <td>3.57599</td>\n",
       "      <td>0.587412</td>\n",
       "      <td>0.297341</td>\n",
       "      <td>14.8045</td>\n",
       "      <td>2.77202</td>\n",
       "      <td>True</td>\n",
       "      <td>deviance</td>\n",
       "    </tr>\n",
       "    <tr>\n",
       "      <th>m_4</th>\n",
       "      <td>3</td>\n",
       "      <td>334.099</td>\n",
       "      <td>2.42606</td>\n",
       "      <td>10.3664</td>\n",
       "      <td>0.00223759</td>\n",
       "      <td>13.1714</td>\n",
       "      <td>6.67151</td>\n",
       "      <td>False</td>\n",
       "      <td>deviance</td>\n",
       "    </tr>\n",
       "    <tr>\n",
       "      <th>m_5</th>\n",
       "      <td>4</td>\n",
       "      <td>334.278</td>\n",
       "      <td>2.6045</td>\n",
       "      <td>10.5459</td>\n",
       "      <td>0.00204546</td>\n",
       "      <td>13.161</td>\n",
       "      <td>6.71708</td>\n",
       "      <td>False</td>\n",
       "      <td>deviance</td>\n",
       "    </tr>\n",
       "  </tbody>\n",
       "</table>\n",
       "</div>"
      ],
      "text/plain": [
       "    rank     waic   p_waic    d_waic      weight       se      dse warning  \\\n",
       "m_1    0  323.732   4.6443         0     0.39885  15.2665        0    True   \n",
       "m_2    1  324.305  3.56413  0.572762    0.299527  15.1982  3.32146   False   \n",
       "m_3    2   324.32  3.57599  0.587412    0.297341  14.8045  2.77202    True   \n",
       "m_4    3  334.099  2.42606   10.3664  0.00223759  13.1714  6.67151   False   \n",
       "m_5    4  334.278   2.6045   10.5459  0.00204546   13.161  6.71708   False   \n",
       "\n",
       "    waic_scale  \n",
       "m_1   deviance  \n",
       "m_2   deviance  \n",
       "m_3   deviance  \n",
       "m_4   deviance  \n",
       "m_5   deviance  "
      ]
     },
     "execution_count": 19,
     "metadata": {},
     "output_type": "execute_result"
    }
   ],
   "source": [
    "compare_m = az.compare({\"m_1\": m_1_trace,\"m_2\": m_2_trace, \n",
    "                        \"m_3\": m_3_trace,\"m_4\": m_4_trace, \n",
    "                        \"m_5\": m_5_trace},\n",
    "                         method=\"pseudo-BMA\",\n",
    "                         ic=\"waic\",\n",
    "                         scale=\"deviance\")\n",
    "compare_m"
   ]
  },
  {
   "cell_type": "markdown",
   "metadata": {},
   "source": [
    "The table above is quite informative, it's already ordered from the best to worst, as can be seen on the **rank**.\n",
    "<br>\n",
    "This order is based on the **WAIC**, the smaller the better.\n",
    "<br>\n",
    "<br>\n",
    "**d_waic** is the difference between each model's WAIC and the best WAIC. **dse** is the standard error of this difference.\n",
    "<br>\n",
    "<br>\n",
    "**se** is the approximate standard error for each model. We expect the uncertainty in out-of-sample accuracy to be normally distributed with mean equal to **waic** and the standard deviation equal to **se**. \n",
    "<br>\n",
    "<br>\n",
    "**weight** is the Akaike weight. This is the relative weight for each model, they can be a quick way to see how big the are the differences among models. But they are not sufficient for model comparison since they don't reflect the standard error. They all sum to one.\n",
    "<br>"
   ]
  },
  {
   "cell_type": "markdown",
   "metadata": {},
   "source": [
    "The best prediction model is definitely, **m_1** and it counts with more predictor variables than the other ones. It's followed by **m_2** and **m_3** that have 2 predictor variables. Lastly, **m_4** and **m_5** have only one predictor variable.\n",
    "<br>\n",
    "<br>\n",
    "The only predictor variable between **m_1** and **m_2**/**m_3** is **area**. Although, we could see in the [last homework](https://github.com/elisiojsj/Data-Science/blob/master/homeworks_statistical_rethinking/homework_week3.ipynb) that **area** alone is not casually related to the **weight** it has some impact on it and is useful to make predictions. This is what WAIC is telling us here.\n",
    "<br>\n",
    "<br>\n",
    "We can compare batter the results by ploting the them.\n",
    "The plot below show all the models. The filled points are the in-sample deviance values, the open points are the WAIC values. \n",
    "<br>\n",
    "The lighter line segments with the triangle on it are the standard error of the difference in the WAIC between the best and the other models."
   ]
  },
  {
   "cell_type": "code",
   "execution_count": 20,
   "metadata": {
    "scrolled": false
   },
   "outputs": [
    {
     "data": {
      "text/plain": [
       "<AxesSubplot:xlabel='Deviance'>"
      ]
     },
     "execution_count": 20,
     "metadata": {},
     "output_type": "execute_result"
    },
    {
     "data": {
      "image/png": "[encoded data removed]",
      "text/plain": [
       "<Figure size 432x360 with 1 Axes>"
      ]
     },
     "metadata": {
      "needs_background": "light"
     },
     "output_type": "display_data"
    }
   ],
   "source": [
    "az.plot_compare(compare_m)"
   ]
  },
  {
   "cell_type": "markdown",
   "metadata": {},
   "source": [
    "As the WAIC comparison returned some warnings let's use the PSIS-LOO method to get another perspective. The values should be almost identical to the ones we had with WAIC."
   ]
  },
  {
   "cell_type": "code",
   "execution_count": 21,
   "metadata": {
    "scrolled": false
   },
   "outputs": [
    {
     "data": {
      "text/html": [
       "<div>\n",
       "<style scoped>\n",
       "    .dataframe tbody tr th:only-of-type {\n",
       "        vertical-align: middle;\n",
       "    }\n",
       "\n",
       "    .dataframe tbody tr th {\n",
       "        vertical-align: top;\n",
       "    }\n",
       "\n",
       "    .dataframe thead th {\n",
       "        text-align: right;\n",
       "    }\n",
       "</style>\n",
       "<table border=\"1\" class=\"dataframe\">\n",
       "  <thead>\n",
       "    <tr style=\"text-align: right;\">\n",
       "      <th></th>\n",
       "      <th>rank</th>\n",
       "      <th>loo</th>\n",
       "      <th>p_loo</th>\n",
       "      <th>d_loo</th>\n",
       "      <th>weight</th>\n",
       "      <th>se</th>\n",
       "      <th>dse</th>\n",
       "      <th>warning</th>\n",
       "      <th>loo_scale</th>\n",
       "    </tr>\n",
       "  </thead>\n",
       "  <tbody>\n",
       "    <tr>\n",
       "      <th>m_1</th>\n",
       "      <td>0</td>\n",
       "      <td>323.778</td>\n",
       "      <td>4.66726</td>\n",
       "      <td>0</td>\n",
       "      <td>0.28768</td>\n",
       "      <td>15.46</td>\n",
       "      <td>0</td>\n",
       "      <td>False</td>\n",
       "      <td>deviance</td>\n",
       "    </tr>\n",
       "    <tr>\n",
       "      <th>m_2</th>\n",
       "      <td>1</td>\n",
       "      <td>324.323</td>\n",
       "      <td>3.57299</td>\n",
       "      <td>0.544569</td>\n",
       "      <td>0.340829</td>\n",
       "      <td>15.5674</td>\n",
       "      <td>3.31943</td>\n",
       "      <td>False</td>\n",
       "      <td>deviance</td>\n",
       "    </tr>\n",
       "    <tr>\n",
       "      <th>m_3</th>\n",
       "      <td>2</td>\n",
       "      <td>324.334</td>\n",
       "      <td>3.583</td>\n",
       "      <td>0.555501</td>\n",
       "      <td>0.33304</td>\n",
       "      <td>14.8123</td>\n",
       "      <td>2.78019</td>\n",
       "      <td>False</td>\n",
       "      <td>deviance</td>\n",
       "    </tr>\n",
       "    <tr>\n",
       "      <th>m_4</th>\n",
       "      <td>3</td>\n",
       "      <td>334.102</td>\n",
       "      <td>2.42784</td>\n",
       "      <td>10.324</td>\n",
       "      <td>0.0187123</td>\n",
       "      <td>13.2695</td>\n",
       "      <td>6.68076</td>\n",
       "      <td>False</td>\n",
       "      <td>deviance</td>\n",
       "    </tr>\n",
       "    <tr>\n",
       "      <th>m_5</th>\n",
       "      <td>4</td>\n",
       "      <td>334.285</td>\n",
       "      <td>2.60768</td>\n",
       "      <td>10.5064</td>\n",
       "      <td>0.0197391</td>\n",
       "      <td>13.2869</td>\n",
       "      <td>6.72675</td>\n",
       "      <td>False</td>\n",
       "      <td>deviance</td>\n",
       "    </tr>\n",
       "  </tbody>\n",
       "</table>\n",
       "</div>"
      ],
      "text/plain": [
       "    rank      loo    p_loo     d_loo     weight       se      dse warning  \\\n",
       "m_1    0  323.778  4.66726         0    0.28768    15.46        0   False   \n",
       "m_2    1  324.323  3.57299  0.544569   0.340829  15.5674  3.31943   False   \n",
       "m_3    2  324.334    3.583  0.555501    0.33304  14.8123  2.78019   False   \n",
       "m_4    3  334.102  2.42784    10.324  0.0187123  13.2695  6.68076   False   \n",
       "m_5    4  334.285  2.60768   10.5064  0.0197391  13.2869  6.72675   False   \n",
       "\n",
       "    loo_scale  \n",
       "m_1  deviance  \n",
       "m_2  deviance  \n",
       "m_3  deviance  \n",
       "m_4  deviance  \n",
       "m_5  deviance  "
      ]
     },
     "execution_count": 21,
     "metadata": {},
     "output_type": "execute_result"
    }
   ],
   "source": [
    "compare_m = az.compare({\"m_1\": m_1_trace,\"m_2\": m_2_trace, \n",
    "                        \"m_3\": m_3_trace,\"m_4\": m_4_trace, \n",
    "                        \"m_5\": m_5_trace},\n",
    "                         ic=\"loo\",\n",
    "                         scale=\"deviance\")\n",
    "compare_m"
   ]
  },
  {
   "cell_type": "markdown",
   "metadata": {},
   "source": [
    "No warning related to model failure this with PSIS-LOO.\n",
    "When a point's Pareto k value is above 0.7 PSIS will return a warning, indicating that PSIS's weights are not performing well.\n",
    "<br>\n",
    "<br>\n",
    "For the sake of comparison we can make a scatterplot of *PSIS Pareto k* and *WAIC penalty* to show the relationship between them for each data point in the model. This type of plot is very useful to spot outliers."
   ]
  },
  {
   "cell_type": "code",
   "execution_count": 22,
   "metadata": {},
   "outputs": [
    {
     "name": "stderr",
     "output_type": "stream",
     "text": [
      "/home/elisio/anaconda3/lib/python3.8/site-packages/arviz/stats/stats.py:1425: UserWarning: For one or more samples the posterior variance of the log predictive densities exceeds 0.4. This could be indication of WAIC starting to fail. \n",
      "See http://arxiv.org/abs/1507.04544 for details\n",
      "  warnings.warn(\n"
     ]
    },
    {
     "data": {
      "image/png": "[encoded data removed]",
      "text/plain": [
       "<Figure size 432x288 with 1 Axes>"
      ]
     },
     "metadata": {
      "needs_background": "light"
     },
     "output_type": "display_data"
    }
   ],
   "source": [
    "m_1_psis = az.loo(m_1_trace, pointwise=True, scale=\"deviance\")\n",
    "m_1_waic = az.waic(m_1_trace, pointwise=True, scale=\"deviance\")\n",
    "\n",
    "plt.scatter(m_1_psis.pareto_k, m_1_waic.waic_i)\n",
    "plt.xlabel(\"PSIS Pareto k\")\n",
    "plt.ylabel(\"WAIC penalty\");"
   ]
  },
  {
   "cell_type": "markdown",
   "metadata": {},
   "source": [
    "Full PSIS Pareto k diagnostic for model 1:"
   ]
  },
  {
   "cell_type": "code",
   "execution_count": 23,
   "metadata": {},
   "outputs": [
    {
     "data": {
      "text/plain": [
       "Computed from 8000 by 116 log-likelihood matrix\n",
       "\n",
       "             Estimate       SE\n",
       "deviance_loo   323.78    15.28\n",
       "p_loo            4.67        -\n",
       "------\n",
       "\n",
       "Pareto k diagnostic values:\n",
       "                         Count   Pct.\n",
       "(-Inf, 0.5]   (good)      116  100.0%\n",
       " (0.5, 0.7]   (ok)          0    0.0%\n",
       "   (0.7, 1]   (bad)         0    0.0%\n",
       "   (1, Inf)   (very bad)    0    0.0%"
      ]
     },
     "execution_count": 23,
     "metadata": {},
     "output_type": "execute_result"
    }
   ],
   "source": [
    "m_1_loo = az.loo(m_1_trace, pointwise=True, scale=\"deviance\")\n",
    "m_1_loo"
   ]
  },
  {
   "cell_type": "markdown",
   "metadata": {},
   "source": [
    "---"
   ]
  },
  {
   "cell_type": "markdown",
   "metadata": {},
   "source": [
    "---"
   ]
  },
  {
   "cell_type": "code",
   "execution_count": 24,
   "metadata": {},
   "outputs": [
    {
     "name": "stdout",
     "output_type": "stream",
     "text": [
      "Last updated: Wed Feb 17 2021\n",
      "\n",
      "Python implementation: CPython\n",
      "Python version       : 3.8.5\n",
      "IPython version      : 7.19.0\n",
      "\n",
      "arviz     : 0.10.0\n",
      "scipy     : 1.5.2\n",
      "pandas    : 1.1.3\n",
      "matplotlib: 3.3.2\n",
      "numpy     : 1.19.2\n",
      "pymc3     : 3.9.3\n",
      "seaborn   : 0.11.0\n",
      "\n",
      "Watermark: 2.1.0\n",
      "\n"
     ]
    }
   ],
   "source": [
    "%load_ext watermark\n",
    "%watermark -iv -v -nuw"
   ]
  }
 ],
 "metadata": {
  "kernelspec": {
   "display_name": "Python 3",
   "language": "python",
   "name": "python3"
  },
  "language_info": {
   "codemirror_mode": {
    "name": "ipython",
    "version": 3
   },
   "file_extension": ".py",
   "mimetype": "text/x-python",
   "name": "python",
   "nbconvert_exporter": "python",
   "pygments_lexer": "ipython3",
   "version": "3.8.5"
  }
 },
 "nbformat": 4,
 "nbformat_minor": 4
}
