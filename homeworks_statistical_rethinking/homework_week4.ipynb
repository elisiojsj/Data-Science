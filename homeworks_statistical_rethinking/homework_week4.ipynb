{
 "cells": [
  {
   "cell_type": "code",
   "execution_count": 49,
   "metadata": {},
   "outputs": [],
   "source": [
    "import arviz as az\n",
    "import matplotlib.pyplot as plt\n",
    "import numpy as np\n",
    "import pymc3 as pm\n",
    "import scipy.stats as stats\n",
    "import seaborn as sns\n",
    "import pandas as pd\n",
    "from causalgraphicalmodels import CausalGraphicalModel\n",
    "import daft"
   ]
  },
  {
   "cell_type": "markdown",
   "metadata": {},
   "source": [
    "This is based on the [homework of week 4](https://github.com/rmcelreath/statrethinking_winter2019/blob/master/homework/week04.pdf) of Statistical Rethinking book material.\n",
    "I do the homework based on the questions but not following a specific order.\n",
    "<br>\n",
    "<br>\n",
    "<br>"
   ]
  },
  {
   "cell_type": "code",
   "execution_count": 50,
   "metadata": {
    "scrolled": true
   },
   "outputs": [
    {
     "data": {
      "text/html": [
       "<div>\n",
       "<style scoped>\n",
       "    .dataframe tbody tr th:only-of-type {\n",
       "        vertical-align: middle;\n",
       "    }\n",
       "\n",
       "    .dataframe tbody tr th {\n",
       "        vertical-align: top;\n",
       "    }\n",
       "\n",
       "    .dataframe thead th {\n",
       "        text-align: right;\n",
       "    }\n",
       "</style>\n",
       "<table border=\"1\" class=\"dataframe\">\n",
       "  <thead>\n",
       "    <tr style=\"text-align: right;\">\n",
       "      <th></th>\n",
       "      <th>Bird_A</th>\n",
       "      <th>Bird_B</th>\n",
       "      <th>Bird_C</th>\n",
       "      <th>Bird_D</th>\n",
       "      <th>Bird_E</th>\n",
       "    </tr>\n",
       "  </thead>\n",
       "  <tbody>\n",
       "    <tr>\n",
       "      <th>Island_1</th>\n",
       "      <td>0.20</td>\n",
       "      <td>0.20</td>\n",
       "      <td>0.20</td>\n",
       "      <td>0.200</td>\n",
       "      <td>0.200</td>\n",
       "    </tr>\n",
       "    <tr>\n",
       "      <th>Island_2</th>\n",
       "      <td>0.80</td>\n",
       "      <td>0.10</td>\n",
       "      <td>0.05</td>\n",
       "      <td>0.025</td>\n",
       "      <td>0.025</td>\n",
       "    </tr>\n",
       "    <tr>\n",
       "      <th>Island_3</th>\n",
       "      <td>0.05</td>\n",
       "      <td>0.15</td>\n",
       "      <td>0.70</td>\n",
       "      <td>0.050</td>\n",
       "      <td>0.050</td>\n",
       "    </tr>\n",
       "  </tbody>\n",
       "</table>\n",
       "</div>"
      ],
      "text/plain": [
       "          Bird_A  Bird_B  Bird_C  Bird_D  Bird_E\n",
       "Island_1    0.20    0.20    0.20   0.200   0.200\n",
       "Island_2    0.80    0.10    0.05   0.025   0.025\n",
       "Island_3    0.05    0.15    0.70   0.050   0.050"
      ]
     },
     "execution_count": 50,
     "metadata": {},
     "output_type": "execute_result"
    }
   ],
   "source": [
    "islands = {\"Bird_A\": [0.2, 0.8, 0.05],\n",
    "           \"Bird_B\": [0.2, 0.1, 0.15],\n",
    "           \"Bird_C\": [0.2, 0.05, 0.7],\n",
    "           \"Bird_D\": [0.2, 0.025, 0.05],\n",
    "           \"Bird_E\": [0.2, 0.025, 0.05],\n",
    "          }\n",
    "\n",
    "\n",
    "df = pd.DataFrame(islands)\n",
    "df.rename(index={0:'Island_1', 1:'Island_2', 2:'Island_3'}, inplace=True)\n",
    "df"
   ]
  },
  {
   "cell_type": "markdown",
   "metadata": {},
   "source": [
    "## Computing Entropy\n",
    "Computing the entropy of each island's bird distribution."
   ]
  },
  {
   "cell_type": "code",
   "execution_count": 51,
   "metadata": {},
   "outputs": [],
   "source": [
    "def entropy(series):\n",
    "    return -np.sum((series)*np.log((series)))"
   ]
  },
  {
   "cell_type": "markdown",
   "metadata": {},
   "source": [
    "Entropy for Island 1:"
   ]
  },
  {
   "cell_type": "code",
   "execution_count": 52,
   "metadata": {},
   "outputs": [
    {
     "data": {
      "text/plain": [
       "1.6094379124341005"
      ]
     },
     "execution_count": 52,
     "metadata": {},
     "output_type": "execute_result"
    }
   ],
   "source": [
    "entropy(df.loc['Island_1'].values)"
   ]
  },
  {
   "cell_type": "markdown",
   "metadata": {},
   "source": [
    "Entropy for Island 2:"
   ]
  },
  {
   "cell_type": "code",
   "execution_count": 53,
   "metadata": {},
   "outputs": [
    {
     "data": {
      "text/plain": [
       "0.7430039367341686"
      ]
     },
     "execution_count": 53,
     "metadata": {},
     "output_type": "execute_result"
    }
   ],
   "source": [
    "entropy(df.loc['Island_2'].values)"
   ]
  },
  {
   "cell_type": "markdown",
   "metadata": {},
   "source": [
    "Entropy for Island 3:"
   ]
  },
  {
   "cell_type": "code",
   "execution_count": 54,
   "metadata": {},
   "outputs": [
    {
     "data": {
      "text/plain": [
       "0.9836002995230935"
      ]
     },
     "execution_count": 54,
     "metadata": {},
     "output_type": "execute_result"
    }
   ],
   "source": [
    "entropy(df.loc['Island_3'].values)"
   ]
  },
  {
   "cell_type": "markdown",
   "metadata": {},
   "source": [
    "The results show that the entropy for Island 1 is greater followed by Island 2 and then Island 3. The higher the entropy the more uniformly the population is distributed.\n",
    "<br>\n",
    "<br>\n",
    "That can be noticed when we compare the bird proportions, in Island 1 it's uniformly distributed. You expect to see any of the birds.\n",
    "<br>\n",
    "<br>\n",
    "In Island 2 there's a 80% population for Bird_A and it would be very surprising to see a bird that's not Bird_A. Furthermore, in Island 3 we have a 70% population for Bird_C. Which makes the entropy of these 2 smaller when compared to Island 1."
   ]
  },
  {
   "cell_type": "markdown",
   "metadata": {},
   "source": [
    "## Computing Divergence\n",
    "Using each island's bird distribution to predict the other two by computing the K-L Divergence."
   ]
  },
  {
   "cell_type": "code",
   "execution_count": 55,
   "metadata": {},
   "outputs": [],
   "source": [
    "def divergenceKL(target, model):\n",
    "    return np.sum(target*np.log(target/model))"
   ]
  },
  {
   "cell_type": "markdown",
   "metadata": {},
   "source": [
    "Island 1 as the target and Islands 1, 2 and 3 as the model:"
   ]
  },
  {
   "cell_type": "code",
   "execution_count": 56,
   "metadata": {},
   "outputs": [
    {
     "name": "stdout",
     "output_type": "stream",
     "text": [
      "KL divergence(Island_1, Island_1): 0.0\n",
      "KL divergence(Island_1, Island_2): 0.9704060527839233\n",
      "KL divergence(Island_1, Island_3): 0.638760437463217\n"
     ]
    }
   ],
   "source": [
    "dKL_1_1 = divergenceKL(df.loc['Island_1'].values, df.loc['Island_1'].values)\n",
    "dKL_1_2 = divergenceKL(df.loc['Island_1'].values, df.loc['Island_2'].values)\n",
    "dKL_1_3 = divergenceKL(df.loc['Island_1'].values, df.loc['Island_3'].values)\n",
    "print(\"KL divergence(Island_1, Island_1):\", dKL_1_1)\n",
    "print(\"KL divergence(Island_1, Island_2):\", dKL_1_2)\n",
    "print(\"KL divergence(Island_1, Island_3):\", dKL_1_3)"
   ]
  },
  {
   "cell_type": "markdown",
   "metadata": {},
   "source": [
    "Island 2 as the target and Islands 1, 2 and 3 as the model:"
   ]
  },
  {
   "cell_type": "code",
   "execution_count": 57,
   "metadata": {},
   "outputs": [
    {
     "name": "stdout",
     "output_type": "stream",
     "text": [
      "KL divergence(Island_2, Island_1): 0.8664339756999315\n",
      "KL divergence(Island_2, Island_2): 0.0\n",
      "KL divergence(Island_2, Island_3): 2.010914241472249\n"
     ]
    }
   ],
   "source": [
    "dKL_2_1 = divergenceKL(df.loc['Island_2'].values, df.loc['Island_1'].values)\n",
    "dKL_2_2 = divergenceKL(df.loc['Island_2'].values, df.loc['Island_2'].values)\n",
    "dKL_2_3 = divergenceKL(df.loc['Island_2'].values, df.loc['Island_3'].values)\n",
    "print(\"KL divergence(Island_2, Island_1):\", dKL_2_1)\n",
    "print(\"KL divergence(Island_2, Island_2):\", dKL_2_2)\n",
    "print(\"KL divergence(Island_2, Island_3):\", dKL_2_3)"
   ]
  },
  {
   "cell_type": "markdown",
   "metadata": {},
   "source": [
    "Island 3 as the target and Islands 1, 2 and 3 as the model:"
   ]
  },
  {
   "cell_type": "code",
   "execution_count": 58,
   "metadata": {},
   "outputs": [
    {
     "name": "stdout",
     "output_type": "stream",
     "text": [
      "KL divergence(Island_3, Island_1): 0.6258376129110066\n",
      "KL divergence(Island_3, Island_2): 1.8388451788909108\n",
      "KL divergence(Island_3, Island_3): 0.0\n"
     ]
    }
   ],
   "source": [
    "dKL_3_1 = divergenceKL(df.loc['Island_3'].values, df.loc['Island_1'].values)\n",
    "dKL_3_2 = divergenceKL(df.loc['Island_3'].values, df.loc['Island_2'].values)\n",
    "dKL_3_3 = divergenceKL(df.loc['Island_3'].values, df.loc['Island_3'].values)\n",
    "print(\"KL divergence(Island_3, Island_1):\", dKL_3_1)\n",
    "print(\"KL divergence(Island_3, Island_2):\", dKL_3_2)\n",
    "print(\"KL divergence(Island_3, Island_3):\", dKL_3_3)"
   ]
  },
  {
   "cell_type": "markdown",
   "metadata": {},
   "source": [
    "The Island_1 predicts better the others as it has the smallest KL divergence related to the other 2 islands.\n",
    "<br>\n",
    "<br>\n",
    "This is the case because the Island_1 has the highest entropy, their birds species are more uniformly distributed, therefore, it's less surprising to see any species of bird in the other islands as you see all of them in the same proportion in Island_1.\n",
    "<br>\n",
    "<br>\n",
    "Notice that the KL divergence for the same distribution is equal to zero.\n",
    "<br>\n",
    "<br>\n",
    "**Note**: To understand better the property of the KL divergence for why dKL(Island_1, Island_2) is different from dKL(Island_2, Island_1) it's worth reading the short section *Divergence depends upon direction* from the 2nd edition of the book, page 208."
   ]
  },
  {
   "cell_type": "markdown",
   "metadata": {},
   "source": [
    "---"
   ]
  },
  {
   "cell_type": "code",
   "execution_count": 59,
   "metadata": {},
   "outputs": [],
   "source": [
    "def standardize(series):\n",
    "    series_std = (series - series.mean()) / series.std()\n",
    "    return series_std"
   ]
  },
  {
   "cell_type": "code",
   "execution_count": 60,
   "metadata": {
    "scrolled": true
   },
   "outputs": [
    {
     "data": {
      "text/html": [
       "<div>\n",
       "<style scoped>\n",
       "    .dataframe tbody tr th:only-of-type {\n",
       "        vertical-align: middle;\n",
       "    }\n",
       "\n",
       "    .dataframe tbody tr th {\n",
       "        vertical-align: top;\n",
       "    }\n",
       "\n",
       "    .dataframe thead th {\n",
       "        text-align: right;\n",
       "    }\n",
       "</style>\n",
       "<table border=\"1\" class=\"dataframe\">\n",
       "  <thead>\n",
       "    <tr style=\"text-align: right;\">\n",
       "      <th></th>\n",
       "      <th>group</th>\n",
       "      <th>avgfood</th>\n",
       "      <th>groupsize</th>\n",
       "      <th>area</th>\n",
       "      <th>weight</th>\n",
       "      <th>avgfood_std</th>\n",
       "      <th>groupsize_std</th>\n",
       "      <th>area_std</th>\n",
       "      <th>weight_std</th>\n",
       "    </tr>\n",
       "  </thead>\n",
       "  <tbody>\n",
       "    <tr>\n",
       "      <th>0</th>\n",
       "      <td>1</td>\n",
       "      <td>0.37</td>\n",
       "      <td>2</td>\n",
       "      <td>1.09</td>\n",
       "      <td>5.02</td>\n",
       "      <td>-1.924829</td>\n",
       "      <td>-1.524089</td>\n",
       "      <td>-2.239596</td>\n",
       "      <td>0.414135</td>\n",
       "    </tr>\n",
       "    <tr>\n",
       "      <th>1</th>\n",
       "      <td>1</td>\n",
       "      <td>0.37</td>\n",
       "      <td>2</td>\n",
       "      <td>1.09</td>\n",
       "      <td>2.84</td>\n",
       "      <td>-1.924829</td>\n",
       "      <td>-1.524089</td>\n",
       "      <td>-2.239596</td>\n",
       "      <td>-1.427046</td>\n",
       "    </tr>\n",
       "    <tr>\n",
       "      <th>2</th>\n",
       "      <td>2</td>\n",
       "      <td>0.53</td>\n",
       "      <td>2</td>\n",
       "      <td>2.05</td>\n",
       "      <td>5.33</td>\n",
       "      <td>-1.118035</td>\n",
       "      <td>-1.524089</td>\n",
       "      <td>-1.205508</td>\n",
       "      <td>0.675954</td>\n",
       "    </tr>\n",
       "    <tr>\n",
       "      <th>3</th>\n",
       "      <td>2</td>\n",
       "      <td>0.53</td>\n",
       "      <td>2</td>\n",
       "      <td>2.05</td>\n",
       "      <td>6.07</td>\n",
       "      <td>-1.118035</td>\n",
       "      <td>-1.524089</td>\n",
       "      <td>-1.205508</td>\n",
       "      <td>1.300942</td>\n",
       "    </tr>\n",
       "    <tr>\n",
       "      <th>4</th>\n",
       "      <td>3</td>\n",
       "      <td>0.49</td>\n",
       "      <td>2</td>\n",
       "      <td>2.12</td>\n",
       "      <td>5.85</td>\n",
       "      <td>-1.319734</td>\n",
       "      <td>-1.524089</td>\n",
       "      <td>-1.130106</td>\n",
       "      <td>1.115135</td>\n",
       "    </tr>\n",
       "  </tbody>\n",
       "</table>\n",
       "</div>"
      ],
      "text/plain": [
       "   group  avgfood  groupsize  area  weight  avgfood_std  groupsize_std  \\\n",
       "0      1     0.37          2  1.09    5.02    -1.924829      -1.524089   \n",
       "1      1     0.37          2  1.09    2.84    -1.924829      -1.524089   \n",
       "2      2     0.53          2  2.05    5.33    -1.118035      -1.524089   \n",
       "3      2     0.53          2  2.05    6.07    -1.118035      -1.524089   \n",
       "4      3     0.49          2  2.12    5.85    -1.319734      -1.524089   \n",
       "\n",
       "   area_std  weight_std  \n",
       "0 -2.239596    0.414135  \n",
       "1 -2.239596   -1.427046  \n",
       "2 -1.205508    0.675954  \n",
       "3 -1.205508    1.300942  \n",
       "4 -1.130106    1.115135  "
      ]
     },
     "execution_count": 60,
     "metadata": {},
     "output_type": "execute_result"
    }
   ],
   "source": [
    "df = pd.read_csv(\"../data/foxes.csv\", sep=\";\")\n",
    "\n",
    "df['avgfood_std'] = standardize(df.avgfood)\n",
    "df['groupsize_std'] = standardize(df.groupsize)\n",
    "df['area_std'] = standardize(df.area)\n",
    "df['weight_std'] = standardize(df.weight)\n",
    "df.head()"
   ]
  },
  {
   "cell_type": "code",
   "execution_count": 61,
   "metadata": {},
   "outputs": [
    {
     "name": "stderr",
     "output_type": "stream",
     "text": [
      "Auto-assigning NUTS sampler...\n",
      "Initializing NUTS using jitter+adapt_diag...\n",
      "Multiprocess sampling (4 chains in 4 jobs)\n",
      "NUTS: [sigma, bA, bG, bF, a]\n",
      "Sampling 4 chains, 0 divergences: 100%|██████████| 12000/12000 [00:04<00:00, 2552.98draws/s]\n"
     ]
    }
   ],
   "source": [
    "with pm.Model() as m_1:\n",
    "    a = pm.Normal('a', 2, 0.5)\n",
    "    bF = pm.Normal('bF', 0, 0.5)\n",
    "    bG = pm.Normal('bG', 0, 0.5)\n",
    "    bA = pm.Normal('bA', 0, 0.5)\n",
    "    \n",
    "    sigma = pm.Exponential('sigma', 1)\n",
    "    mu = a + bF*df['avgfood_std'] + bG*df['groupsize_std'] + bA*df['area_std']\n",
    "    \n",
    "    weight = pm.Normal('weight', mu=mu, sigma=sigma, observed=df['weight_std'])\n",
    "    \n",
    "    m_1_trace = pm.sample(draws=2000, tune=1000)"
   ]
  },
  {
   "cell_type": "code",
   "execution_count": 62,
   "metadata": {},
   "outputs": [
    {
     "name": "stderr",
     "output_type": "stream",
     "text": [
      "Auto-assigning NUTS sampler...\n",
      "Initializing NUTS using jitter+adapt_diag...\n",
      "Multiprocess sampling (4 chains in 4 jobs)\n",
      "NUTS: [sigma, bG, bF, a]\n",
      "Sampling 4 chains, 0 divergences: 100%|██████████| 10000/10000 [00:03<00:00, 3179.20draws/s]\n"
     ]
    }
   ],
   "source": [
    "with pm.Model() as m_2:\n",
    "    a = pm.Normal('a', 2, 0.5)\n",
    "    bF = pm.Normal('bF', 0, 0.5)\n",
    "    bG = pm.Normal('bG', 0, 0.5)\n",
    "    \n",
    "    sigma = pm.Exponential('sigma', 1)\n",
    "    mu = a + bF*df['avgfood_std'] + bG*df['groupsize_std']\n",
    "    \n",
    "    weight = pm.Normal('weight', mu=mu, sigma=sigma, observed=df['weight_std'])\n",
    "    \n",
    "    m_2_trace = pm.sample(draws=2000)"
   ]
  },
  {
   "cell_type": "code",
   "execution_count": 63,
   "metadata": {},
   "outputs": [
    {
     "name": "stderr",
     "output_type": "stream",
     "text": [
      "Auto-assigning NUTS sampler...\n",
      "Initializing NUTS using jitter+adapt_diag...\n",
      "Multiprocess sampling (4 chains in 4 jobs)\n",
      "NUTS: [sigma, bA, bG, a]\n",
      "Sampling 4 chains, 0 divergences: 100%|██████████| 10000/10000 [00:02<00:00, 3586.09draws/s]\n"
     ]
    }
   ],
   "source": [
    "with pm.Model() as m_3:\n",
    "    a = pm.Normal('a', 2, 0.5)\n",
    "    bG = pm.Normal('bG', 0, 0.5)\n",
    "    bA = pm.Normal('bA', 0, 0.5)\n",
    "    \n",
    "    sigma = pm.Exponential('sigma', 1)\n",
    "    mu = a + bG*df['groupsize_std'] + bA*df['area_std']\n",
    "    \n",
    "    weight = pm.Normal('weight', mu=mu, sigma=sigma, observed=df['weight_std'])\n",
    "    \n",
    "    m_3_trace = pm.sample(draws=2000)"
   ]
  },
  {
   "cell_type": "code",
   "execution_count": 64,
   "metadata": {},
   "outputs": [
    {
     "name": "stderr",
     "output_type": "stream",
     "text": [
      "Auto-assigning NUTS sampler...\n",
      "Initializing NUTS using jitter+adapt_diag...\n",
      "Multiprocess sampling (4 chains in 4 jobs)\n",
      "NUTS: [sigma, bF, a]\n",
      "Sampling 4 chains, 0 divergences: 100%|██████████| 4000/4000 [00:00<00:00, 5450.09draws/s]\n",
      "The acceptance probability does not match the target. It is 0.8807262258225907, but should be close to 0.8. Try to increase the number of tuning steps.\n"
     ]
    }
   ],
   "source": [
    "x_bar_std = df['avgfood_std'].mean()\n",
    "\n",
    "with pm.Model() as m_4:\n",
    "    a = pm.Normal('a', 2, 0.5)\n",
    "    bF = pm.Normal('bF', 0, 0.5)\n",
    "    \n",
    "    sigma = pm.Exponential('sigma', 1)\n",
    "    mu = a + bF*(df['avgfood_std'] - x_bar_std)\n",
    "    \n",
    "    weight = pm.Normal('weight', mu=mu, sigma=sigma, observed=df['weight_std'])\n",
    "    \n",
    "    m_4_trace = pm.sample()"
   ]
  },
  {
   "cell_type": "code",
   "execution_count": 65,
   "metadata": {},
   "outputs": [
    {
     "name": "stderr",
     "output_type": "stream",
     "text": [
      "Auto-assigning NUTS sampler...\n",
      "Initializing NUTS using jitter+adapt_diag...\n",
      "Multiprocess sampling (4 chains in 4 jobs)\n",
      "NUTS: [sigma, bA, a]\n",
      "Sampling 4 chains, 0 divergences: 100%|██████████| 4000/4000 [00:00<00:00, 5854.54draws/s]\n"
     ]
    }
   ],
   "source": [
    "x_bar_std = df['area_std'].mean()\n",
    "\n",
    "with pm.Model() as m_5:\n",
    "    a = pm.Normal('a', 2, 0.5)\n",
    "    bA = pm.Normal('bA', 0, 0.5)\n",
    "    \n",
    "    sigma = pm.Exponential('sigma', 1)\n",
    "    mu = a + bA*(df['area_std'] - x_bar_std)\n",
    "    \n",
    "    weight = pm.Normal('weight', mu=mu, sigma=sigma, observed=df['weight_std'])\n",
    "    \n",
    "    m_5_trace = pm.sample()"
   ]
  },
  {
   "cell_type": "code",
   "execution_count": 66,
   "metadata": {
    "scrolled": true
   },
   "outputs": [
    {
     "name": "stderr",
     "output_type": "stream",
     "text": [
      "/home/elisio/anaconda3/lib/python3.7/site-packages/arviz/data/io_pymc3.py:91: FutureWarning: Using `from_pymc3` without the model will be deprecated in a future release. Not using the model will return less accurate and less useful results. Make sure you use the model argument or call from_pymc3 within a model context.\n",
      "  FutureWarning,\n"
     ]
    },
    {
     "data": {
      "text/plain": [
       "Computed from 2000 by 116 log-likelihood matrix\n",
       "\n",
       "              Estimate       SE\n",
       "deviance_waic   334.11    13.12\n",
       "p_waic            2.43        -"
      ]
     },
     "execution_count": 66,
     "metadata": {},
     "output_type": "execute_result"
    }
   ],
   "source": [
    "az.waic(m_4_trace, m_4, scale=\"deviance\")"
   ]
  },
  {
   "cell_type": "code",
   "execution_count": 67,
   "metadata": {
    "scrolled": false
   },
   "outputs": [
    {
     "name": "stderr",
     "output_type": "stream",
     "text": [
      "/home/elisio/anaconda3/lib/python3.7/site-packages/arviz/stats/stats.py:1427: UserWarning: For one or more samples the posterior variance of the log predictive densities exceeds 0.4. This could be indication of WAIC starting to fail. \n",
      "See http://arxiv.org/abs/1507.04544 for details\n",
      "  \"For one or more samples the posterior variance of the log predictive \"\n"
     ]
    },
    {
     "data": {
      "text/html": [
       "<div>\n",
       "<style scoped>\n",
       "    .dataframe tbody tr th:only-of-type {\n",
       "        vertical-align: middle;\n",
       "    }\n",
       "\n",
       "    .dataframe tbody tr th {\n",
       "        vertical-align: top;\n",
       "    }\n",
       "\n",
       "    .dataframe thead th {\n",
       "        text-align: right;\n",
       "    }\n",
       "</style>\n",
       "<table border=\"1\" class=\"dataframe\">\n",
       "  <thead>\n",
       "    <tr style=\"text-align: right;\">\n",
       "      <th></th>\n",
       "      <th>rank</th>\n",
       "      <th>waic</th>\n",
       "      <th>p_waic</th>\n",
       "      <th>d_waic</th>\n",
       "      <th>weight</th>\n",
       "      <th>se</th>\n",
       "      <th>dse</th>\n",
       "      <th>warning</th>\n",
       "      <th>waic_scale</th>\n",
       "    </tr>\n",
       "  </thead>\n",
       "  <tbody>\n",
       "    <tr>\n",
       "      <th>m_1</th>\n",
       "      <td>0</td>\n",
       "      <td>323.604</td>\n",
       "      <td>4.57268</td>\n",
       "      <td>0</td>\n",
       "      <td>0.433432</td>\n",
       "      <td>15.2095</td>\n",
       "      <td>0</td>\n",
       "      <td>True</td>\n",
       "      <td>deviance</td>\n",
       "    </tr>\n",
       "    <tr>\n",
       "      <th>m_2</th>\n",
       "      <td>1</td>\n",
       "      <td>324.468</td>\n",
       "      <td>3.64076</td>\n",
       "      <td>0.863571</td>\n",
       "      <td>0.281449</td>\n",
       "      <td>15.1839</td>\n",
       "      <td>3.3363</td>\n",
       "      <td>False</td>\n",
       "      <td>deviance</td>\n",
       "    </tr>\n",
       "    <tr>\n",
       "      <th>m_3</th>\n",
       "      <td>2</td>\n",
       "      <td>324.471</td>\n",
       "      <td>3.60836</td>\n",
       "      <td>0.866374</td>\n",
       "      <td>0.281054</td>\n",
       "      <td>14.7327</td>\n",
       "      <td>2.69769</td>\n",
       "      <td>True</td>\n",
       "      <td>deviance</td>\n",
       "    </tr>\n",
       "    <tr>\n",
       "      <th>m_4</th>\n",
       "      <td>3</td>\n",
       "      <td>334.107</td>\n",
       "      <td>2.43167</td>\n",
       "      <td>10.503</td>\n",
       "      <td>0.00227109</td>\n",
       "      <td>13.1183</td>\n",
       "      <td>6.59002</td>\n",
       "      <td>False</td>\n",
       "      <td>deviance</td>\n",
       "    </tr>\n",
       "    <tr>\n",
       "      <th>m_5</th>\n",
       "      <td>4</td>\n",
       "      <td>334.579</td>\n",
       "      <td>2.75168</td>\n",
       "      <td>10.9745</td>\n",
       "      <td>0.0017941</td>\n",
       "      <td>13.0566</td>\n",
       "      <td>6.64224</td>\n",
       "      <td>False</td>\n",
       "      <td>deviance</td>\n",
       "    </tr>\n",
       "  </tbody>\n",
       "</table>\n",
       "</div>"
      ],
      "text/plain": [
       "    rank     waic   p_waic    d_waic      weight       se      dse warning  \\\n",
       "m_1    0  323.604  4.57268         0    0.433432  15.2095        0    True   \n",
       "m_2    1  324.468  3.64076  0.863571    0.281449  15.1839   3.3363   False   \n",
       "m_3    2  324.471  3.60836  0.866374    0.281054  14.7327  2.69769    True   \n",
       "m_4    3  334.107  2.43167    10.503  0.00227109  13.1183  6.59002   False   \n",
       "m_5    4  334.579  2.75168   10.9745   0.0017941  13.0566  6.64224   False   \n",
       "\n",
       "    waic_scale  \n",
       "m_1   deviance  \n",
       "m_2   deviance  \n",
       "m_3   deviance  \n",
       "m_4   deviance  \n",
       "m_5   deviance  "
      ]
     },
     "execution_count": 67,
     "metadata": {},
     "output_type": "execute_result"
    }
   ],
   "source": [
    "compare_m = az.compare({\"m_1\": m_1_trace,\"m_2\": m_2_trace, \n",
    "                        \"m_3\": m_3_trace,\"m_4\": m_4_trace, \n",
    "                        \"m_5\": m_5_trace},\n",
    "                         method=\"pseudo-BMA\",\n",
    "                         ic=\"waic\",\n",
    "                         scale=\"deviance\")\n",
    "compare_m"
   ]
  },
  {
   "cell_type": "markdown",
   "metadata": {},
   "source": [
    "The table above is quite informative, it's already ordered from the best to worst, as can be seen on the **rank**.\n",
    "<br>\n",
    "This order is based on the **WAIC**, the smaller the better.\n",
    "<br>\n",
    "<br>\n",
    "**d_waic** is the difference between each model's WAIC and the best WAIC. **dse** is the standard error of this difference.\n",
    "<br>\n",
    "<br>\n",
    "**se** is the approximate standard error for each model. We expect the uncertainty in out-of-sample accuracy to be normally distributed with mean equal to **waic** and the standard deviation equal to **se**. \n",
    "<br>\n",
    "<br>\n",
    "**weight** is the Akaike weight. This is the relative weight for each model, they can be a quick way to see how big the are the differences among models. But they are not sufficient for model comparison since they don't reflect the standard error. They all sum to one.\n",
    "<br>\n",
    "<br>\n",
    "<br>\n",
    "Model 1 is expected to make better predictions of weight for the foxes as the WAIC is the smallest."
   ]
  },
  {
   "cell_type": "code",
   "execution_count": 68,
   "metadata": {},
   "outputs": [
    {
     "data": {
      "text/plain": [
       "<AxesSubplot:xlabel='Deviance'>"
      ]
     },
     "execution_count": 68,
     "metadata": {},
     "output_type": "execute_result"
    },
    {
     "data": {
      "image/png": "[encoded data removed]",
      "text/plain": [
       "<Figure size 432x360 with 1 Axes>"
      ]
     },
     "metadata": {
      "needs_background": "light"
     },
     "output_type": "display_data"
    }
   ],
   "source": [
    "az.plot_compare(compare_m)"
   ]
  },
  {
   "cell_type": "markdown",
   "metadata": {},
   "source": [
    "---"
   ]
  },
  {
   "cell_type": "markdown",
   "metadata": {},
   "source": [
    "---"
   ]
  },
  {
   "cell_type": "code",
   "execution_count": 69,
   "metadata": {},
   "outputs": [
    {
     "name": "stdout",
     "output_type": "stream",
     "text": [
      "The watermark extension is already loaded. To reload it, use:\n",
      "  %reload_ext watermark\n",
      "seaborn 0.10.1\n",
      "daft    0.1.0\n",
      "numpy   1.19.1\n",
      "pandas  1.1.1\n",
      "arviz   0.10.0\n",
      "pymc3   3.8\n",
      "last updated: Tue Dec 01 2020 \n",
      "\n",
      "CPython 3.7.7\n",
      "IPython 7.17.0\n",
      "watermark 2.0.2\n"
     ]
    }
   ],
   "source": [
    "%load_ext watermark\n",
    "%watermark -iv -v -nuw"
   ]
  }
 ],
 "metadata": {
  "kernelspec": {
   "display_name": "Python 3",
   "language": "python",
   "name": "python3"
  },
  "language_info": {
   "codemirror_mode": {
    "name": "ipython",
    "version": 3
   },
   "file_extension": ".py",
   "mimetype": "text/x-python",
   "name": "python",
   "nbconvert_exporter": "python",
   "pygments_lexer": "ipython3",
   "version": "3.7.7"
  }
 },
 "nbformat": 4,
 "nbformat_minor": 4
}
