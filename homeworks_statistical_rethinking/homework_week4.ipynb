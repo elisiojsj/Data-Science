{
 "cells": [
  {
   "cell_type": "code",
   "execution_count": 1,
   "metadata": {},
   "outputs": [],
   "source": [
    "import arviz as az\n",
    "import matplotlib.pyplot as plt\n",
    "import numpy as np\n",
    "import pymc3 as pm\n",
    "import scipy.stats as stats\n",
    "import seaborn as sns\n",
    "import pandas as pd\n",
    "from causalgraphicalmodels import CausalGraphicalModel\n",
    "import daft"
   ]
  },
  {
   "cell_type": "markdown",
   "metadata": {},
   "source": [
    "This is based on the [homework of week 4](https://github.com/rmcelreath/statrethinking_winter2019/blob/master/homework/week04.pdf) of Statistical Rethinking book material.\n",
    "I do the homework based on the questions but not following a specific order.\n",
    "<br>\n",
    "<br>\n",
    "<br>"
   ]
  },
  {
   "cell_type": "code",
   "execution_count": 2,
   "metadata": {
    "scrolled": true
   },
   "outputs": [
    {
     "data": {
      "text/html": [
       "<div>\n",
       "<style scoped>\n",
       "    .dataframe tbody tr th:only-of-type {\n",
       "        vertical-align: middle;\n",
       "    }\n",
       "\n",
       "    .dataframe tbody tr th {\n",
       "        vertical-align: top;\n",
       "    }\n",
       "\n",
       "    .dataframe thead th {\n",
       "        text-align: right;\n",
       "    }\n",
       "</style>\n",
       "<table border=\"1\" class=\"dataframe\">\n",
       "  <thead>\n",
       "    <tr style=\"text-align: right;\">\n",
       "      <th></th>\n",
       "      <th>Bird_A</th>\n",
       "      <th>Bird_B</th>\n",
       "      <th>Bird_C</th>\n",
       "      <th>Bird_D</th>\n",
       "      <th>Bird_E</th>\n",
       "    </tr>\n",
       "  </thead>\n",
       "  <tbody>\n",
       "    <tr>\n",
       "      <th>Island_1</th>\n",
       "      <td>0.20</td>\n",
       "      <td>0.20</td>\n",
       "      <td>0.20</td>\n",
       "      <td>0.200</td>\n",
       "      <td>0.200</td>\n",
       "    </tr>\n",
       "    <tr>\n",
       "      <th>Island_2</th>\n",
       "      <td>0.80</td>\n",
       "      <td>0.10</td>\n",
       "      <td>0.05</td>\n",
       "      <td>0.025</td>\n",
       "      <td>0.025</td>\n",
       "    </tr>\n",
       "    <tr>\n",
       "      <th>Island_3</th>\n",
       "      <td>0.05</td>\n",
       "      <td>0.15</td>\n",
       "      <td>0.70</td>\n",
       "      <td>0.050</td>\n",
       "      <td>0.050</td>\n",
       "    </tr>\n",
       "  </tbody>\n",
       "</table>\n",
       "</div>"
      ],
      "text/plain": [
       "          Bird_A  Bird_B  Bird_C  Bird_D  Bird_E\n",
       "Island_1    0.20    0.20    0.20   0.200   0.200\n",
       "Island_2    0.80    0.10    0.05   0.025   0.025\n",
       "Island_3    0.05    0.15    0.70   0.050   0.050"
      ]
     },
     "execution_count": 2,
     "metadata": {},
     "output_type": "execute_result"
    }
   ],
   "source": [
    "islands = {\"Bird_A\": [0.2, 0.8, 0.05],\n",
    "           \"Bird_B\": [0.2, 0.1, 0.15],\n",
    "           \"Bird_C\": [0.2, 0.05, 0.7],\n",
    "           \"Bird_D\": [0.2, 0.025, 0.05],\n",
    "           \"Bird_E\": [0.2, 0.025, 0.05],\n",
    "          }\n",
    "\n",
    "\n",
    "df = pd.DataFrame(islands)\n",
    "df.rename(index={0:'Island_1', 1:'Island_2', 2:'Island_3'}, inplace=True)\n",
    "df"
   ]
  },
  {
   "cell_type": "markdown",
   "metadata": {},
   "source": [
    "## Computing Entropy\n",
    "Computing the entropy of each island's bird distribution."
   ]
  },
  {
   "cell_type": "code",
   "execution_count": 3,
   "metadata": {},
   "outputs": [],
   "source": [
    "def entropy(series):\n",
    "    return -np.sum((series)*np.log((series)))"
   ]
  },
  {
   "cell_type": "markdown",
   "metadata": {},
   "source": [
    "Entropy for Island 1:"
   ]
  },
  {
   "cell_type": "code",
   "execution_count": 4,
   "metadata": {},
   "outputs": [
    {
     "data": {
      "text/plain": [
       "1.6094379124341005"
      ]
     },
     "execution_count": 4,
     "metadata": {},
     "output_type": "execute_result"
    }
   ],
   "source": [
    "entropy(df.loc['Island_1'].values)"
   ]
  },
  {
   "cell_type": "markdown",
   "metadata": {},
   "source": [
    "Entropy for Island 2:"
   ]
  },
  {
   "cell_type": "code",
   "execution_count": 5,
   "metadata": {},
   "outputs": [
    {
     "data": {
      "text/plain": [
       "0.7430039367341686"
      ]
     },
     "execution_count": 5,
     "metadata": {},
     "output_type": "execute_result"
    }
   ],
   "source": [
    "entropy(df.loc['Island_2'].values)"
   ]
  },
  {
   "cell_type": "markdown",
   "metadata": {},
   "source": [
    "Entropy for Island 3:"
   ]
  },
  {
   "cell_type": "code",
   "execution_count": 6,
   "metadata": {},
   "outputs": [
    {
     "data": {
      "text/plain": [
       "0.9836002995230935"
      ]
     },
     "execution_count": 6,
     "metadata": {},
     "output_type": "execute_result"
    }
   ],
   "source": [
    "entropy(df.loc['Island_3'].values)"
   ]
  },
  {
   "cell_type": "markdown",
   "metadata": {},
   "source": [
    "The results show that the entropy for Island 1 is greater followed by Island 2 and then Island 3. The higher the entropy the more uniformly the population is distributed.\n",
    "<br>\n",
    "<br>\n",
    "That can be noticed when we compare the bird proportions, in Island 1 it's uniformly distributed. You expect to see any of the birds.\n",
    "<br>\n",
    "<br>\n",
    "In Island 2 there's a 80% population for Bird_A and it would be very surprising to see a bird that's not Bird_A. Furthermore, in Island 3 we have a 70% population for Bird_C. Which makes the entropy of these 2 smaller when compared to Island 1."
   ]
  },
  {
   "cell_type": "markdown",
   "metadata": {},
   "source": [
    "## Computing Divergence\n",
    "Using each island's bird distribution to predict the other two by computing the K-L Divergence."
   ]
  },
  {
   "cell_type": "code",
   "execution_count": 7,
   "metadata": {},
   "outputs": [],
   "source": [
    "def divergenceKL(target, model):\n",
    "    return np.sum(target*np.log(target/model))"
   ]
  },
  {
   "cell_type": "markdown",
   "metadata": {},
   "source": [
    "Island 1 as the target and Islands 1, 2 and 3 as the model:"
   ]
  },
  {
   "cell_type": "code",
   "execution_count": 15,
   "metadata": {},
   "outputs": [
    {
     "name": "stdout",
     "output_type": "stream",
     "text": [
      "KL divergence(Island_1, Island_1): 0.0\n",
      "KL divergence(Island_1, Island_2): 0.9704060527839233\n",
      "KL divergence(Island_1, Island_3): 0.638760437463217\n"
     ]
    }
   ],
   "source": [
    "dKL_1_1 = divergenceKL(df.loc['Island_1'].values, df.loc['Island_1'].values)\n",
    "dKL_1_2 = divergenceKL(df.loc['Island_1'].values, df.loc['Island_2'].values)\n",
    "dKL_1_3 = divergenceKL(df.loc['Island_1'].values, df.loc['Island_3'].values)\n",
    "print(\"KL divergence(Island_1, Island_1):\", dKL_1_1)\n",
    "print(\"KL divergence(Island_1, Island_2):\", dKL_1_2)\n",
    "print(\"KL divergence(Island_1, Island_3):\", dKL_1_3)"
   ]
  },
  {
   "cell_type": "markdown",
   "metadata": {},
   "source": [
    "Island 2 as the target and Islands 1, 2 and 3 as the model:"
   ]
  },
  {
   "cell_type": "code",
   "execution_count": 16,
   "metadata": {},
   "outputs": [
    {
     "name": "stdout",
     "output_type": "stream",
     "text": [
      "KL divergence(Island_2, Island_1): 0.8664339756999315\n",
      "KL divergence(Island_2, Island_2): 0.0\n",
      "KL divergence(Island_2, Island_3): 2.010914241472249\n"
     ]
    }
   ],
   "source": [
    "dKL_2_1 = divergenceKL(df.loc['Island_2'].values, df.loc['Island_1'].values)\n",
    "dKL_2_2 = divergenceKL(df.loc['Island_2'].values, df.loc['Island_2'].values)\n",
    "dKL_2_3 = divergenceKL(df.loc['Island_2'].values, df.loc['Island_3'].values)\n",
    "print(\"KL divergence(Island_2, Island_1):\", dKL_2_1)\n",
    "print(\"KL divergence(Island_2, Island_2):\", dKL_2_2)\n",
    "print(\"KL divergence(Island_2, Island_3):\", dKL_2_3)"
   ]
  },
  {
   "cell_type": "markdown",
   "metadata": {},
   "source": [
    "Island 3 as the target and Islands 1, 2 and 3 as the model:"
   ]
  },
  {
   "cell_type": "code",
   "execution_count": 17,
   "metadata": {},
   "outputs": [
    {
     "name": "stdout",
     "output_type": "stream",
     "text": [
      "KL divergence(Island_3, Island_1): 0.6258376129110066\n",
      "KL divergence(Island_3, Island_2): 1.8388451788909108\n",
      "KL divergence(Island_3, Island_3): 0.0\n"
     ]
    }
   ],
   "source": [
    "dKL_3_1 = divergenceKL(df.loc['Island_3'].values, df.loc['Island_1'].values)\n",
    "dKL_3_2 = divergenceKL(df.loc['Island_3'].values, df.loc['Island_2'].values)\n",
    "dKL_3_3 = divergenceKL(df.loc['Island_3'].values, df.loc['Island_3'].values)\n",
    "print(\"KL divergence(Island_3, Island_1):\", dKL_3_1)\n",
    "print(\"KL divergence(Island_3, Island_2):\", dKL_3_2)\n",
    "print(\"KL divergence(Island_3, Island_3):\", dKL_3_3)"
   ]
  },
  {
   "cell_type": "markdown",
   "metadata": {},
   "source": [
    "The Island_1 predicts better the others as it has the smallest KL divergence related to the other 2 islands.\n",
    "<br>\n",
    "<br>\n",
    "This is the case because the Island_1 has the highest entropy, their birds species are more uniformly distributed, therefore, it's less surprising to see any species of bird in the other islands as you see all of them in the same proportion in Island_1.\n",
    "<br>\n",
    "<br>\n",
    "Notice that the KL divergence for the same distribution is equal to zero.\n",
    "<br>\n",
    "<br>\n",
    "**Note**: To understand better the property of the KL divergence for why dKL(Island_1, Island_2) is different from dKL(Island_2, Island_1) it's worth reading the short section *Divergence depends upon direction* from the 2nd edition of the book, page 208."
   ]
  },
  {
   "cell_type": "markdown",
   "metadata": {},
   "source": [
    "---"
   ]
  },
  {
   "cell_type": "markdown",
   "metadata": {},
   "source": [
    "---"
   ]
  },
  {
   "cell_type": "code",
   "execution_count": 11,
   "metadata": {},
   "outputs": [
    {
     "name": "stdout",
     "output_type": "stream",
     "text": [
      "seaborn 0.10.1\n",
      "daft    0.1.0\n",
      "numpy   1.19.1\n",
      "pandas  1.1.1\n",
      "arviz   0.10.0\n",
      "pymc3   3.8\n",
      "last updated: Tue Dec 01 2020 \n",
      "\n",
      "CPython 3.7.7\n",
      "IPython 7.17.0\n",
      "watermark 2.0.2\n"
     ]
    }
   ],
   "source": [
    "%load_ext watermark\n",
    "%watermark -iv -v -nuw"
   ]
  }
 ],
 "metadata": {
  "kernelspec": {
   "display_name": "Python 3",
   "language": "python",
   "name": "python3"
  },
  "language_info": {
   "codemirror_mode": {
    "name": "ipython",
    "version": 3
   },
   "file_extension": ".py",
   "mimetype": "text/x-python",
   "name": "python",
   "nbconvert_exporter": "python",
   "pygments_lexer": "ipython3",
   "version": "3.7.7"
  }
 },
 "nbformat": 4,
 "nbformat_minor": 4
}
