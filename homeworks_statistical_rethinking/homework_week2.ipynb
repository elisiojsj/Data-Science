{
 "cells": [
  {
   "cell_type": "code",
   "execution_count": 1,
   "metadata": {},
   "outputs": [],
   "source": [
    "import arviz as az\n",
    "import matplotlib.pyplot as plt\n",
    "import numpy as np\n",
    "import pymc3 as pm\n",
    "import scipy.stats as stats\n",
    "import seaborn as sns\n",
    "import pandas as pd"
   ]
  },
  {
   "cell_type": "markdown",
   "metadata": {},
   "source": [
    "This is based on the [homework of week 2](https://github.com/rmcelreath/statrethinking_winter2019/blob/master/homework/week02.pdf) of Statistical Rethinking book material.\n",
    "I do the homework based on the questions but not following a specific order.\n",
    "<br>\n",
    "<br>\n",
    "The reference dataset is the [Kalahari !Kung San people](https://www.tensorflow.org/datasets/catalog/howell)."
   ]
  },
  {
   "cell_type": "markdown",
   "metadata": {},
   "source": [
    "Loading the !Kung dataset"
   ]
  },
  {
   "cell_type": "code",
   "execution_count": 5,
   "metadata": {
    "scrolled": true
   },
   "outputs": [
    {
     "data": {
      "text/html": [
       "<div>\n",
       "<style scoped>\n",
       "    .dataframe tbody tr th:only-of-type {\n",
       "        vertical-align: middle;\n",
       "    }\n",
       "\n",
       "    .dataframe tbody tr th {\n",
       "        vertical-align: top;\n",
       "    }\n",
       "\n",
       "    .dataframe thead th {\n",
       "        text-align: right;\n",
       "    }\n",
       "</style>\n",
       "<table border=\"1\" class=\"dataframe\">\n",
       "  <thead>\n",
       "    <tr style=\"text-align: right;\">\n",
       "      <th></th>\n",
       "      <th>height</th>\n",
       "      <th>weight</th>\n",
       "      <th>age</th>\n",
       "      <th>male</th>\n",
       "    </tr>\n",
       "  </thead>\n",
       "  <tbody>\n",
       "    <tr>\n",
       "      <th>0</th>\n",
       "      <td>151.765</td>\n",
       "      <td>47.825606</td>\n",
       "      <td>63.0</td>\n",
       "      <td>1</td>\n",
       "    </tr>\n",
       "    <tr>\n",
       "      <th>1</th>\n",
       "      <td>139.700</td>\n",
       "      <td>36.485807</td>\n",
       "      <td>63.0</td>\n",
       "      <td>0</td>\n",
       "    </tr>\n",
       "    <tr>\n",
       "      <th>2</th>\n",
       "      <td>136.525</td>\n",
       "      <td>31.864838</td>\n",
       "      <td>65.0</td>\n",
       "      <td>0</td>\n",
       "    </tr>\n",
       "    <tr>\n",
       "      <th>3</th>\n",
       "      <td>156.845</td>\n",
       "      <td>53.041915</td>\n",
       "      <td>41.0</td>\n",
       "      <td>1</td>\n",
       "    </tr>\n",
       "    <tr>\n",
       "      <th>4</th>\n",
       "      <td>145.415</td>\n",
       "      <td>41.276872</td>\n",
       "      <td>51.0</td>\n",
       "      <td>0</td>\n",
       "    </tr>\n",
       "  </tbody>\n",
       "</table>\n",
       "</div>"
      ],
      "text/plain": [
       "    height     weight   age  male\n",
       "0  151.765  47.825606  63.0     1\n",
       "1  139.700  36.485807  63.0     0\n",
       "2  136.525  31.864838  65.0     0\n",
       "3  156.845  53.041915  41.0     1\n",
       "4  145.415  41.276872  51.0     0"
      ]
     },
     "execution_count": 5,
     "metadata": {},
     "output_type": "execute_result"
    }
   ],
   "source": [
    "df = pd.read_csv(\"../Data/Howell1.csv\", sep=\";\")\n",
    "df.head()"
   ]
  },
  {
   "cell_type": "markdown",
   "metadata": {},
   "source": [
    "Taking a look at the range of ages of the dataset."
   ]
  },
  {
   "cell_type": "code",
   "execution_count": 85,
   "metadata": {},
   "outputs": [
    {
     "data": {
      "text/plain": [
       "<AxesSubplot:xlabel='age'>"
      ]
     },
     "execution_count": 85,
     "metadata": {},
     "output_type": "execute_result"
    },
    {
     "data": {
      "image/png": "[encoded data removed]",
      "text/plain": [
       "<Figure size 432x288 with 1 Axes>"
      ]
     },
     "metadata": {
      "needs_background": "light"
     },
     "output_type": "display_data"
    }
   ],
   "source": [
    "sns.boxplot(df['age'])"
   ]
  },
  {
   "cell_type": "markdown",
   "metadata": {},
   "source": [
    "Creating a model.\n",
    "As for the priors **a** is the height for when the weight is equal to the mean of weights.<br> \n",
    "As the dataset is composed mainly of teenagers and adults, I chose the mean of height as 150cm with a standard deviation of 20cm, which means that 95% of the heights are concentrated between 110cm and 190cm.   \n",
    "<br>\n",
    "Doing a simple regression we have the following:"
   ]
  },
  {
   "cell_type": "code",
   "execution_count": 6,
   "metadata": {},
   "outputs": [
    {
     "name": "stderr",
     "output_type": "stream",
     "text": [
      "Auto-assigning NUTS sampler...\n",
      "Initializing NUTS using jitter+adapt_diag...\n",
      "Multiprocess sampling (4 chains in 4 jobs)\n",
      "NUTS: [sigma, bW, a]\n",
      "Sampling 4 chains, 0 divergences: 100%|██████████| 10000/10000 [00:03<00:00, 3326.24draws/s]\n"
     ]
    }
   ],
   "source": [
    "x_bar = df['weight'].mean()\n",
    "\n",
    "with pm.Model() as m_1:\n",
    "    a = pm.Normal('a', 150, 20)\n",
    "    bW = pm.Normal('bW', 0, 10)\n",
    "    \n",
    "    sigma = pm.Exponential('sigma', 1)\n",
    "    \n",
    "    mu = pm.Deterministic('mu', a + bW*(df['weight']) - x_bar)\n",
    "    height = pm.Normal('height', mu=mu, sigma=sigma, observed=df['height'])\n",
    "    \n",
    "    m1_trace = pm.sample(tune=2000)"
   ]
  },
  {
   "cell_type": "code",
   "execution_count": 7,
   "metadata": {
    "scrolled": true
   },
   "outputs": [
    {
     "name": "stderr",
     "output_type": "stream",
     "text": [
      "/home/elisio/anaconda3/lib/python3.7/site-packages/arviz/data/io_pymc3.py:91: FutureWarning: Using `from_pymc3` without the model will be deprecated in a future release. Not using the model will return less accurate and less useful results. Make sure you use the model argument or call from_pymc3 within a model context.\n",
      "  FutureWarning,\n"
     ]
    },
    {
     "data": {
      "text/html": [
       "<div>\n",
       "<style scoped>\n",
       "    .dataframe tbody tr th:only-of-type {\n",
       "        vertical-align: middle;\n",
       "    }\n",
       "\n",
       "    .dataframe tbody tr th {\n",
       "        vertical-align: top;\n",
       "    }\n",
       "\n",
       "    .dataframe thead th {\n",
       "        text-align: right;\n",
       "    }\n",
       "</style>\n",
       "<table border=\"1\" class=\"dataframe\">\n",
       "  <thead>\n",
       "    <tr style=\"text-align: right;\">\n",
       "      <th></th>\n",
       "      <th>mean</th>\n",
       "      <th>sd</th>\n",
       "      <th>hdi_3%</th>\n",
       "      <th>hdi_97%</th>\n",
       "    </tr>\n",
       "  </thead>\n",
       "  <tbody>\n",
       "    <tr>\n",
       "      <th>a</th>\n",
       "      <td>111.18</td>\n",
       "      <td>1.05</td>\n",
       "      <td>109.11</td>\n",
       "      <td>113.06</td>\n",
       "    </tr>\n",
       "    <tr>\n",
       "      <th>bW</th>\n",
       "      <td>1.76</td>\n",
       "      <td>0.03</td>\n",
       "      <td>1.71</td>\n",
       "      <td>1.81</td>\n",
       "    </tr>\n",
       "    <tr>\n",
       "      <th>sigma</th>\n",
       "      <td>9.31</td>\n",
       "      <td>0.28</td>\n",
       "      <td>8.83</td>\n",
       "      <td>9.90</td>\n",
       "    </tr>\n",
       "  </tbody>\n",
       "</table>\n",
       "</div>"
      ],
      "text/plain": [
       "         mean    sd  hdi_3%  hdi_97%\n",
       "a      111.18  1.05  109.11   113.06\n",
       "bW       1.76  0.03    1.71     1.81\n",
       "sigma    9.31  0.28    8.83     9.90"
      ]
     },
     "execution_count": 7,
     "metadata": {},
     "output_type": "execute_result"
    }
   ],
   "source": [
    "varnames = ['~mu']\n",
    "az.summary(m1_trace, varnames, round_to=2, kind=\"stats\")"
   ]
  },
  {
   "cell_type": "code",
   "execution_count": 88,
   "metadata": {},
   "outputs": [],
   "source": [
    "mu_pred = m1_trace['mu']\n",
    "mu_mean = mu_pred.mean(0)"
   ]
  },
  {
   "cell_type": "code",
   "execution_count": 94,
   "metadata": {
    "scrolled": false
   },
   "outputs": [
    {
     "data": {
      "text/plain": [
       "Text(0, 0.5, 'height')"
      ]
     },
     "execution_count": 94,
     "metadata": {},
     "output_type": "execute_result"
    },
    {
     "data": {
      "image/png": "[encoded data removed]",
      "text/plain": [
       "<Figure size 432x288 with 1 Axes>"
      ]
     },
     "metadata": {
      "needs_background": "light"
     },
     "output_type": "display_data"
    }
   ],
   "source": [
    "plt.scatter(df.weight, df.height, alpha=0.2)\n",
    "plt.plot(df.weight, mu_mean, '.', color='black')# color='black')#, color='black', '.')\n",
    "plt.title('linear regression')\n",
    "plt.xlabel('weight')\n",
    "plt.ylabel('height')"
   ]
  },
  {
   "cell_type": "markdown",
   "metadata": {},
   "source": [
    "Not a good fit as we can see."
   ]
  },
  {
   "cell_type": "markdown",
   "metadata": {},
   "source": [
    "---"
   ]
  },
  {
   "cell_type": "markdown",
   "metadata": {},
   "source": [
    "**Model the relationship between height(cm) and the natural logarithm of weight(log-kg)**"
   ]
  },
  {
   "cell_type": "code",
   "execution_count": 95,
   "metadata": {},
   "outputs": [
    {
     "data": {
      "text/html": [
       "<div>\n",
       "<style scoped>\n",
       "    .dataframe tbody tr th:only-of-type {\n",
       "        vertical-align: middle;\n",
       "    }\n",
       "\n",
       "    .dataframe tbody tr th {\n",
       "        vertical-align: top;\n",
       "    }\n",
       "\n",
       "    .dataframe thead th {\n",
       "        text-align: right;\n",
       "    }\n",
       "</style>\n",
       "<table border=\"1\" class=\"dataframe\">\n",
       "  <thead>\n",
       "    <tr style=\"text-align: right;\">\n",
       "      <th></th>\n",
       "      <th>height</th>\n",
       "      <th>weight</th>\n",
       "      <th>age</th>\n",
       "      <th>male</th>\n",
       "      <th>weight_log</th>\n",
       "    </tr>\n",
       "  </thead>\n",
       "  <tbody>\n",
       "    <tr>\n",
       "      <th>0</th>\n",
       "      <td>151.765</td>\n",
       "      <td>47.825606</td>\n",
       "      <td>63.0</td>\n",
       "      <td>1</td>\n",
       "      <td>3.867561</td>\n",
       "    </tr>\n",
       "    <tr>\n",
       "      <th>1</th>\n",
       "      <td>139.700</td>\n",
       "      <td>36.485807</td>\n",
       "      <td>63.0</td>\n",
       "      <td>0</td>\n",
       "      <td>3.596923</td>\n",
       "    </tr>\n",
       "    <tr>\n",
       "      <th>2</th>\n",
       "      <td>136.525</td>\n",
       "      <td>31.864838</td>\n",
       "      <td>65.0</td>\n",
       "      <td>0</td>\n",
       "      <td>3.461503</td>\n",
       "    </tr>\n",
       "    <tr>\n",
       "      <th>3</th>\n",
       "      <td>156.845</td>\n",
       "      <td>53.041915</td>\n",
       "      <td>41.0</td>\n",
       "      <td>1</td>\n",
       "      <td>3.971082</td>\n",
       "    </tr>\n",
       "    <tr>\n",
       "      <th>4</th>\n",
       "      <td>145.415</td>\n",
       "      <td>41.276872</td>\n",
       "      <td>51.0</td>\n",
       "      <td>0</td>\n",
       "      <td>3.720302</td>\n",
       "    </tr>\n",
       "  </tbody>\n",
       "</table>\n",
       "</div>"
      ],
      "text/plain": [
       "    height     weight   age  male  weight_log\n",
       "0  151.765  47.825606  63.0     1    3.867561\n",
       "1  139.700  36.485807  63.0     0    3.596923\n",
       "2  136.525  31.864838  65.0     0    3.461503\n",
       "3  156.845  53.041915  41.0     1    3.971082\n",
       "4  145.415  41.276872  51.0     0    3.720302"
      ]
     },
     "execution_count": 95,
     "metadata": {},
     "output_type": "execute_result"
    }
   ],
   "source": [
    "df['weight_log'] = np.log(df['weight'])\n",
    "df.head()"
   ]
  },
  {
   "cell_type": "code",
   "execution_count": 96,
   "metadata": {},
   "outputs": [
    {
     "name": "stderr",
     "output_type": "stream",
     "text": [
      "Auto-assigning NUTS sampler...\n",
      "Initializing NUTS using jitter+adapt_diag...\n",
      "Multiprocess sampling (4 chains in 4 jobs)\n",
      "NUTS: [sigma, bM, a]\n",
      "Sampling 4 chains, 0 divergences: 100%|██████████| 18000/18000 [00:03<00:00, 5823.59draws/s]\n"
     ]
    }
   ],
   "source": [
    "x_bar = df['weight_log'].mean()\n",
    "\n",
    "with pm.Model() as m_2:\n",
    "    a = pm.Normal('a', 150, 20)\n",
    "    bM = pm.Lognormal('bM', 0, 5)\n",
    "    #cM = pm.Normal('cM', 0, 10)\n",
    "    \n",
    "    #mu = pm.Deterministic('mu', a + bM*(df['weight_log'] - x_bar) + cM*np.power((df['weight_log'] - x_bar),2))\n",
    "    #mu = pm.Deterministic('mu', a + bM*(df['weight_log'] - x_bar) + cM*np.power((df['weight_log'] - x_bar),2))\n",
    "    mu = pm.Deterministic('mu', a + bM*(df['weight_log'] - x_bar))\n",
    "    sigma = pm.Exponential('sigma', 1)\n",
    "    \n",
    "    height = pm.Normal('height', mu=mu, sigma=sigma, observed=df['height'])\n",
    "    \n",
    "    m2_trace = pm.sample(tune=4000)"
   ]
  },
  {
   "cell_type": "code",
   "execution_count": 97,
   "metadata": {},
   "outputs": [
    {
     "name": "stderr",
     "output_type": "stream",
     "text": [
      "/home/elisio/anaconda3/lib/python3.7/site-packages/arviz/data/io_pymc3.py:91: FutureWarning: Using `from_pymc3` without the model will be deprecated in a future release. Not using the model will return less accurate and less useful results. Make sure you use the model argument or call from_pymc3 within a model context.\n",
      "  FutureWarning,\n"
     ]
    },
    {
     "data": {
      "text/html": [
       "<div>\n",
       "<style scoped>\n",
       "    .dataframe tbody tr th:only-of-type {\n",
       "        vertical-align: middle;\n",
       "    }\n",
       "\n",
       "    .dataframe tbody tr th {\n",
       "        vertical-align: top;\n",
       "    }\n",
       "\n",
       "    .dataframe thead th {\n",
       "        text-align: right;\n",
       "    }\n",
       "</style>\n",
       "<table border=\"1\" class=\"dataframe\">\n",
       "  <thead>\n",
       "    <tr style=\"text-align: right;\">\n",
       "      <th></th>\n",
       "      <th>mean</th>\n",
       "      <th>sd</th>\n",
       "      <th>hdi_3%</th>\n",
       "      <th>hdi_97%</th>\n",
       "    </tr>\n",
       "  </thead>\n",
       "  <tbody>\n",
       "    <tr>\n",
       "      <th>a</th>\n",
       "      <td>138.26</td>\n",
       "      <td>0.23</td>\n",
       "      <td>137.82</td>\n",
       "      <td>138.68</td>\n",
       "    </tr>\n",
       "    <tr>\n",
       "      <th>bM</th>\n",
       "      <td>47.08</td>\n",
       "      <td>0.39</td>\n",
       "      <td>46.35</td>\n",
       "      <td>47.78</td>\n",
       "    </tr>\n",
       "    <tr>\n",
       "      <th>sigma</th>\n",
       "      <td>5.13</td>\n",
       "      <td>0.15</td>\n",
       "      <td>4.84</td>\n",
       "      <td>5.40</td>\n",
       "    </tr>\n",
       "  </tbody>\n",
       "</table>\n",
       "</div>"
      ],
      "text/plain": [
       "         mean    sd  hdi_3%  hdi_97%\n",
       "a      138.26  0.23  137.82   138.68\n",
       "bM      47.08  0.39   46.35    47.78\n",
       "sigma    5.13  0.15    4.84     5.40"
      ]
     },
     "execution_count": 97,
     "metadata": {},
     "output_type": "execute_result"
    }
   ],
   "source": [
    "varnames = [\"~mu\"]\n",
    "az.summary(m2_trace, varnames, round_to=2, kind=\"stats\")"
   ]
  },
  {
   "cell_type": "code",
   "execution_count": 98,
   "metadata": {},
   "outputs": [],
   "source": [
    "mu_pred = m2_trace['mu']\n",
    "mu_mean = mu_pred.mean(0)"
   ]
  },
  {
   "cell_type": "code",
   "execution_count": 103,
   "metadata": {},
   "outputs": [
    {
     "data": {
      "text/plain": [
       "Text(0, 0.5, 'height')"
      ]
     },
     "execution_count": 103,
     "metadata": {},
     "output_type": "execute_result"
    },
    {
     "data": {
      "image/png": "[encoded data removed]",
      "text/plain": [
       "<Figure size 432x288 with 1 Axes>"
      ]
     },
     "metadata": {
      "needs_background": "light"
     },
     "output_type": "display_data"
    }
   ],
   "source": [
    "plt.scatter(df.weight, df.height, alpha=0.2)\n",
    "plt.plot(df.weight, mu_mean, '.', color='black')\n",
    "plt.title('linear regression on weight-log')\n",
    "plt.xlabel('weight')\n",
    "plt.ylabel('height')"
   ]
  },
  {
   "cell_type": "markdown",
   "metadata": {},
   "source": [
    "---"
   ]
  },
  {
   "cell_type": "code",
   "execution_count": null,
   "metadata": {},
   "outputs": [],
   "source": []
  },
  {
   "cell_type": "code",
   "execution_count": null,
   "metadata": {},
   "outputs": [],
   "source": []
  },
  {
   "cell_type": "code",
   "execution_count": 52,
   "metadata": {},
   "outputs": [
    {
     "name": "stderr",
     "output_type": "stream",
     "text": [
      "100%|██████████| 2000/2000 [00:08<00:00, 246.63it/s]\n"
     ]
    }
   ],
   "source": [
    "with m_2:\n",
    "    height_pred = pm.sample_posterior_predictive(trace=m2_trace, vars=[height], size=200)"
   ]
  },
  {
   "cell_type": "code",
   "execution_count": 74,
   "metadata": {},
   "outputs": [
    {
     "name": "stderr",
     "output_type": "stream",
     "text": [
      "/home/elisio/anaconda3/lib/python3.7/site-packages/arviz/stats/stats.py:487: FutureWarning: hdi currently interprets 2d data as (draw, shape) but this will change in a future release to (chain, draw) for coherence with other functions\n",
      "  FutureWarning,\n",
      "/home/elisio/anaconda3/lib/python3.7/site-packages/arviz/data/base.py:153: UserWarning: More chains (2000) than draws (200). Passed array should have shape (chains, draws, *shape)\n",
      "  UserWarning,\n"
     ]
    },
    {
     "data": {
      "text/plain": [
       "Text(0, 0.5, 'height')"
      ]
     },
     "execution_count": 74,
     "metadata": {},
     "output_type": "execute_result"
    },
    {
     "data": {
      "image/png": "[encoded data removed]",
      "text/plain": [
       "<Figure size 432x288 with 1 Axes>"
      ]
     },
     "metadata": {
      "needs_background": "light"
     },
     "output_type": "display_data"
    }
   ],
   "source": [
    "ax = az.plot_hdi(df.weight, mu_pred, hdi_prob=0.89)\n",
    "az.plot_hdi(df.weight, height_pred['height'], ax=ax)\n",
    "plt.scatter(df.weight, df.height, alpha=0.3)\n",
    "#plt.plot(df.weight_log, mu_mean, color='black')# color='black')#, color='black', '.')\n",
    "plt.xlabel('weight')\n",
    "plt.ylabel('height')"
   ]
  },
  {
   "cell_type": "code",
   "execution_count": null,
   "metadata": {},
   "outputs": [],
   "source": []
  },
  {
   "cell_type": "code",
   "execution_count": 5,
   "metadata": {},
   "outputs": [],
   "source": [
    "def standardize(series):\n",
    "    return (series - series.mean())/series.std()"
   ]
  },
  {
   "cell_type": "markdown",
   "metadata": {},
   "source": [
    "**Select out all the rows in the Howell1 data with ages below 18 years of age. If you do it right, you should end up with a new data frame with 192 rows in it.**"
   ]
  },
  {
   "cell_type": "code",
   "execution_count": 6,
   "metadata": {},
   "outputs": [
    {
     "data": {
      "text/html": [
       "<div>\n",
       "<style scoped>\n",
       "    .dataframe tbody tr th:only-of-type {\n",
       "        vertical-align: middle;\n",
       "    }\n",
       "\n",
       "    .dataframe tbody tr th {\n",
       "        vertical-align: top;\n",
       "    }\n",
       "\n",
       "    .dataframe thead th {\n",
       "        text-align: right;\n",
       "    }\n",
       "</style>\n",
       "<table border=\"1\" class=\"dataframe\">\n",
       "  <thead>\n",
       "    <tr style=\"text-align: right;\">\n",
       "      <th></th>\n",
       "      <th>height</th>\n",
       "      <th>weight</th>\n",
       "      <th>age</th>\n",
       "      <th>male</th>\n",
       "      <th>weight_std</th>\n",
       "      <th>height_std</th>\n",
       "      <th>age_std</th>\n",
       "      <th>weight_log</th>\n",
       "    </tr>\n",
       "  </thead>\n",
       "  <tbody>\n",
       "    <tr>\n",
       "      <th>18</th>\n",
       "      <td>121.92</td>\n",
       "      <td>19.617854</td>\n",
       "      <td>12.0</td>\n",
       "      <td>1</td>\n",
       "      <td>0.134648</td>\n",
       "      <td>0.528300</td>\n",
       "      <td>0.797230</td>\n",
       "      <td>2.976440</td>\n",
       "    </tr>\n",
       "    <tr>\n",
       "      <th>19</th>\n",
       "      <td>105.41</td>\n",
       "      <td>13.947954</td>\n",
       "      <td>8.0</td>\n",
       "      <td>0</td>\n",
       "      <td>-0.499618</td>\n",
       "      <td>-0.112986</td>\n",
       "      <td>0.051829</td>\n",
       "      <td>2.635333</td>\n",
       "    </tr>\n",
       "    <tr>\n",
       "      <th>20</th>\n",
       "      <td>86.36</td>\n",
       "      <td>10.489315</td>\n",
       "      <td>6.5</td>\n",
       "      <td>0</td>\n",
       "      <td>-0.886520</td>\n",
       "      <td>-0.852932</td>\n",
       "      <td>-0.227697</td>\n",
       "      <td>2.350357</td>\n",
       "    </tr>\n",
       "    <tr>\n",
       "      <th>23</th>\n",
       "      <td>129.54</td>\n",
       "      <td>23.586784</td>\n",
       "      <td>13.0</td>\n",
       "      <td>1</td>\n",
       "      <td>0.578634</td>\n",
       "      <td>0.824278</td>\n",
       "      <td>0.983581</td>\n",
       "      <td>3.160687</td>\n",
       "    </tr>\n",
       "    <tr>\n",
       "      <th>24</th>\n",
       "      <td>109.22</td>\n",
       "      <td>15.989118</td>\n",
       "      <td>7.0</td>\n",
       "      <td>0</td>\n",
       "      <td>-0.271282</td>\n",
       "      <td>0.035003</td>\n",
       "      <td>-0.134522</td>\n",
       "      <td>2.771908</td>\n",
       "    </tr>\n",
       "  </tbody>\n",
       "</table>\n",
       "</div>"
      ],
      "text/plain": [
       "    height     weight   age  male  weight_std  height_std   age_std  \\\n",
       "18  121.92  19.617854  12.0     1    0.134648    0.528300  0.797230   \n",
       "19  105.41  13.947954   8.0     0   -0.499618   -0.112986  0.051829   \n",
       "20   86.36  10.489315   6.5     0   -0.886520   -0.852932 -0.227697   \n",
       "23  129.54  23.586784  13.0     1    0.578634    0.824278  0.983581   \n",
       "24  109.22  15.989118   7.0     0   -0.271282    0.035003 -0.134522   \n",
       "\n",
       "    weight_log  \n",
       "18    2.976440  \n",
       "19    2.635333  \n",
       "20    2.350357  \n",
       "23    3.160687  \n",
       "24    2.771908  "
      ]
     },
     "execution_count": 6,
     "metadata": {},
     "output_type": "execute_result"
    }
   ],
   "source": [
    "df = df.loc[df['age'] < 18]\n",
    "df['weight_std'] = standardize(df['weight'])\n",
    "df['height_std'] = standardize(df['height'])\n",
    "df['age_std'] = standardize(df['age'])\n",
    "df['weight_log'] = np.log(df['weight'])\n",
    "df.head()"
   ]
  },
  {
   "cell_type": "code",
   "execution_count": 7,
   "metadata": {},
   "outputs": [
    {
     "data": {
      "text/plain": [
       "18     19.617854\n",
       "19     13.947954\n",
       "20     10.489315\n",
       "23     23.586784\n",
       "24     15.989118\n",
       "         ...    \n",
       "535    17.519991\n",
       "536     7.229123\n",
       "538     8.022908\n",
       "539    31.127751\n",
       "542     8.051258\n",
       "Name: weight, Length: 192, dtype: float64"
      ]
     },
     "execution_count": 7,
     "metadata": {},
     "output_type": "execute_result"
    }
   ],
   "source": [
    "df.weight"
   ]
  },
  {
   "cell_type": "markdown",
   "metadata": {},
   "source": [
    "**(a) Fit a linear regression to these data, using quap. Present and interpret the estimates. For\n",
    "every 10 units of increase in weight, how much taller does the model predict a child gets?**"
   ]
  },
  {
   "cell_type": "code",
   "execution_count": 8,
   "metadata": {},
   "outputs": [
    {
     "name": "stderr",
     "output_type": "stream",
     "text": [
      "Auto-assigning NUTS sampler...\n",
      "Initializing NUTS using jitter+adapt_diag...\n",
      "Multiprocess sampling (4 chains in 4 jobs)\n",
      "NUTS: [sigma, bW, a]\n",
      "Sampling 4 chains, 391 divergences: 100%|██████████| 10000/10000 [00:17<00:00, 568.85draws/s]\n",
      "The acceptance probability does not match the target. It is 0.9997666717737094, but should be close to 0.8. Try to increase the number of tuning steps.\n",
      "The acceptance probability does not match the target. It is 0.999717741469096, but should be close to 0.8. Try to increase the number of tuning steps.\n",
      "The acceptance probability does not match the target. It is 0.9991395159374777, but should be close to 0.8. Try to increase the number of tuning steps.\n",
      "There were 391 divergences after tuning. Increase `target_accept` or reparameterize.\n",
      "The acceptance probability does not match the target. It is 0.14414111931342746, but should be close to 0.8. Try to increase the number of tuning steps.\n",
      "The rhat statistic is larger than 1.05 for some parameters. This indicates slight problems during sampling.\n",
      "The estimated number of effective samples is smaller than 200 for some parameters.\n"
     ]
    }
   ],
   "source": [
    "xbar = df['weight_std'].mean()\n",
    "\n",
    "with pm.Model() as m_kung:\n",
    "    a = pm.Normal('a', 150, 20)\n",
    "    bW = pm.Lognormal('bW', 0, 10)\n",
    "    \n",
    "    sigma = pm.Exponential('sigma', 1)\n",
    "    \n",
    "    mu = pm.Deterministic('mu', a + bW*(df['weight_std']) - xbar)\n",
    "    height = pm.Normal('height', mu=mu, sigma=sigma, observed=df['height_std'])\n",
    "    \n",
    "    kung_trace = pm.sample(2000)"
   ]
  },
  {
   "cell_type": "code",
   "execution_count": 9,
   "metadata": {},
   "outputs": [
    {
     "name": "stderr",
     "output_type": "stream",
     "text": [
      "/home/elisio/anaconda3/lib/python3.7/site-packages/arviz/data/io_pymc3.py:91: FutureWarning: Using `from_pymc3` without the model will be deprecated in a future release. Not using the model will return less accurate and less useful results. Make sure you use the model argument or call from_pymc3 within a model context.\n",
      "  FutureWarning,\n"
     ]
    },
    {
     "data": {
      "text/html": [
       "<div>\n",
       "<style scoped>\n",
       "    .dataframe tbody tr th:only-of-type {\n",
       "        vertical-align: middle;\n",
       "    }\n",
       "\n",
       "    .dataframe tbody tr th {\n",
       "        vertical-align: top;\n",
       "    }\n",
       "\n",
       "    .dataframe thead th {\n",
       "        text-align: right;\n",
       "    }\n",
       "</style>\n",
       "<table border=\"1\" class=\"dataframe\">\n",
       "  <thead>\n",
       "    <tr style=\"text-align: right;\">\n",
       "      <th></th>\n",
       "      <th>mean</th>\n",
       "      <th>sd</th>\n",
       "      <th>hdi_3%</th>\n",
       "      <th>hdi_97%</th>\n",
       "    </tr>\n",
       "  </thead>\n",
       "  <tbody>\n",
       "    <tr>\n",
       "      <th>a</th>\n",
       "      <td>0.00</td>\n",
       "      <td>0.02</td>\n",
       "      <td>-0.05</td>\n",
       "      <td>0.05</td>\n",
       "    </tr>\n",
       "    <tr>\n",
       "      <th>bW</th>\n",
       "      <td>0.94</td>\n",
       "      <td>0.02</td>\n",
       "      <td>0.90</td>\n",
       "      <td>0.98</td>\n",
       "    </tr>\n",
       "    <tr>\n",
       "      <th>sigma</th>\n",
       "      <td>0.33</td>\n",
       "      <td>0.02</td>\n",
       "      <td>0.30</td>\n",
       "      <td>0.37</td>\n",
       "    </tr>\n",
       "  </tbody>\n",
       "</table>\n",
       "</div>"
      ],
      "text/plain": [
       "       mean    sd  hdi_3%  hdi_97%\n",
       "a      0.00  0.02   -0.05     0.05\n",
       "bW     0.94  0.02    0.90     0.98\n",
       "sigma  0.33  0.02    0.30     0.37"
      ]
     },
     "execution_count": 9,
     "metadata": {},
     "output_type": "execute_result"
    }
   ],
   "source": [
    "varnames = ['~mu']\n",
    "az.summary(kung_trace, varnames, round_to=2, kind=\"stats\")"
   ]
  },
  {
   "cell_type": "markdown",
   "metadata": {},
   "source": [
    "For every 10 units of increase in weight the model predicts that the child will be 45.1 cm taller."
   ]
  },
  {
   "cell_type": "markdown",
   "metadata": {},
   "source": [
    "**(b) Plot the raw data, with height on the vertical axis and weight on the horizontal axis. Superimpose the MAP regression line and 89% interval for the mean. Also superimpose the 89% interval for predicted heights.**"
   ]
  },
  {
   "cell_type": "code",
   "execution_count": 10,
   "metadata": {},
   "outputs": [
    {
     "name": "stderr",
     "output_type": "stream",
     "text": [
      "100%|██████████| 8000/8000 [00:16<00:00, 498.42it/s]\n"
     ]
    }
   ],
   "source": [
    "with m_kung:\n",
    "    height_pred = pm.sample_posterior_predictive(trace=kung_trace, vars=[height], size=200)"
   ]
  },
  {
   "cell_type": "code",
   "execution_count": 11,
   "metadata": {},
   "outputs": [],
   "source": [
    "mu_pred = kung_trace['mu']\n",
    "mu_mean = mu_pred.mean(0)"
   ]
  },
  {
   "cell_type": "code",
   "execution_count": 12,
   "metadata": {},
   "outputs": [
    {
     "data": {
      "text/plain": [
       "[<matplotlib.lines.Line2D at 0x7fd1e1defb50>]"
      ]
     },
     "execution_count": 12,
     "metadata": {},
     "output_type": "execute_result"
    },
    {
     "data": {
      "image/png": "[encoded data removed]",
      "text/plain": [
       "<Figure size 432x288 with 1 Axes>"
      ]
     },
     "metadata": {
      "needs_background": "light"
     },
     "output_type": "display_data"
    }
   ],
   "source": [
    "plt.scatter(df.weight_std, df.height_std, alpha=0.5)\n",
    "plt.plot(df.weight_std, mu_mean, '.', color='black')# color='black')#, color='black', '.')"
   ]
  },
  {
   "cell_type": "code",
   "execution_count": 13,
   "metadata": {},
   "outputs": [
    {
     "name": "stderr",
     "output_type": "stream",
     "text": [
      "/home/elisio/anaconda3/lib/python3.7/site-packages/arviz/stats/stats.py:487: FutureWarning: hdi currently interprets 2d data as (draw, shape) but this will change in a future release to (chain, draw) for coherence with other functions\n",
      "  FutureWarning,\n",
      "/home/elisio/anaconda3/lib/python3.7/site-packages/arviz/data/base.py:153: UserWarning: More chains (8000) than draws (200). Passed array should have shape (chains, draws, *shape)\n",
      "  UserWarning,\n"
     ]
    },
    {
     "data": {
      "text/plain": [
       "Text(0.5, 0, 'height')"
      ]
     },
     "execution_count": 13,
     "metadata": {},
     "output_type": "execute_result"
    },
    {
     "data": {
      "image/png": "[encoded data removed]",
      "text/plain": [
       "<Figure size 432x288 with 1 Axes>"
      ]
     },
     "metadata": {
      "needs_background": "light"
     },
     "output_type": "display_data"
    }
   ],
   "source": [
    "ax = az.plot_hdi(df.weight_std, mu_pred, hdi_prob=0.89)\n",
    "az.plot_hdi(df.weight_std, height_pred['height'], ax=ax)\n",
    "plt.scatter(df.weight_std, df.height_std, alpha=0.5)\n",
    "plt.plot(df.weight_std, mu_mean, color='black')# color='black')#, color='black', '.')\n",
    "plt.xlabel('weight')\n",
    "plt.xlabel('height')"
   ]
  },
  {
   "cell_type": "markdown",
   "metadata": {},
   "source": [
    "---"
   ]
  },
  {
   "cell_type": "markdown",
   "metadata": {},
   "source": [
    "**Making some predictions of height and 89% interval, with the model, for the table below.**"
   ]
  },
  {
   "cell_type": "markdown",
   "metadata": {},
   "source": [
    "Table to be filled with predictions"
   ]
  },
  {
   "cell_type": "code",
   "execution_count": 18,
   "metadata": {
    "scrolled": true
   },
   "outputs": [
    {
     "data": {
      "text/html": [
       "<div>\n",
       "<style scoped>\n",
       "    .dataframe tbody tr th:only-of-type {\n",
       "        vertical-align: middle;\n",
       "    }\n",
       "\n",
       "    .dataframe tbody tr th {\n",
       "        vertical-align: top;\n",
       "    }\n",
       "\n",
       "    .dataframe thead th {\n",
       "        text-align: right;\n",
       "    }\n",
       "</style>\n",
       "<table border=\"1\" class=\"dataframe\">\n",
       "  <thead>\n",
       "    <tr style=\"text-align: right;\">\n",
       "      <th></th>\n",
       "      <th>individual</th>\n",
       "      <th>weight</th>\n",
       "      <th>exp_height</th>\n",
       "      <th>interval_89</th>\n",
       "    </tr>\n",
       "  </thead>\n",
       "  <tbody>\n",
       "    <tr>\n",
       "      <th>0</th>\n",
       "      <td>1</td>\n",
       "      <td>45</td>\n",
       "      <td>0</td>\n",
       "      <td></td>\n",
       "    </tr>\n",
       "    <tr>\n",
       "      <th>1</th>\n",
       "      <td>2</td>\n",
       "      <td>40</td>\n",
       "      <td>0</td>\n",
       "      <td></td>\n",
       "    </tr>\n",
       "    <tr>\n",
       "      <th>2</th>\n",
       "      <td>3</td>\n",
       "      <td>65</td>\n",
       "      <td>0</td>\n",
       "      <td></td>\n",
       "    </tr>\n",
       "    <tr>\n",
       "      <th>3</th>\n",
       "      <td>4</td>\n",
       "      <td>31</td>\n",
       "      <td>0</td>\n",
       "      <td></td>\n",
       "    </tr>\n",
       "    <tr>\n",
       "      <th>4</th>\n",
       "      <td>5</td>\n",
       "      <td>53</td>\n",
       "      <td>0</td>\n",
       "      <td></td>\n",
       "    </tr>\n",
       "  </tbody>\n",
       "</table>\n",
       "</div>"
      ],
      "text/plain": [
       "   individual  weight  exp_height interval_89\n",
       "0           1      45           0            \n",
       "1           2      40           0            \n",
       "2           3      65           0            \n",
       "3           4      31           0            \n",
       "4           5      53           0            "
      ]
     },
     "execution_count": 18,
     "metadata": {},
     "output_type": "execute_result"
    }
   ],
   "source": [
    "df_pred = pd.DataFrame({'individual':[1 , 2, 3, 4, 5],\n",
    "                        'weight':[45, 40, 65, 31, 53],\n",
    "                        'exp_height':[0, 0, 0, 0, 0],\n",
    "                        'interval_89':['', '', '', '', '']})\n",
    "df_pred"
   ]
  },
  {
   "cell_type": "markdown",
   "metadata": {},
   "source": [
    "Below we fill the table with the predictions for expected height and the 89% interval."
   ]
  },
  {
   "cell_type": "code",
   "execution_count": 19,
   "metadata": {},
   "outputs": [],
   "source": [
    "for i in range(df_pred.shape[0]):\n",
    "    # expected height\n",
    "    exp_height = kung_trace['a'] + kung_trace['bW']*[df_pred['weight'][i]-df.weight.mean()] \n",
    "    df_pred.loc[i, 'exp_height'] = exp_height.mean()\n",
    "    \n",
    "    # 89% interval\n",
    "    df_pred.loc[i, 'interval_89'] = str(az.hdi(exp_height, hdi_prob=.89))"
   ]
  },
  {
   "cell_type": "code",
   "execution_count": 20,
   "metadata": {},
   "outputs": [
    {
     "data": {
      "text/html": [
       "<div>\n",
       "<style scoped>\n",
       "    .dataframe tbody tr th:only-of-type {\n",
       "        vertical-align: middle;\n",
       "    }\n",
       "\n",
       "    .dataframe tbody tr th {\n",
       "        vertical-align: top;\n",
       "    }\n",
       "\n",
       "    .dataframe thead th {\n",
       "        text-align: right;\n",
       "    }\n",
       "</style>\n",
       "<table border=\"1\" class=\"dataframe\">\n",
       "  <thead>\n",
       "    <tr style=\"text-align: right;\">\n",
       "      <th></th>\n",
       "      <th>individual</th>\n",
       "      <th>weight</th>\n",
       "      <th>exp_height</th>\n",
       "      <th>interval_89</th>\n",
       "    </tr>\n",
       "  </thead>\n",
       "  <tbody>\n",
       "    <tr>\n",
       "      <th>0</th>\n",
       "      <td>1</td>\n",
       "      <td>45</td>\n",
       "      <td>127.719836</td>\n",
       "      <td>[126.38863356 129.01166655]</td>\n",
       "    </tr>\n",
       "    <tr>\n",
       "      <th>1</th>\n",
       "      <td>2</td>\n",
       "      <td>40</td>\n",
       "      <td>118.913985</td>\n",
       "      <td>[117.33658933 120.343153  ]</td>\n",
       "    </tr>\n",
       "    <tr>\n",
       "      <th>2</th>\n",
       "      <td>3</td>\n",
       "      <td>65</td>\n",
       "      <td>162.943237</td>\n",
       "      <td>[162.27618146 163.65839123]</td>\n",
       "    </tr>\n",
       "    <tr>\n",
       "      <th>3</th>\n",
       "      <td>4</td>\n",
       "      <td>31</td>\n",
       "      <td>103.063455</td>\n",
       "      <td>[101.1534733  104.86093871]</td>\n",
       "    </tr>\n",
       "    <tr>\n",
       "      <th>4</th>\n",
       "      <td>5</td>\n",
       "      <td>53</td>\n",
       "      <td>141.809196</td>\n",
       "      <td>[140.77859191 142.80320464]</td>\n",
       "    </tr>\n",
       "  </tbody>\n",
       "</table>\n",
       "</div>"
      ],
      "text/plain": [
       "   individual  weight  exp_height                  interval_89\n",
       "0           1      45  127.719836  [126.38863356 129.01166655]\n",
       "1           2      40  118.913985  [117.33658933 120.343153  ]\n",
       "2           3      65  162.943237  [162.27618146 163.65839123]\n",
       "3           4      31  103.063455  [101.1534733  104.86093871]\n",
       "4           5      53  141.809196  [140.77859191 142.80320464]"
      ]
     },
     "execution_count": 20,
     "metadata": {},
     "output_type": "execute_result"
    }
   ],
   "source": [
    "df_pred"
   ]
  }
 ],
 "metadata": {
  "kernelspec": {
   "display_name": "Python 3",
   "language": "python",
   "name": "python3"
  },
  "language_info": {
   "codemirror_mode": {
    "name": "ipython",
    "version": 3
   },
   "file_extension": ".py",
   "mimetype": "text/x-python",
   "name": "python",
   "nbconvert_exporter": "python",
   "pygments_lexer": "ipython3",
   "version": "3.7.7"
  }
 },
 "nbformat": 4,
 "nbformat_minor": 4
}
