{
 "cells": [
  {
   "cell_type": "code",
   "execution_count": 1,
   "metadata": {},
   "outputs": [],
   "source": [
    "import seaborn as sns\n",
    "import matplotlib.pyplot as plt\n",
    "import pandas as pd\n",
    "import numpy as np"
   ]
  },
  {
   "cell_type": "markdown",
   "metadata": {},
   "source": [
    "### [Air Quality Data Set](https://archive.ics.uci.edu/ml/datasets/Air+Quality)\n",
    "#### Data Set Information:\n",
    "\n",
    "The dataset contains 9358 instances of hourly averaged responses from an array of 5 metal oxide chemical sensors embedded in an Air Quality Chemical Multisensor Device. The device was located on the field in a significantly polluted area, at road level,within an Italian city. Data were recorded from March 2004 to February 2005 (one year)representing the longest freely available recordings of on field deployed air quality chemical sensor devices responses. Ground Truth hourly averaged concentrations for CO, Non Metanic Hydrocarbons, Benzene, Total Nitrogen Oxides (NOx) and Nitrogen Dioxide (NO2) and were provided by a co-located reference certified analyzer. Evidences of cross-sensitivities as well as both concept and sensor drifts are present as described in De Vito et al., Sens. And Act. B, Vol. 129,2,2008 (citation required) eventually affecting sensors concentration estimation capabilities. Missing values are tagged with -200 value.\n",
    "This dataset can be used exclusively for research purposes. Commercial purposes are fully excluded.\n",
    "\n",
    "#### Data Set description:\n",
    "\n",
    "- 0 Date (DD/MM/YYYY)\n",
    "- 1 Time (HH.MM.SS)\n",
    "- 2 True hourly averaged concentration CO in mg/m^3 (reference analyzer)\n",
    "- 3 PT08.S1 (tin oxide) hourly averaged sensor response (nominally CO targeted)\n",
    "- 4 True hourly averaged overall Non Metanic HydroCarbons concentration in microg/m^3 (reference analyzer)\n",
    "- 5 True hourly averaged Benzene concentration in microg/m^3 (reference analyzer)\n",
    "- 6 PT08.S2 (titania) hourly averaged sensor response (nominally NMHC targeted)\n",
    "- 7 True hourly averaged NOx concentration in ppb (reference analyzer)\n",
    "- 8 PT08.S3 (tungsten oxide) hourly averaged sensor response (nominally NOx targeted)\n",
    "- 9 True hourly averaged NO2 concentration in microg/m^3 (reference analyzer)\n",
    "- 10 PT08.S4 (tungsten oxide) hourly averaged sensor response (nominally NO2 targeted)\n",
    "- 11 PT08.S5 (indium oxide) hourly averaged sensor response (nominally O3 targeted)\n",
    "- 12 Temperature in Â°C\n",
    "- 13 Relative Humidity (%)\n",
    "- 14 AH Absolute Humidity\n",
    "\n",
    "#### Analysis\n",
    "\n",
    "The variable to be worked on is the PT08.S1(CO)  "
   ]
  },
  {
   "cell_type": "markdown",
   "metadata": {},
   "source": [
    "### Dataset overview"
   ]
  },
  {
   "cell_type": "code",
   "execution_count": 2,
   "metadata": {
    "scrolled": true
   },
   "outputs": [
    {
     "data": {
      "text/html": [
       "<div>\n",
       "<style scoped>\n",
       "    .dataframe tbody tr th:only-of-type {\n",
       "        vertical-align: middle;\n",
       "    }\n",
       "\n",
       "    .dataframe tbody tr th {\n",
       "        vertical-align: top;\n",
       "    }\n",
       "\n",
       "    .dataframe thead th {\n",
       "        text-align: right;\n",
       "    }\n",
       "</style>\n",
       "<table border=\"1\" class=\"dataframe\">\n",
       "  <thead>\n",
       "    <tr style=\"text-align: right;\">\n",
       "      <th></th>\n",
       "      <th>Date</th>\n",
       "      <th>Time</th>\n",
       "      <th>CO(GT)</th>\n",
       "      <th>PT08.S1(CO)</th>\n",
       "      <th>NMHC(GT)</th>\n",
       "      <th>C6H6(GT)</th>\n",
       "      <th>PT08.S2(NMHC)</th>\n",
       "      <th>NOx(GT)</th>\n",
       "      <th>PT08.S3(NOx)</th>\n",
       "      <th>NO2(GT)</th>\n",
       "      <th>PT08.S4(NO2)</th>\n",
       "      <th>PT08.S5(O3)</th>\n",
       "      <th>T</th>\n",
       "      <th>RH</th>\n",
       "      <th>AH</th>\n",
       "    </tr>\n",
       "  </thead>\n",
       "  <tbody>\n",
       "    <tr>\n",
       "      <th>0</th>\n",
       "      <td>2004-03-10</td>\n",
       "      <td>18:00:00</td>\n",
       "      <td>2.6</td>\n",
       "      <td>1360.00</td>\n",
       "      <td>150</td>\n",
       "      <td>11.881723</td>\n",
       "      <td>1045.50</td>\n",
       "      <td>166.0</td>\n",
       "      <td>1056.25</td>\n",
       "      <td>113.0</td>\n",
       "      <td>1692.00</td>\n",
       "      <td>1267.50</td>\n",
       "      <td>13.600</td>\n",
       "      <td>48.875001</td>\n",
       "      <td>0.757754</td>\n",
       "    </tr>\n",
       "    <tr>\n",
       "      <th>1</th>\n",
       "      <td>2004-03-10</td>\n",
       "      <td>19:00:00</td>\n",
       "      <td>2.0</td>\n",
       "      <td>1292.25</td>\n",
       "      <td>112</td>\n",
       "      <td>9.397165</td>\n",
       "      <td>954.75</td>\n",
       "      <td>103.0</td>\n",
       "      <td>1173.75</td>\n",
       "      <td>92.0</td>\n",
       "      <td>1558.75</td>\n",
       "      <td>972.25</td>\n",
       "      <td>13.300</td>\n",
       "      <td>47.700000</td>\n",
       "      <td>0.725487</td>\n",
       "    </tr>\n",
       "    <tr>\n",
       "      <th>2</th>\n",
       "      <td>2004-03-10</td>\n",
       "      <td>20:00:00</td>\n",
       "      <td>2.2</td>\n",
       "      <td>1402.00</td>\n",
       "      <td>88</td>\n",
       "      <td>8.997817</td>\n",
       "      <td>939.25</td>\n",
       "      <td>131.0</td>\n",
       "      <td>1140.00</td>\n",
       "      <td>114.0</td>\n",
       "      <td>1554.50</td>\n",
       "      <td>1074.00</td>\n",
       "      <td>11.900</td>\n",
       "      <td>53.975000</td>\n",
       "      <td>0.750239</td>\n",
       "    </tr>\n",
       "    <tr>\n",
       "      <th>3</th>\n",
       "      <td>2004-03-10</td>\n",
       "      <td>21:00:00</td>\n",
       "      <td>2.2</td>\n",
       "      <td>1375.50</td>\n",
       "      <td>80</td>\n",
       "      <td>9.228796</td>\n",
       "      <td>948.25</td>\n",
       "      <td>172.0</td>\n",
       "      <td>1092.00</td>\n",
       "      <td>122.0</td>\n",
       "      <td>1583.75</td>\n",
       "      <td>1203.25</td>\n",
       "      <td>11.000</td>\n",
       "      <td>60.000000</td>\n",
       "      <td>0.786713</td>\n",
       "    </tr>\n",
       "    <tr>\n",
       "      <th>4</th>\n",
       "      <td>2004-03-10</td>\n",
       "      <td>22:00:00</td>\n",
       "      <td>1.6</td>\n",
       "      <td>1272.25</td>\n",
       "      <td>51</td>\n",
       "      <td>6.518224</td>\n",
       "      <td>835.50</td>\n",
       "      <td>131.0</td>\n",
       "      <td>1205.00</td>\n",
       "      <td>116.0</td>\n",
       "      <td>1490.00</td>\n",
       "      <td>1110.00</td>\n",
       "      <td>11.150</td>\n",
       "      <td>59.575001</td>\n",
       "      <td>0.788794</td>\n",
       "    </tr>\n",
       "    <tr>\n",
       "      <th>...</th>\n",
       "      <td>...</td>\n",
       "      <td>...</td>\n",
       "      <td>...</td>\n",
       "      <td>...</td>\n",
       "      <td>...</td>\n",
       "      <td>...</td>\n",
       "      <td>...</td>\n",
       "      <td>...</td>\n",
       "      <td>...</td>\n",
       "      <td>...</td>\n",
       "      <td>...</td>\n",
       "      <td>...</td>\n",
       "      <td>...</td>\n",
       "      <td>...</td>\n",
       "      <td>...</td>\n",
       "    </tr>\n",
       "    <tr>\n",
       "      <th>9352</th>\n",
       "      <td>2005-04-04</td>\n",
       "      <td>10:00:00</td>\n",
       "      <td>3.1</td>\n",
       "      <td>1314.25</td>\n",
       "      <td>-200</td>\n",
       "      <td>13.529605</td>\n",
       "      <td>1101.25</td>\n",
       "      <td>471.7</td>\n",
       "      <td>538.50</td>\n",
       "      <td>189.8</td>\n",
       "      <td>1374.25</td>\n",
       "      <td>1728.50</td>\n",
       "      <td>21.850</td>\n",
       "      <td>29.250000</td>\n",
       "      <td>0.756824</td>\n",
       "    </tr>\n",
       "    <tr>\n",
       "      <th>9353</th>\n",
       "      <td>2005-04-04</td>\n",
       "      <td>11:00:00</td>\n",
       "      <td>2.4</td>\n",
       "      <td>1162.50</td>\n",
       "      <td>-200</td>\n",
       "      <td>11.355157</td>\n",
       "      <td>1027.00</td>\n",
       "      <td>353.3</td>\n",
       "      <td>603.75</td>\n",
       "      <td>179.2</td>\n",
       "      <td>1263.50</td>\n",
       "      <td>1269.00</td>\n",
       "      <td>24.325</td>\n",
       "      <td>23.725000</td>\n",
       "      <td>0.711864</td>\n",
       "    </tr>\n",
       "    <tr>\n",
       "      <th>9354</th>\n",
       "      <td>2005-04-04</td>\n",
       "      <td>12:00:00</td>\n",
       "      <td>2.4</td>\n",
       "      <td>1142.00</td>\n",
       "      <td>-200</td>\n",
       "      <td>12.374538</td>\n",
       "      <td>1062.50</td>\n",
       "      <td>293.0</td>\n",
       "      <td>603.25</td>\n",
       "      <td>174.7</td>\n",
       "      <td>1240.75</td>\n",
       "      <td>1092.00</td>\n",
       "      <td>26.900</td>\n",
       "      <td>18.350000</td>\n",
       "      <td>0.640649</td>\n",
       "    </tr>\n",
       "    <tr>\n",
       "      <th>9355</th>\n",
       "      <td>2005-04-04</td>\n",
       "      <td>13:00:00</td>\n",
       "      <td>2.1</td>\n",
       "      <td>1002.50</td>\n",
       "      <td>-200</td>\n",
       "      <td>9.547187</td>\n",
       "      <td>960.50</td>\n",
       "      <td>234.5</td>\n",
       "      <td>701.50</td>\n",
       "      <td>155.7</td>\n",
       "      <td>1041.00</td>\n",
       "      <td>769.75</td>\n",
       "      <td>28.325</td>\n",
       "      <td>13.550000</td>\n",
       "      <td>0.513866</td>\n",
       "    </tr>\n",
       "    <tr>\n",
       "      <th>9356</th>\n",
       "      <td>2005-04-04</td>\n",
       "      <td>14:00:00</td>\n",
       "      <td>2.2</td>\n",
       "      <td>1070.75</td>\n",
       "      <td>-200</td>\n",
       "      <td>11.932060</td>\n",
       "      <td>1047.25</td>\n",
       "      <td>265.2</td>\n",
       "      <td>654.00</td>\n",
       "      <td>167.7</td>\n",
       "      <td>1128.50</td>\n",
       "      <td>816.00</td>\n",
       "      <td>28.500</td>\n",
       "      <td>13.125000</td>\n",
       "      <td>0.502804</td>\n",
       "    </tr>\n",
       "  </tbody>\n",
       "</table>\n",
       "<p>9357 rows × 15 columns</p>\n",
       "</div>"
      ],
      "text/plain": [
       "           Date      Time  CO(GT)  PT08.S1(CO)  NMHC(GT)   C6H6(GT)  \\\n",
       "0    2004-03-10  18:00:00     2.6      1360.00       150  11.881723   \n",
       "1    2004-03-10  19:00:00     2.0      1292.25       112   9.397165   \n",
       "2    2004-03-10  20:00:00     2.2      1402.00        88   8.997817   \n",
       "3    2004-03-10  21:00:00     2.2      1375.50        80   9.228796   \n",
       "4    2004-03-10  22:00:00     1.6      1272.25        51   6.518224   \n",
       "...         ...       ...     ...          ...       ...        ...   \n",
       "9352 2005-04-04  10:00:00     3.1      1314.25      -200  13.529605   \n",
       "9353 2005-04-04  11:00:00     2.4      1162.50      -200  11.355157   \n",
       "9354 2005-04-04  12:00:00     2.4      1142.00      -200  12.374538   \n",
       "9355 2005-04-04  13:00:00     2.1      1002.50      -200   9.547187   \n",
       "9356 2005-04-04  14:00:00     2.2      1070.75      -200  11.932060   \n",
       "\n",
       "      PT08.S2(NMHC)  NOx(GT)  PT08.S3(NOx)  NO2(GT)  PT08.S4(NO2)  \\\n",
       "0           1045.50    166.0       1056.25    113.0       1692.00   \n",
       "1            954.75    103.0       1173.75     92.0       1558.75   \n",
       "2            939.25    131.0       1140.00    114.0       1554.50   \n",
       "3            948.25    172.0       1092.00    122.0       1583.75   \n",
       "4            835.50    131.0       1205.00    116.0       1490.00   \n",
       "...             ...      ...           ...      ...           ...   \n",
       "9352        1101.25    471.7        538.50    189.8       1374.25   \n",
       "9353        1027.00    353.3        603.75    179.2       1263.50   \n",
       "9354        1062.50    293.0        603.25    174.7       1240.75   \n",
       "9355         960.50    234.5        701.50    155.7       1041.00   \n",
       "9356        1047.25    265.2        654.00    167.7       1128.50   \n",
       "\n",
       "      PT08.S5(O3)       T         RH        AH  \n",
       "0         1267.50  13.600  48.875001  0.757754  \n",
       "1          972.25  13.300  47.700000  0.725487  \n",
       "2         1074.00  11.900  53.975000  0.750239  \n",
       "3         1203.25  11.000  60.000000  0.786713  \n",
       "4         1110.00  11.150  59.575001  0.788794  \n",
       "...           ...     ...        ...       ...  \n",
       "9352      1728.50  21.850  29.250000  0.756824  \n",
       "9353      1269.00  24.325  23.725000  0.711864  \n",
       "9354      1092.00  26.900  18.350000  0.640649  \n",
       "9355       769.75  28.325  13.550000  0.513866  \n",
       "9356       816.00  28.500  13.125000  0.502804  \n",
       "\n",
       "[9357 rows x 15 columns]"
      ]
     },
     "execution_count": 2,
     "metadata": {},
     "output_type": "execute_result"
    }
   ],
   "source": [
    "# Load the data set\n",
    "df = pd.read_excel('data/AirQualityUCI.xlsx')\n",
    "df"
   ]
  },
  {
   "cell_type": "code",
   "execution_count": 3,
   "metadata": {},
   "outputs": [
    {
     "data": {
      "text/plain": [
       "Date             datetime64[ns]\n",
       "Time                     object\n",
       "CO(GT)                  float64\n",
       "PT08.S1(CO)             float64\n",
       "NMHC(GT)                  int64\n",
       "C6H6(GT)                float64\n",
       "PT08.S2(NMHC)           float64\n",
       "NOx(GT)                 float64\n",
       "PT08.S3(NOx)            float64\n",
       "NO2(GT)                 float64\n",
       "PT08.S4(NO2)            float64\n",
       "PT08.S5(O3)             float64\n",
       "T                       float64\n",
       "RH                      float64\n",
       "AH                      float64\n",
       "dtype: object"
      ]
     },
     "execution_count": 3,
     "metadata": {},
     "output_type": "execute_result"
    }
   ],
   "source": [
    "# Display the types of each column\n",
    "df.dtypes"
   ]
  },
  {
   "cell_type": "code",
   "execution_count": 4,
   "metadata": {
    "scrolled": true
   },
   "outputs": [
    {
     "data": {
      "text/html": [
       "<div>\n",
       "<style scoped>\n",
       "    .dataframe tbody tr th:only-of-type {\n",
       "        vertical-align: middle;\n",
       "    }\n",
       "\n",
       "    .dataframe tbody tr th {\n",
       "        vertical-align: top;\n",
       "    }\n",
       "\n",
       "    .dataframe thead th {\n",
       "        text-align: right;\n",
       "    }\n",
       "</style>\n",
       "<table border=\"1\" class=\"dataframe\">\n",
       "  <thead>\n",
       "    <tr style=\"text-align: right;\">\n",
       "      <th></th>\n",
       "      <th>CO(GT)</th>\n",
       "      <th>PT08.S1(CO)</th>\n",
       "      <th>NMHC(GT)</th>\n",
       "      <th>C6H6(GT)</th>\n",
       "      <th>PT08.S2(NMHC)</th>\n",
       "      <th>NOx(GT)</th>\n",
       "      <th>PT08.S3(NOx)</th>\n",
       "      <th>NO2(GT)</th>\n",
       "      <th>PT08.S4(NO2)</th>\n",
       "      <th>PT08.S5(O3)</th>\n",
       "      <th>T</th>\n",
       "      <th>RH</th>\n",
       "      <th>AH</th>\n",
       "    </tr>\n",
       "  </thead>\n",
       "  <tbody>\n",
       "    <tr>\n",
       "      <th>count</th>\n",
       "      <td>9357.000000</td>\n",
       "      <td>9357.000000</td>\n",
       "      <td>9357.000000</td>\n",
       "      <td>9357.000000</td>\n",
       "      <td>9357.000000</td>\n",
       "      <td>9357.000000</td>\n",
       "      <td>9357.000000</td>\n",
       "      <td>9357.000000</td>\n",
       "      <td>9357.000000</td>\n",
       "      <td>9357.000000</td>\n",
       "      <td>9357.000000</td>\n",
       "      <td>9357.000000</td>\n",
       "      <td>9357.000000</td>\n",
       "    </tr>\n",
       "    <tr>\n",
       "      <th>mean</th>\n",
       "      <td>-34.207524</td>\n",
       "      <td>1048.869652</td>\n",
       "      <td>-159.090093</td>\n",
       "      <td>1.865576</td>\n",
       "      <td>894.475963</td>\n",
       "      <td>168.604200</td>\n",
       "      <td>794.872333</td>\n",
       "      <td>58.135898</td>\n",
       "      <td>1391.363266</td>\n",
       "      <td>974.951534</td>\n",
       "      <td>9.776600</td>\n",
       "      <td>39.483611</td>\n",
       "      <td>-6.837604</td>\n",
       "    </tr>\n",
       "    <tr>\n",
       "      <th>std</th>\n",
       "      <td>77.657170</td>\n",
       "      <td>329.817015</td>\n",
       "      <td>139.789093</td>\n",
       "      <td>41.380154</td>\n",
       "      <td>342.315902</td>\n",
       "      <td>257.424561</td>\n",
       "      <td>321.977031</td>\n",
       "      <td>126.931428</td>\n",
       "      <td>467.192382</td>\n",
       "      <td>456.922728</td>\n",
       "      <td>43.203438</td>\n",
       "      <td>51.215645</td>\n",
       "      <td>38.976670</td>\n",
       "    </tr>\n",
       "    <tr>\n",
       "      <th>min</th>\n",
       "      <td>-200.000000</td>\n",
       "      <td>-200.000000</td>\n",
       "      <td>-200.000000</td>\n",
       "      <td>-200.000000</td>\n",
       "      <td>-200.000000</td>\n",
       "      <td>-200.000000</td>\n",
       "      <td>-200.000000</td>\n",
       "      <td>-200.000000</td>\n",
       "      <td>-200.000000</td>\n",
       "      <td>-200.000000</td>\n",
       "      <td>-200.000000</td>\n",
       "      <td>-200.000000</td>\n",
       "      <td>-200.000000</td>\n",
       "    </tr>\n",
       "    <tr>\n",
       "      <th>25%</th>\n",
       "      <td>0.600000</td>\n",
       "      <td>921.000000</td>\n",
       "      <td>-200.000000</td>\n",
       "      <td>4.004958</td>\n",
       "      <td>711.000000</td>\n",
       "      <td>50.000000</td>\n",
       "      <td>637.000000</td>\n",
       "      <td>53.000000</td>\n",
       "      <td>1184.750000</td>\n",
       "      <td>699.750000</td>\n",
       "      <td>10.950000</td>\n",
       "      <td>34.050000</td>\n",
       "      <td>0.692275</td>\n",
       "    </tr>\n",
       "    <tr>\n",
       "      <th>50%</th>\n",
       "      <td>1.500000</td>\n",
       "      <td>1052.500000</td>\n",
       "      <td>-200.000000</td>\n",
       "      <td>7.886653</td>\n",
       "      <td>894.500000</td>\n",
       "      <td>141.000000</td>\n",
       "      <td>794.250000</td>\n",
       "      <td>96.000000</td>\n",
       "      <td>1445.500000</td>\n",
       "      <td>942.000000</td>\n",
       "      <td>17.200000</td>\n",
       "      <td>48.550000</td>\n",
       "      <td>0.976823</td>\n",
       "    </tr>\n",
       "    <tr>\n",
       "      <th>75%</th>\n",
       "      <td>2.600000</td>\n",
       "      <td>1221.250000</td>\n",
       "      <td>-200.000000</td>\n",
       "      <td>13.636091</td>\n",
       "      <td>1104.750000</td>\n",
       "      <td>284.200000</td>\n",
       "      <td>960.250000</td>\n",
       "      <td>133.000000</td>\n",
       "      <td>1662.000000</td>\n",
       "      <td>1255.250000</td>\n",
       "      <td>24.075000</td>\n",
       "      <td>61.875000</td>\n",
       "      <td>1.296223</td>\n",
       "    </tr>\n",
       "    <tr>\n",
       "      <th>max</th>\n",
       "      <td>11.900000</td>\n",
       "      <td>2039.750000</td>\n",
       "      <td>1189.000000</td>\n",
       "      <td>63.741476</td>\n",
       "      <td>2214.000000</td>\n",
       "      <td>1479.000000</td>\n",
       "      <td>2682.750000</td>\n",
       "      <td>339.700000</td>\n",
       "      <td>2775.000000</td>\n",
       "      <td>2522.750000</td>\n",
       "      <td>44.600000</td>\n",
       "      <td>88.725000</td>\n",
       "      <td>2.231036</td>\n",
       "    </tr>\n",
       "  </tbody>\n",
       "</table>\n",
       "</div>"
      ],
      "text/plain": [
       "            CO(GT)  PT08.S1(CO)     NMHC(GT)     C6H6(GT)  PT08.S2(NMHC)  \\\n",
       "count  9357.000000  9357.000000  9357.000000  9357.000000    9357.000000   \n",
       "mean    -34.207524  1048.869652  -159.090093     1.865576     894.475963   \n",
       "std      77.657170   329.817015   139.789093    41.380154     342.315902   \n",
       "min    -200.000000  -200.000000  -200.000000  -200.000000    -200.000000   \n",
       "25%       0.600000   921.000000  -200.000000     4.004958     711.000000   \n",
       "50%       1.500000  1052.500000  -200.000000     7.886653     894.500000   \n",
       "75%       2.600000  1221.250000  -200.000000    13.636091    1104.750000   \n",
       "max      11.900000  2039.750000  1189.000000    63.741476    2214.000000   \n",
       "\n",
       "           NOx(GT)  PT08.S3(NOx)      NO2(GT)  PT08.S4(NO2)  PT08.S5(O3)  \\\n",
       "count  9357.000000   9357.000000  9357.000000   9357.000000  9357.000000   \n",
       "mean    168.604200    794.872333    58.135898   1391.363266   974.951534   \n",
       "std     257.424561    321.977031   126.931428    467.192382   456.922728   \n",
       "min    -200.000000   -200.000000  -200.000000   -200.000000  -200.000000   \n",
       "25%      50.000000    637.000000    53.000000   1184.750000   699.750000   \n",
       "50%     141.000000    794.250000    96.000000   1445.500000   942.000000   \n",
       "75%     284.200000    960.250000   133.000000   1662.000000  1255.250000   \n",
       "max    1479.000000   2682.750000   339.700000   2775.000000  2522.750000   \n",
       "\n",
       "                 T           RH           AH  \n",
       "count  9357.000000  9357.000000  9357.000000  \n",
       "mean      9.776600    39.483611    -6.837604  \n",
       "std      43.203438    51.215645    38.976670  \n",
       "min    -200.000000  -200.000000  -200.000000  \n",
       "25%      10.950000    34.050000     0.692275  \n",
       "50%      17.200000    48.550000     0.976823  \n",
       "75%      24.075000    61.875000     1.296223  \n",
       "max      44.600000    88.725000     2.231036  "
      ]
     },
     "execution_count": 4,
     "metadata": {},
     "output_type": "execute_result"
    }
   ],
   "source": [
    "# Summary statistics of each column\n",
    "df.describe()"
   ]
  },
  {
   "cell_type": "markdown",
   "metadata": {},
   "source": [
    "By the description of the dataset it's clear how the missing values (tagged with -200.000 value) are affecting the overall dataset as it's the min for all variables."
   ]
  },
  {
   "cell_type": "markdown",
   "metadata": {},
   "source": [
    "### Cleaning missing data"
   ]
  },
  {
   "cell_type": "code",
   "execution_count": 5,
   "metadata": {},
   "outputs": [],
   "source": [
    "# replace all -200 with NaN\n",
    "df.replace(-200, np.NaN, inplace=True)"
   ]
  },
  {
   "cell_type": "code",
   "execution_count": 6,
   "metadata": {},
   "outputs": [
    {
     "data": {
      "image/png": "[encoded data removed]",
      "text/plain": [
       "<Figure size 1008x576 with 1 Axes>"
      ]
     },
     "metadata": {
      "needs_background": "light"
     },
     "output_type": "display_data"
    }
   ],
   "source": [
    "plt.figure(figsize=(14,8))\n",
    "sns.heatmap(df.isna(), cbar=False, cmap=\"Blues\").set_title(\"Missing data map\")\n",
    "plt.show()"
   ]
  },
  {
   "cell_type": "code",
   "execution_count": 7,
   "metadata": {},
   "outputs": [
    {
     "data": {
      "text/plain": [
       "Date              0.000000\n",
       "Time              0.000000\n",
       "CO(GT)           17.986534\n",
       "PT08.S1(CO)       3.911510\n",
       "NMHC(GT)         90.231912\n",
       "C6H6(GT)          3.911510\n",
       "PT08.S2(NMHC)     3.911510\n",
       "NOx(GT)          17.516298\n",
       "PT08.S3(NOx)      3.911510\n",
       "NO2(GT)          17.548360\n",
       "PT08.S4(NO2)      3.911510\n",
       "PT08.S5(O3)       3.911510\n",
       "T                 3.911510\n",
       "RH                3.911510\n",
       "AH                3.911510\n",
       "dtype: float64"
      ]
     },
     "execution_count": 7,
     "metadata": {},
     "output_type": "execute_result"
    }
   ],
   "source": [
    "# Percentage of missing values per column\n",
    "nan_perc = df.isna().sum()/len(df.index)*100\n",
    "nan_perc"
   ]
  },
  {
   "cell_type": "code",
   "execution_count": 8,
   "metadata": {},
   "outputs": [
    {
     "data": {
      "image/png": "[encoded data removed]",
      "text/plain": [
       "<Figure size 720x288 with 1 Axes>"
      ]
     },
     "metadata": {
      "needs_background": "light"
     },
     "output_type": "display_data"
    }
   ],
   "source": [
    "plt.figure(figsize=(10,4))\n",
    "nan_perc.plot.barh().set_title('% of missing values per column')\n",
    "plt.show()"
   ]
  },
  {
   "cell_type": "markdown",
   "metadata": {},
   "source": [
    "* The concentration of missing values on variable **NMHC(GT)** is considerably high (over 90%).\n",
    "* Columns **NOx(GT)** and **NO2(GT)** seems correlatated regarding missing data.\n",
    "* The columns **PT08.S1(CO)**, **C6H6(GT)**, **PT08.S2(NMHC)**, **PT08.S3(NOx)**, **PT08.S4(NO2)**, **PT08.S5(O3)**, **T**, **RH**, **AH**, are also higly correlated on their missing data patterns.   \n",
    "<br><br>\n",
    "Due to the high concentration of missing values in **NMHC(GT)** it makes sense to drop this column. <br>\n",
    "Three other columns also display a high concentration of missing values **CO(GT), NOx(GT), NO2(GT)** of over 17% and these missing values will be filled with the last valid observation.\n"
   ]
  },
  {
   "cell_type": "code",
   "execution_count": 9,
   "metadata": {},
   "outputs": [
    {
     "data": {
      "text/html": [
       "<div>\n",
       "<style scoped>\n",
       "    .dataframe tbody tr th:only-of-type {\n",
       "        vertical-align: middle;\n",
       "    }\n",
       "\n",
       "    .dataframe tbody tr th {\n",
       "        vertical-align: top;\n",
       "    }\n",
       "\n",
       "    .dataframe thead th {\n",
       "        text-align: right;\n",
       "    }\n",
       "</style>\n",
       "<table border=\"1\" class=\"dataframe\">\n",
       "  <thead>\n",
       "    <tr style=\"text-align: right;\">\n",
       "      <th></th>\n",
       "      <th>Date</th>\n",
       "      <th>Time</th>\n",
       "      <th>CO(GT)</th>\n",
       "      <th>PT08.S1(CO)</th>\n",
       "      <th>C6H6(GT)</th>\n",
       "      <th>PT08.S2(NMHC)</th>\n",
       "      <th>NOx(GT)</th>\n",
       "      <th>PT08.S3(NOx)</th>\n",
       "      <th>NO2(GT)</th>\n",
       "      <th>PT08.S4(NO2)</th>\n",
       "      <th>PT08.S5(O3)</th>\n",
       "      <th>T</th>\n",
       "      <th>RH</th>\n",
       "      <th>AH</th>\n",
       "    </tr>\n",
       "  </thead>\n",
       "  <tbody>\n",
       "    <tr>\n",
       "      <th>0</th>\n",
       "      <td>2004-03-10</td>\n",
       "      <td>18:00:00</td>\n",
       "      <td>2.6</td>\n",
       "      <td>1360.00</td>\n",
       "      <td>11.881723</td>\n",
       "      <td>1045.50</td>\n",
       "      <td>166.0</td>\n",
       "      <td>1056.25</td>\n",
       "      <td>113.0</td>\n",
       "      <td>1692.00</td>\n",
       "      <td>1267.50</td>\n",
       "      <td>13.60</td>\n",
       "      <td>48.875001</td>\n",
       "      <td>0.757754</td>\n",
       "    </tr>\n",
       "    <tr>\n",
       "      <th>1</th>\n",
       "      <td>2004-03-10</td>\n",
       "      <td>19:00:00</td>\n",
       "      <td>2.0</td>\n",
       "      <td>1292.25</td>\n",
       "      <td>9.397165</td>\n",
       "      <td>954.75</td>\n",
       "      <td>103.0</td>\n",
       "      <td>1173.75</td>\n",
       "      <td>92.0</td>\n",
       "      <td>1558.75</td>\n",
       "      <td>972.25</td>\n",
       "      <td>13.30</td>\n",
       "      <td>47.700000</td>\n",
       "      <td>0.725487</td>\n",
       "    </tr>\n",
       "    <tr>\n",
       "      <th>2</th>\n",
       "      <td>2004-03-10</td>\n",
       "      <td>20:00:00</td>\n",
       "      <td>2.2</td>\n",
       "      <td>1402.00</td>\n",
       "      <td>8.997817</td>\n",
       "      <td>939.25</td>\n",
       "      <td>131.0</td>\n",
       "      <td>1140.00</td>\n",
       "      <td>114.0</td>\n",
       "      <td>1554.50</td>\n",
       "      <td>1074.00</td>\n",
       "      <td>11.90</td>\n",
       "      <td>53.975000</td>\n",
       "      <td>0.750239</td>\n",
       "    </tr>\n",
       "    <tr>\n",
       "      <th>3</th>\n",
       "      <td>2004-03-10</td>\n",
       "      <td>21:00:00</td>\n",
       "      <td>2.2</td>\n",
       "      <td>1375.50</td>\n",
       "      <td>9.228796</td>\n",
       "      <td>948.25</td>\n",
       "      <td>172.0</td>\n",
       "      <td>1092.00</td>\n",
       "      <td>122.0</td>\n",
       "      <td>1583.75</td>\n",
       "      <td>1203.25</td>\n",
       "      <td>11.00</td>\n",
       "      <td>60.000000</td>\n",
       "      <td>0.786713</td>\n",
       "    </tr>\n",
       "    <tr>\n",
       "      <th>4</th>\n",
       "      <td>2004-03-10</td>\n",
       "      <td>22:00:00</td>\n",
       "      <td>1.6</td>\n",
       "      <td>1272.25</td>\n",
       "      <td>6.518224</td>\n",
       "      <td>835.50</td>\n",
       "      <td>131.0</td>\n",
       "      <td>1205.00</td>\n",
       "      <td>116.0</td>\n",
       "      <td>1490.00</td>\n",
       "      <td>1110.00</td>\n",
       "      <td>11.15</td>\n",
       "      <td>59.575001</td>\n",
       "      <td>0.788794</td>\n",
       "    </tr>\n",
       "  </tbody>\n",
       "</table>\n",
       "</div>"
      ],
      "text/plain": [
       "        Date      Time  CO(GT)  PT08.S1(CO)   C6H6(GT)  PT08.S2(NMHC)  \\\n",
       "0 2004-03-10  18:00:00     2.6      1360.00  11.881723        1045.50   \n",
       "1 2004-03-10  19:00:00     2.0      1292.25   9.397165         954.75   \n",
       "2 2004-03-10  20:00:00     2.2      1402.00   8.997817         939.25   \n",
       "3 2004-03-10  21:00:00     2.2      1375.50   9.228796         948.25   \n",
       "4 2004-03-10  22:00:00     1.6      1272.25   6.518224         835.50   \n",
       "\n",
       "   NOx(GT)  PT08.S3(NOx)  NO2(GT)  PT08.S4(NO2)  PT08.S5(O3)      T  \\\n",
       "0    166.0       1056.25    113.0       1692.00      1267.50  13.60   \n",
       "1    103.0       1173.75     92.0       1558.75       972.25  13.30   \n",
       "2    131.0       1140.00    114.0       1554.50      1074.00  11.90   \n",
       "3    172.0       1092.00    122.0       1583.75      1203.25  11.00   \n",
       "4    131.0       1205.00    116.0       1490.00      1110.00  11.15   \n",
       "\n",
       "          RH        AH  \n",
       "0  48.875001  0.757754  \n",
       "1  47.700000  0.725487  \n",
       "2  53.975000  0.750239  \n",
       "3  60.000000  0.786713  \n",
       "4  59.575001  0.788794  "
      ]
     },
     "execution_count": 9,
     "metadata": {},
     "output_type": "execute_result"
    }
   ],
   "source": [
    "# Drop column which is full of missing values\n",
    "df.drop(columns=['NMHC(GT)'], inplace=True)\n",
    "df.head()"
   ]
  },
  {
   "cell_type": "code",
   "execution_count": 10,
   "metadata": {},
   "outputs": [],
   "source": [
    "# Fill missing values of all other columns\n",
    "df.fillna(method='ffill', inplace=True)"
   ]
  },
  {
   "cell_type": "code",
   "execution_count": 11,
   "metadata": {
    "scrolled": true
   },
   "outputs": [
    {
     "data": {
      "image/png": "[encoded data removed]",
      "text/plain": [
       "<Figure size 1008x576 with 1 Axes>"
      ]
     },
     "metadata": {
      "needs_background": "light"
     },
     "output_type": "display_data"
    }
   ],
   "source": [
    "plt.figure(figsize=(14,8))\n",
    "sns.heatmap(df.isna(), cbar=False, cmap=\"Blues\").set_title(\"Missing data map\")\n",
    "plt.show()"
   ]
  },
  {
   "cell_type": "markdown",
   "metadata": {},
   "source": [
    "All missing values were gone!"
   ]
  },
  {
   "cell_type": "markdown",
   "metadata": {},
   "source": [
    "### Dealing with outliers"
   ]
  },
  {
   "cell_type": "code",
   "execution_count": 12,
   "metadata": {
    "scrolled": false
   },
   "outputs": [
    {
     "data": {
      "text/plain": [
       "[]"
      ]
     },
     "execution_count": 12,
     "metadata": {},
     "output_type": "execute_result"
    },
    {
     "data": {
      "image/png": "[encoded data removed]",
      "text/plain": [
       "<Figure size 1152x576 with 1 Axes>"
      ]
     },
     "metadata": {
      "needs_background": "light"
     },
     "output_type": "display_data"
    }
   ],
   "source": [
    "# showing the boxplot for all variables (except Date and Time)\n",
    "plt.figure(figsize=(16,8))\n",
    "sns.boxplot(data=df.loc[:, 'CO(GT)':'AH'])\n",
    "plt.plot()"
   ]
  },
  {
   "cell_type": "markdown",
   "metadata": {},
   "source": [
    "By the boxplot it's clear there're some outliers.<br>\n",
    "Q1 and Q3 are the lower and upper quartiles respectively.<br>\n",
    "\n",
    "Considering the [inner fences](https://www.itl.nist.gov/div898/handbook/prc/section1/prc16.htm) to detect outliers:<br>\n",
    "lower inner fence: Q1 - 1.5*IQ<br>\n",
    "upper inner fence: Q3 + 1.5*IQ"
   ]
  },
  {
   "cell_type": "code",
   "execution_count": 13,
   "metadata": {},
   "outputs": [
    {
     "data": {
      "text/plain": [
       "Index(['CO(GT)', 'PT08.S1(CO)', 'C6H6(GT)', 'PT08.S2(NMHC)', 'NOx(GT)',\n",
       "       'PT08.S3(NOx)', 'NO2(GT)', 'PT08.S4(NO2)', 'PT08.S5(O3)', 'T', 'RH',\n",
       "       'AH'],\n",
       "      dtype='object')"
      ]
     },
     "execution_count": 13,
     "metadata": {},
     "output_type": "execute_result"
    }
   ],
   "source": [
    "df.columns[2:]"
   ]
  },
  {
   "cell_type": "code",
   "execution_count": 14,
   "metadata": {},
   "outputs": [],
   "source": [
    "# go through all the columns (starting from column CO(GT)),\n",
    "# calculate the outlier's fences and mark as null each value that\n",
    "# goes beyond these limitations.\n",
    "\n",
    "for col in df.columns[2:]:\n",
    "    q1 = df[col].quantile(.25)\n",
    "    q3 = df[col].quantile(.75)\n",
    "    \n",
    "    lower_f = q1 - 1.5*q1\n",
    "    upper_f = q3 + 1.5*q3\n",
    "    \n",
    "    df[col] = df[col].apply(lambda x: np.nan if ((x<lower_f) or (x>upper_f)) else x)"
   ]
  },
  {
   "cell_type": "code",
   "execution_count": 15,
   "metadata": {},
   "outputs": [
    {
     "data": {
      "image/png": "[encoded data removed]",
      "text/plain": [
       "<Figure size 1008x576 with 1 Axes>"
      ]
     },
     "metadata": {
      "needs_background": "light"
     },
     "output_type": "display_data"
    }
   ],
   "source": [
    "# plot the new map of outliers (marked as null data)\n",
    "plt.figure(figsize=(14,8))\n",
    "sns.heatmap(df.isna(), cbar=False, cmap=\"Blues\").set_title(\"Map of outliers marked as null data\")\n",
    "plt.show()"
   ]
  },
  {
   "cell_type": "code",
   "execution_count": 16,
   "metadata": {},
   "outputs": [
    {
     "data": {
      "text/plain": [
       "Date             0.000000\n",
       "Time             0.000000\n",
       "CO(GT)           0.705354\n",
       "PT08.S1(CO)      0.000000\n",
       "C6H6(GT)         0.897724\n",
       "PT08.S2(NMHC)    0.000000\n",
       "NOx(GT)          2.532863\n",
       "PT08.S3(NOx)     0.032062\n",
       "NO2(GT)          0.000000\n",
       "PT08.S4(NO2)     0.000000\n",
       "PT08.S5(O3)      0.000000\n",
       "T                0.000000\n",
       "RH               0.000000\n",
       "AH               0.000000\n",
       "dtype: float64"
      ]
     },
     "execution_count": 16,
     "metadata": {},
     "output_type": "execute_result"
    }
   ],
   "source": [
    "# Percentage of missing values per column\n",
    "nan_perc = df.isna().sum()/len(df.index)*100\n",
    "nan_perc"
   ]
  },
  {
   "cell_type": "code",
   "execution_count": 17,
   "metadata": {},
   "outputs": [],
   "source": [
    "# Fill missing values of all other columns\n",
    "df.fillna(method='ffill', inplace=True)"
   ]
  },
  {
   "cell_type": "code",
   "execution_count": null,
   "metadata": {},
   "outputs": [],
   "source": []
  }
 ],
 "metadata": {
  "kernelspec": {
   "display_name": "Python 3",
   "language": "python",
   "name": "python3"
  },
  "language_info": {
   "codemirror_mode": {
    "name": "ipython",
    "version": 3
   },
   "file_extension": ".py",
   "mimetype": "text/x-python",
   "name": "python",
   "nbconvert_exporter": "python",
   "pygments_lexer": "ipython3",
   "version": "3.7.4"
  }
 },
 "nbformat": 4,
 "nbformat_minor": 4
}
